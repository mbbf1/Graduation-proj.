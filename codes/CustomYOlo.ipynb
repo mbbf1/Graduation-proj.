{
  "cells": [
    {
      "cell_type": "markdown",
      "metadata": {},
      "source": [
        "# Install Needed Packages\n",
        "## NOTE - Torch must be downloaded from google. as it requires CUDA Config "
      ]
    },
    {
      "cell_type": "code",
      "execution_count": 3,
      "metadata": {},
      "outputs": [
        {
          "name": "stdout",
          "output_type": "stream",
          "text": [
            "Defaulting to user installation because normal site-packages is not writeable\n",
            "Requirement already satisfied: ultralytics in /home/lord/.local/lib/python3.10/site-packages (8.2.28)\n",
            "Collecting cvzone\n",
            "  Downloading cvzone-1.6.1.tar.gz (25 kB)\n",
            "  Preparing metadata (setup.py) ... \u001b[?25ldone\n",
            "\u001b[?25hRequirement already satisfied: pillow>=7.1.2 in /home/lord/.local/lib/python3.10/site-packages (from ultralytics) (9.2.0)\n",
            "Requirement already satisfied: seaborn>=0.11.0 in /home/lord/.local/lib/python3.10/site-packages (from ultralytics) (0.13.2)\n",
            "Requirement already satisfied: psutil in /home/lord/.local/lib/python3.10/site-packages (from ultralytics) (5.9.5)\n",
            "Requirement already satisfied: ultralytics-thop>=0.2.5 in /home/lord/.local/lib/python3.10/site-packages (from ultralytics) (0.2.7)\n",
            "Requirement already satisfied: scipy>=1.4.1 in /home/lord/.local/lib/python3.10/site-packages (from ultralytics) (1.13.0)\n",
            "Requirement already satisfied: pyyaml>=5.3.1 in /home/lord/.local/lib/python3.10/site-packages (from ultralytics) (6.0)\n",
            "Requirement already satisfied: py-cpuinfo in /home/lord/.local/lib/python3.10/site-packages (from ultralytics) (9.0.0)\n",
            "Requirement already satisfied: torch>=1.8.0 in /home/lord/.local/lib/python3.10/site-packages (from ultralytics) (2.3.0)\n",
            "Requirement already satisfied: matplotlib>=3.3.0 in /home/lord/.local/lib/python3.10/site-packages (from ultralytics) (3.8.4)\n",
            "Requirement already satisfied: torchvision>=0.9.0 in /home/lord/.local/lib/python3.10/site-packages (from ultralytics) (0.18.0)\n",
            "Requirement already satisfied: tqdm>=4.64.0 in /home/lord/.local/lib/python3.10/site-packages (from ultralytics) (4.64.1)\n",
            "Requirement already satisfied: opencv-python>=4.6.0 in /home/lord/.local/lib/python3.10/site-packages (from ultralytics) (4.9.0.80)\n",
            "Requirement already satisfied: requests>=2.23.0 in /usr/lib/python3/dist-packages (from ultralytics) (2.25.1)\n",
            "Requirement already satisfied: pandas>=1.1.4 in /home/lord/.local/lib/python3.10/site-packages (from ultralytics) (2.2.2)\n",
            "Requirement already satisfied: numpy in /home/lord/.local/lib/python3.10/site-packages (from cvzone) (1.23.5)\n",
            "Requirement already satisfied: contourpy>=1.0.1 in /home/lord/.local/lib/python3.10/site-packages (from matplotlib>=3.3.0->ultralytics) (1.2.1)\n",
            "Requirement already satisfied: pyparsing>=2.3.1 in /usr/lib/python3/dist-packages (from matplotlib>=3.3.0->ultralytics) (2.4.7)\n",
            "Requirement already satisfied: fonttools>=4.22.0 in /home/lord/.local/lib/python3.10/site-packages (from matplotlib>=3.3.0->ultralytics) (4.51.0)\n",
            "Requirement already satisfied: python-dateutil>=2.7 in /home/lord/.local/lib/python3.10/site-packages (from matplotlib>=3.3.0->ultralytics) (2.9.0.post0)\n",
            "Requirement already satisfied: cycler>=0.10 in /home/lord/.local/lib/python3.10/site-packages (from matplotlib>=3.3.0->ultralytics) (0.12.1)\n",
            "Requirement already satisfied: kiwisolver>=1.3.1 in /home/lord/.local/lib/python3.10/site-packages (from matplotlib>=3.3.0->ultralytics) (1.4.5)\n",
            "Requirement already satisfied: packaging>=20.0 in /home/lord/.local/lib/python3.10/site-packages (from matplotlib>=3.3.0->ultralytics) (24.0)\n",
            "Requirement already satisfied: pytz>=2020.1 in /usr/lib/python3/dist-packages (from pandas>=1.1.4->ultralytics) (2022.1)\n",
            "Requirement already satisfied: tzdata>=2022.7 in /home/lord/.local/lib/python3.10/site-packages (from pandas>=1.1.4->ultralytics) (2024.1)\n",
            "Requirement already satisfied: nvidia-cublas-cu12==12.1.3.1 in /home/lord/.local/lib/python3.10/site-packages (from torch>=1.8.0->ultralytics) (12.1.3.1)\n",
            "Requirement already satisfied: nvidia-nccl-cu12==2.20.5 in /home/lord/.local/lib/python3.10/site-packages (from torch>=1.8.0->ultralytics) (2.20.5)\n",
            "Requirement already satisfied: nvidia-cusparse-cu12==12.1.0.106 in /home/lord/.local/lib/python3.10/site-packages (from torch>=1.8.0->ultralytics) (12.1.0.106)\n",
            "Requirement already satisfied: jinja2 in /home/lord/.local/lib/python3.10/site-packages (from torch>=1.8.0->ultralytics) (3.1.4)\n",
            "Requirement already satisfied: fsspec in /home/lord/.local/lib/python3.10/site-packages (from torch>=1.8.0->ultralytics) (2024.3.1)\n",
            "Requirement already satisfied: networkx in /home/lord/.local/lib/python3.10/site-packages (from torch>=1.8.0->ultralytics) (3.3)\n",
            "Requirement already satisfied: nvidia-cudnn-cu12==8.9.2.26 in /home/lord/.local/lib/python3.10/site-packages (from torch>=1.8.0->ultralytics) (8.9.2.26)\n",
            "Requirement already satisfied: nvidia-cufft-cu12==11.0.2.54 in /home/lord/.local/lib/python3.10/site-packages (from torch>=1.8.0->ultralytics) (11.0.2.54)\n",
            "Requirement already satisfied: nvidia-nvtx-cu12==12.1.105 in /home/lord/.local/lib/python3.10/site-packages (from torch>=1.8.0->ultralytics) (12.1.105)\n",
            "Requirement already satisfied: nvidia-curand-cu12==10.3.2.106 in /home/lord/.local/lib/python3.10/site-packages (from torch>=1.8.0->ultralytics) (10.3.2.106)\n",
            "Requirement already satisfied: typing-extensions>=4.8.0 in /home/lord/.local/lib/python3.10/site-packages (from torch>=1.8.0->ultralytics) (4.11.0)\n",
            "Requirement already satisfied: nvidia-cusolver-cu12==11.4.5.107 in /home/lord/.local/lib/python3.10/site-packages (from torch>=1.8.0->ultralytics) (11.4.5.107)\n",
            "Requirement already satisfied: sympy in /home/lord/.local/lib/python3.10/site-packages (from torch>=1.8.0->ultralytics) (1.12)\n",
            "Requirement already satisfied: nvidia-cuda-nvrtc-cu12==12.1.105 in /home/lord/.local/lib/python3.10/site-packages (from torch>=1.8.0->ultralytics) (12.1.105)\n",
            "Requirement already satisfied: triton==2.3.0 in /home/lord/.local/lib/python3.10/site-packages (from torch>=1.8.0->ultralytics) (2.3.0)\n",
            "Requirement already satisfied: nvidia-cuda-runtime-cu12==12.1.105 in /home/lord/.local/lib/python3.10/site-packages (from torch>=1.8.0->ultralytics) (12.1.105)\n",
            "Requirement already satisfied: filelock in /home/lord/.local/lib/python3.10/site-packages (from torch>=1.8.0->ultralytics) (3.14.0)\n",
            "Requirement already satisfied: nvidia-cuda-cupti-cu12==12.1.105 in /home/lord/.local/lib/python3.10/site-packages (from torch>=1.8.0->ultralytics) (12.1.105)\n",
            "Requirement already satisfied: nvidia-nvjitlink-cu12 in /home/lord/.local/lib/python3.10/site-packages (from nvidia-cusolver-cu12==11.4.5.107->torch>=1.8.0->ultralytics) (12.4.127)\n",
            "Requirement already satisfied: six>=1.5 in /usr/lib/python3/dist-packages (from python-dateutil>=2.7->matplotlib>=3.3.0->ultralytics) (1.16.0)\n",
            "Requirement already satisfied: MarkupSafe>=2.0 in /home/lord/.local/lib/python3.10/site-packages (from jinja2->torch>=1.8.0->ultralytics) (2.1.5)\n",
            "Requirement already satisfied: mpmath>=0.19 in /home/lord/.local/lib/python3.10/site-packages (from sympy->torch>=1.8.0->ultralytics) (1.3.0)\n",
            "Building wheels for collected packages: cvzone\n",
            "  Building wheel for cvzone (setup.py) ... \u001b[?25ldone\n",
            "\u001b[?25h  Created wheel for cvzone: filename=cvzone-1.6.1-py3-none-any.whl size=26317 sha256=abe515e799666f8d463261e3d5cd69d1f42b642f64d0323a61f68a579b42aeec\n",
            "  Stored in directory: /home/lord/.cache/pip/wheels/2c/9f/b3/92e945ac4a71bf727a92463f38155cc5a4fa49c5010b38ec4c\n",
            "Successfully built cvzone\n",
            "Installing collected packages: cvzone\n",
            "Successfully installed cvzone-1.6.1\n"
          ]
        }
      ],
      "source": [
        "!pip install ultralytics cvzone opencv-python"
      ]
    },
    {
      "cell_type": "markdown",
      "metadata": {},
      "source": [
        "# Imports"
      ]
    },
    {
      "cell_type": "code",
      "execution_count": null,
      "metadata": {},
      "outputs": [],
      "source": [
        "import cvzone\n",
        "from ultralytics import YOLO\n",
        "import cv2\n",
        "import torch"
      ]
    },
    {
      "cell_type": "markdown",
      "metadata": {},
      "source": [
        "# Loading Model to CUDA / GPU\n",
        "## YOLO will download the model for you if you do not have it, and you wrote the name correctly. \n",
        "### (Ex.. yolov9m.pt) and it will be auto downloaded online   "
      ]
    },
    {
      "cell_type": "code",
      "execution_count": 1,
      "metadata": {},
      "outputs": [
        {
          "name": "stdout",
          "output_type": "stream",
          "text": [
            "YOLOv9c summary: 618 layers, 25590912 parameters, 0 gradients, 104.0 GFLOPs\n"
          ]
        },
        {
          "data": {
            "text/plain": [
              "(618, 25590912, 0, 104.02268160000003)"
            ]
          },
          "execution_count": 1,
          "metadata": {},
          "output_type": "execute_result"
        }
      ],
      "source": [
        "\n",
        "# load cuda\n",
        "device = torch.device('cuda') if torch.cuda.is_available() else torch.device('cpu')\n",
        "#load model with device\n",
        "model = YOLO('yolov9c.pt').to(device)\n",
        "#V8\n",
        "#model = YOLO(\"yolov8m-drone.pt\").to(device)\n",
        "model.info()\n"
      ]
    },
    {
      "cell_type": "markdown",
      "metadata": {},
      "source": [
        "# Train the model\n",
        "## You can configure this, and it will always save the best trained results in the runs folder"
      ]
    },
    {
      "cell_type": "code",
      "execution_count": 2,
      "metadata": {},
      "outputs": [
        {
          "name": "stdout",
          "output_type": "stream",
          "text": [
            "\u001b[34m\u001b[1mengine/trainer: \u001b[0mtask=detect, mode=train, model=yolov9c.pt, data=drones.yaml, epochs=100, time=None, patience=100, batch=64, imgsz=256, save=True, save_period=-1, cache=False, device=cuda:0, workers=8, project=None, name=train5, exist_ok=False, pretrained=True, optimizer=auto, verbose=True, seed=0, deterministic=True, single_cls=False, rect=False, cos_lr=False, close_mosaic=10, resume=False, amp=True, fraction=1.0, profile=False, freeze=None, multi_scale=False, overlap_mask=True, mask_ratio=4, dropout=0.0, val=True, split=val, save_json=False, save_hybrid=False, conf=None, iou=0.7, max_det=300, half=False, dnn=False, plots=True, source=None, vid_stride=1, stream_buffer=False, visualize=False, augment=False, agnostic_nms=False, classes=None, retina_masks=False, embed=None, show=False, save_frames=False, save_txt=False, save_conf=False, save_crop=False, show_labels=True, show_conf=True, show_boxes=True, line_width=None, format=torchscript, keras=False, optimize=False, int8=False, dynamic=False, simplify=False, opset=None, workspace=4, nms=False, lr0=0.01, lrf=0.01, momentum=0.937, weight_decay=0.0005, warmup_epochs=3.0, warmup_momentum=0.8, warmup_bias_lr=0.1, box=7.5, cls=0.5, dfl=1.5, pose=12.0, kobj=1.0, label_smoothing=0.0, nbs=64, hsv_h=0.015, hsv_s=0.7, hsv_v=0.4, degrees=0.0, translate=0.1, scale=0.5, shear=0.0, perspective=0.0, flipud=0.0, fliplr=0.5, bgr=0.0, mosaic=1.0, mixup=0.0, copy_paste=0.0, auto_augment=randaugment, erasing=0.4, crop_fraction=1.0, cfg=None, tracker=botsort.yaml, save_dir=runs/detect/train5\n",
            "Overriding model.yaml nc=80 with nc=1\n",
            "\n",
            "                   from  n    params  module                                       arguments                     \n",
            "  0                  -1  1      1856  ultralytics.nn.modules.conv.Conv             [3, 64, 3, 2]                 \n",
            "  1                  -1  1     73984  ultralytics.nn.modules.conv.Conv             [64, 128, 3, 2]               \n",
            "  2                  -1  1    212864  ultralytics.nn.modules.block.RepNCSPELAN4    [128, 256, 128, 64, 1]        \n",
            "  3                  -1  1    164352  ultralytics.nn.modules.block.ADown           [256, 256]                    \n",
            "  4                  -1  1    847616  ultralytics.nn.modules.block.RepNCSPELAN4    [256, 512, 256, 128, 1]       \n",
            "  5                  -1  1    656384  ultralytics.nn.modules.block.ADown           [512, 512]                    \n",
            "  6                  -1  1   2857472  ultralytics.nn.modules.block.RepNCSPELAN4    [512, 512, 512, 256, 1]       \n",
            "  7                  -1  1    656384  ultralytics.nn.modules.block.ADown           [512, 512]                    \n",
            "  8                  -1  1   2857472  ultralytics.nn.modules.block.RepNCSPELAN4    [512, 512, 512, 256, 1]       \n",
            "  9                  -1  1    656896  ultralytics.nn.modules.block.SPPELAN         [512, 512, 256]               \n",
            " 10                  -1  1         0  torch.nn.modules.upsampling.Upsample         [None, 2, 'nearest']          \n",
            " 11             [-1, 6]  1         0  ultralytics.nn.modules.conv.Concat           [1]                           \n",
            " 12                  -1  1   3119616  ultralytics.nn.modules.block.RepNCSPELAN4    [1024, 512, 512, 256, 1]      \n",
            " 13                  -1  1         0  torch.nn.modules.upsampling.Upsample         [None, 2, 'nearest']          \n",
            " 14             [-1, 4]  1         0  ultralytics.nn.modules.conv.Concat           [1]                           \n",
            " 15                  -1  1    912640  ultralytics.nn.modules.block.RepNCSPELAN4    [1024, 256, 256, 128, 1]      \n",
            " 16                  -1  1    164352  ultralytics.nn.modules.block.ADown           [256, 256]                    \n",
            " 17            [-1, 12]  1         0  ultralytics.nn.modules.conv.Concat           [1]                           \n",
            " 18                  -1  1   2988544  ultralytics.nn.modules.block.RepNCSPELAN4    [768, 512, 512, 256, 1]       \n",
            " 19                  -1  1    656384  ultralytics.nn.modules.block.ADown           [512, 512]                    \n",
            " 20             [-1, 9]  1         0  ultralytics.nn.modules.conv.Concat           [1]                           \n",
            " 21                  -1  1   3119616  ultralytics.nn.modules.block.RepNCSPELAN4    [1024, 512, 512, 256, 1]      \n",
            " 22        [15, 18, 21]  1   5583571  ultralytics.nn.modules.head.Detect           [1, [256, 512, 512]]          \n",
            "YOLOv9c summary: 618 layers, 25530003 parameters, 25529987 gradients, 103.7 GFLOPs\n",
            "\n",
            "Transferred 931/937 items from pretrained weights\n",
            "\u001b[34m\u001b[1mTensorBoard: \u001b[0mStart with 'tensorboard --logdir runs/detect/train5', view at http://localhost:6006/\n",
            "Freezing layer 'model.22.dfl.conv.weight'\n",
            "\u001b[34m\u001b[1mAMP: \u001b[0mrunning Automatic Mixed Precision (AMP) checks with YOLOv8n...\n"
          ]
        },
        {
          "name": "stderr",
          "output_type": "stream",
          "text": [
            "/home/lord/.local/lib/python3.10/site-packages/tqdm/auto.py:22: TqdmWarning: IProgress not found. Please update jupyter and ipywidgets. See https://ipywidgets.readthedocs.io/en/stable/user_install.html\n",
            "  from .autonotebook import tqdm as notebook_tqdm\n"
          ]
        },
        {
          "name": "stdout",
          "output_type": "stream",
          "text": [
            "\u001b[34m\u001b[1mAMP: \u001b[0mchecks passed ✅\n"
          ]
        },
        {
          "name": "stderr",
          "output_type": "stream",
          "text": [
            "/home/lord/.local/lib/python3.10/site-packages/torch/nn/modules/conv.py:456: UserWarning: Plan failed with a cudnnException: CUDNN_BACKEND_EXECUTION_PLAN_DESCRIPTOR: cudnnFinalize Descriptor Failed cudnn_status: CUDNN_STATUS_NOT_SUPPORTED (Triggered internally at ../aten/src/ATen/native/cudnn/Conv_v8.cpp:919.)\n",
            "  return F.conv2d(input, weight, bias, self.stride,\n",
            "\u001b[34m\u001b[1mtrain: \u001b[0mScanning /media/lord/044EA3BA4EA3A2C2/PycharmProjects/DronesProject/DronesProject/Yolo8/datasets/drone_dataset_yolo/dataset_train.cache... 1097 images, 0 backgrounds, 0 corrupt: 100%|██████████| 1097/1097 [00:00<?, ?it/s]"
          ]
        },
        {
          "name": "stdout",
          "output_type": "stream",
          "text": [
            "\u001b[34m\u001b[1mtrain: \u001b[0mWARNING ⚠️ /media/lord/044EA3BA4EA3A2C2/PycharmProjects/DronesProject/DronesProject/Yolo8/datasets/drone_dataset_yolo/dataset_train/pic_722.jpg: corrupt JPEG restored and saved\n"
          ]
        },
        {
          "name": "stderr",
          "output_type": "stream",
          "text": [
            "\n"
          ]
        },
        {
          "name": "stdout",
          "output_type": "stream",
          "text": [
            "\u001b[34m\u001b[1malbumentations: \u001b[0mBlur(p=0.01, blur_limit=(3, 7)), MedianBlur(p=0.01, blur_limit=(3, 7)), ToGray(p=0.01), CLAHE(p=0.01, clip_limit=(1, 4.0), tile_grid_size=(8, 8))\n"
          ]
        },
        {
          "name": "stderr",
          "output_type": "stream",
          "text": [
            "\u001b[34m\u001b[1mval: \u001b[0mScanning /media/lord/044EA3BA4EA3A2C2/PycharmProjects/DronesProject/DronesProject/Yolo8/datasets/drone_dataset_yolo/dataset_val.cache... 112 images, 0 backgrounds, 0 corrupt: 100%|██████████| 112/112 [00:00<?, ?it/s]\n",
            "libpng warning: iCCP: known incorrect sRGB profile\n"
          ]
        },
        {
          "name": "stdout",
          "output_type": "stream",
          "text": [
            "Plotting labels to runs/detect/train5/labels.jpg... \n"
          ]
        },
        {
          "name": "stderr",
          "output_type": "stream",
          "text": [
            "libpng warning: iCCP: known incorrect sRGB profile\n",
            "libpng warning: iCCP: known incorrect sRGB profile\n"
          ]
        },
        {
          "name": "stdout",
          "output_type": "stream",
          "text": [
            "\u001b[34m\u001b[1moptimizer:\u001b[0m 'optimizer=auto' found, ignoring 'lr0=0.01' and 'momentum=0.937' and determining best 'optimizer', 'lr0' and 'momentum' automatically... \n",
            "\u001b[34m\u001b[1moptimizer:\u001b[0m AdamW(lr=0.002, momentum=0.9) with parameter groups 154 weight(decay=0.0), 161 weight(decay=0.0005), 160 bias(decay=0.0)\n",
            "\u001b[34m\u001b[1mTensorBoard: \u001b[0mmodel graph visualization added ✅\n",
            "Image sizes 256 train, 256 val\n",
            "Using 8 dataloader workers\n",
            "Logging results to \u001b[1mruns/detect/train5\u001b[0m\n",
            "Starting training for 100 epochs...\n",
            "\n",
            "      Epoch    GPU_mem   box_loss   cls_loss   dfl_loss  Instances       Size\n"
          ]
        },
        {
          "name": "stderr",
          "output_type": "stream",
          "text": [
            "      1/100      7.58G      1.839      2.683       1.83        181        256:  39%|███▉      | 7/18 [00:02<00:03,  2.82it/s]libpng warning: iCCP: known incorrect sRGB profile\n",
            "      1/100      7.64G      1.783      2.922      1.781        167        256:  67%|██████▋   | 12/18 [00:04<00:01,  3.08it/s]libpng warning: iCCP: known incorrect sRGB profile\n",
            "      1/100      7.64G      1.707      2.641      1.725        160        256:  83%|████████▎ | 15/18 [00:05<00:00,  3.15it/s]libpng warning: iCCP: known incorrect sRGB profile\n",
            "      1/100      7.64G       1.68      2.496      1.696        189        256:  94%|█████████▍| 17/18 [00:06<00:00,  3.14it/s]/home/lord/.local/lib/python3.10/site-packages/torch/nn/modules/conv.py:456: UserWarning: Plan failed with a cudnnException: CUDNN_BACKEND_EXECUTION_PLAN_DESCRIPTOR: cudnnFinalize Descriptor Failed cudnn_status: CUDNN_STATUS_NOT_SUPPORTED (Triggered internally at ../aten/src/ATen/native/cudnn/Conv_v8.cpp:919.)\n",
            "  return F.conv2d(input, weight, bias, self.stride,\n",
            "      1/100      7.66G       1.66      2.466      1.683         21        256: 100%|██████████| 18/18 [00:06<00:00,  2.86it/s]\n",
            "                 Class     Images  Instances      Box(P          R      mAP50  mAP50-95): 100%|██████████| 1/1 [00:00<00:00,  3.80it/s]"
          ]
        },
        {
          "name": "stdout",
          "output_type": "stream",
          "text": [
            "                   all        112        121     0.0609      0.438     0.0374     0.0117\n"
          ]
        },
        {
          "name": "stderr",
          "output_type": "stream",
          "text": [
            "\n"
          ]
        },
        {
          "name": "stdout",
          "output_type": "stream",
          "text": [
            "\n",
            "      Epoch    GPU_mem   box_loss   cls_loss   dfl_loss  Instances       Size\n"
          ]
        },
        {
          "name": "stderr",
          "output_type": "stream",
          "text": [
            "      2/100      7.63G      1.418      1.451      1.496        171        256:  11%|█         | 2/18 [00:00<00:05,  3.15it/s]libpng warning: iCCP: known incorrect sRGB profile\n",
            "libpng warning: iCCP: known incorrect sRGB profile\n",
            "      2/100      7.65G      1.478      1.296      1.519         23        256: 100%|██████████| 18/18 [00:05<00:00,  3.23it/s]\n",
            "                 Class     Images  Instances      Box(P          R      mAP50  mAP50-95):   0%|          | 0/1 [00:00<?, ?it/s]libpng warning: iCCP: known incorrect sRGB profile\n",
            "                 Class     Images  Instances      Box(P          R      mAP50  mAP50-95): 100%|██████████| 1/1 [00:00<00:00,  4.32it/s]"
          ]
        },
        {
          "name": "stdout",
          "output_type": "stream",
          "text": [
            "                   all        112        121     0.0145      0.438    0.00817    0.00216\n"
          ]
        },
        {
          "name": "stderr",
          "output_type": "stream",
          "text": [
            "\n"
          ]
        },
        {
          "name": "stdout",
          "output_type": "stream",
          "text": [
            "\n",
            "      Epoch    GPU_mem   box_loss   cls_loss   dfl_loss  Instances       Size\n"
          ]
        },
        {
          "name": "stderr",
          "output_type": "stream",
          "text": [
            "      3/100      7.62G      1.518      1.237      1.613        149        256:  11%|█         | 2/18 [00:00<00:05,  2.82it/s]libpng warning: iCCP: known incorrect sRGB profile\n",
            "      3/100      7.62G      1.525      1.242      1.582        171        256:  39%|███▉      | 7/18 [00:02<00:03,  3.00it/s]libpng warning: iCCP: known incorrect sRGB profile\n",
            "      3/100      7.64G      1.499      1.202      1.554         30        256: 100%|██████████| 18/18 [00:05<00:00,  3.20it/s]\n",
            "                 Class     Images  Instances      Box(P          R      mAP50  mAP50-95): 100%|██████████| 1/1 [00:00<00:00,  4.38it/s]"
          ]
        },
        {
          "name": "stdout",
          "output_type": "stream",
          "text": [
            "                   all        112        121   0.000218     0.0579   0.000111   2.32e-05\n"
          ]
        },
        {
          "name": "stderr",
          "output_type": "stream",
          "text": [
            "\n"
          ]
        },
        {
          "name": "stdout",
          "output_type": "stream",
          "text": [
            "\n",
            "      Epoch    GPU_mem   box_loss   cls_loss   dfl_loss  Instances       Size\n"
          ]
        },
        {
          "name": "stderr",
          "output_type": "stream",
          "text": [
            "      4/100      7.61G      1.507      1.195      1.527        163        256:  50%|█████     | 9/18 [00:02<00:02,  3.17it/s]libpng warning: iCCP: known incorrect sRGB profile\n",
            "      4/100      7.61G       1.51      1.196      1.532        178        256:  61%|██████    | 11/18 [00:03<00:02,  3.19it/s]libpng warning: iCCP: known incorrect sRGB profile\n",
            "      4/100      7.64G      1.517      1.207      1.533         27        256: 100%|██████████| 18/18 [00:05<00:00,  3.32it/s]\n",
            "                 Class     Images  Instances      Box(P          R      mAP50  mAP50-95): 100%|██████████| 1/1 [00:00<00:00,  4.46it/s]"
          ]
        },
        {
          "name": "stdout",
          "output_type": "stream",
          "text": [
            "                   all        112        121    0.00522     0.0909    0.00506   0.000943\n"
          ]
        },
        {
          "name": "stderr",
          "output_type": "stream",
          "text": [
            "\n"
          ]
        },
        {
          "name": "stdout",
          "output_type": "stream",
          "text": [
            "\n",
            "      Epoch    GPU_mem   box_loss   cls_loss   dfl_loss  Instances       Size\n"
          ]
        },
        {
          "name": "stderr",
          "output_type": "stream",
          "text": [
            "      5/100      7.61G      1.567       1.23      1.573        191        256:  50%|█████     | 9/18 [00:03<00:03,  2.82it/s]libpng warning: iCCP: known incorrect sRGB profile\n",
            "      5/100      7.61G      1.575      1.287      1.583        156        256:  89%|████████▉ | 16/18 [00:05<00:00,  2.82it/s]libpng warning: iCCP: known incorrect sRGB profile\n",
            "      5/100      7.64G      1.563      1.285      1.574         23        256: 100%|██████████| 18/18 [00:06<00:00,  2.96it/s]\n",
            "                 Class     Images  Instances      Box(P          R      mAP50  mAP50-95):   0%|          | 0/1 [00:00<?, ?it/s]libpng warning: iCCP: known incorrect sRGB profile\n",
            "                 Class     Images  Instances      Box(P          R      mAP50  mAP50-95): 100%|██████████| 1/1 [00:00<00:00,  4.92it/s]"
          ]
        },
        {
          "name": "stdout",
          "output_type": "stream",
          "text": [
            "                   all        112        121    0.00359     0.0331    0.00199   0.000877\n"
          ]
        },
        {
          "name": "stderr",
          "output_type": "stream",
          "text": [
            "\n"
          ]
        },
        {
          "name": "stdout",
          "output_type": "stream",
          "text": [
            "\n",
            "      Epoch    GPU_mem   box_loss   cls_loss   dfl_loss  Instances       Size\n"
          ]
        },
        {
          "name": "stderr",
          "output_type": "stream",
          "text": [
            "      6/100      7.61G      1.651      1.398      1.616        183        256:  44%|████▍     | 8/18 [00:02<00:03,  3.13it/s]libpng warning: iCCP: known incorrect sRGB profile\n",
            "      6/100      7.64G      1.613      1.356       1.59         19        256: 100%|██████████| 18/18 [00:05<00:00,  3.30it/s]\n",
            "                 Class     Images  Instances      Box(P          R      mAP50  mAP50-95): 100%|██████████| 1/1 [00:00<00:00,  4.66it/s]"
          ]
        },
        {
          "name": "stdout",
          "output_type": "stream",
          "text": [
            "                   all        112        121     0.0103     0.0331    0.00283    0.00116\n"
          ]
        },
        {
          "name": "stderr",
          "output_type": "stream",
          "text": [
            "\n"
          ]
        },
        {
          "name": "stdout",
          "output_type": "stream",
          "text": [
            "\n",
            "      Epoch    GPU_mem   box_loss   cls_loss   dfl_loss  Instances       Size\n"
          ]
        },
        {
          "name": "stderr",
          "output_type": "stream",
          "text": [
            "      7/100      7.62G      1.501      1.266      1.532        195        256:  33%|███▎      | 6/18 [00:01<00:03,  3.11it/s]libpng warning: iCCP: known incorrect sRGB profile\n",
            "      7/100      7.64G      1.529      1.264      1.563         17        256: 100%|██████████| 18/18 [00:05<00:00,  3.26it/s]\n",
            "                 Class     Images  Instances      Box(P          R      mAP50  mAP50-95): 100%|██████████| 1/1 [00:00<00:00,  4.59it/s]"
          ]
        },
        {
          "name": "stdout",
          "output_type": "stream",
          "text": [
            "                   all        112        121     0.0103     0.0331    0.00283    0.00116\n"
          ]
        },
        {
          "name": "stderr",
          "output_type": "stream",
          "text": [
            "\n"
          ]
        },
        {
          "name": "stdout",
          "output_type": "stream",
          "text": [
            "\n",
            "      Epoch    GPU_mem   box_loss   cls_loss   dfl_loss  Instances       Size\n"
          ]
        },
        {
          "name": "stderr",
          "output_type": "stream",
          "text": [
            "      8/100      7.61G      1.551      1.275      1.564        167        256:  50%|█████     | 9/18 [00:02<00:02,  3.13it/s]libpng warning: iCCP: known incorrect sRGB profile\n",
            "      8/100      7.64G      1.501      1.226      1.529         28        256: 100%|██████████| 18/18 [00:05<00:00,  3.26it/s]\n",
            "                 Class     Images  Instances      Box(P          R      mAP50  mAP50-95): 100%|██████████| 1/1 [00:00<00:00,  4.45it/s]"
          ]
        },
        {
          "name": "stdout",
          "output_type": "stream",
          "text": [
            "                   all        112        121      0.056     0.0826     0.0208    0.00407\n"
          ]
        },
        {
          "name": "stderr",
          "output_type": "stream",
          "text": [
            "\n"
          ]
        },
        {
          "name": "stdout",
          "output_type": "stream",
          "text": [
            "\n",
            "      Epoch    GPU_mem   box_loss   cls_loss   dfl_loss  Instances       Size\n"
          ]
        },
        {
          "name": "stderr",
          "output_type": "stream",
          "text": [
            "      9/100      7.62G      1.499      1.204      1.526        177        256:  11%|█         | 2/18 [00:00<00:05,  3.09it/s]libpng warning: iCCP: known incorrect sRGB profile\n",
            "      9/100      7.62G       1.49      1.194       1.52        191        256:  28%|██▊       | 5/18 [00:01<00:04,  3.14it/s]libpng warning: iCCP: known incorrect sRGB profile\n",
            "      9/100      7.62G       1.47      1.183      1.487        180        256:  67%|██████▋   | 12/18 [00:03<00:02,  2.90it/s]libpng warning: iCCP: known incorrect sRGB profile\n",
            "      9/100      7.64G      1.462      1.174      1.481         28        256: 100%|██████████| 18/18 [00:05<00:00,  3.07it/s]\n",
            "                 Class     Images  Instances      Box(P          R      mAP50  mAP50-95): 100%|██████████| 1/1 [00:00<00:00,  2.82it/s]"
          ]
        },
        {
          "name": "stdout",
          "output_type": "stream",
          "text": [
            "                   all        112        121     0.0651     0.0661     0.0155    0.00333\n"
          ]
        },
        {
          "name": "stderr",
          "output_type": "stream",
          "text": [
            "\n"
          ]
        },
        {
          "name": "stdout",
          "output_type": "stream",
          "text": [
            "\n",
            "      Epoch    GPU_mem   box_loss   cls_loss   dfl_loss  Instances       Size\n"
          ]
        },
        {
          "name": "stderr",
          "output_type": "stream",
          "text": [
            "     10/100      7.48G      1.442       1.13      1.465        156        256:  39%|███▉      | 7/18 [00:02<00:03,  3.04it/s]libpng warning: iCCP: known incorrect sRGB profile\n",
            "     10/100      7.51G      1.407      1.107      1.442         29        256: 100%|██████████| 18/18 [00:05<00:00,  3.23it/s]\n",
            "                 Class     Images  Instances      Box(P          R      mAP50  mAP50-95):   0%|          | 0/1 [00:00<?, ?it/s]libpng warning: iCCP: known incorrect sRGB profile\n",
            "                 Class     Images  Instances      Box(P          R      mAP50  mAP50-95): 100%|██████████| 1/1 [00:00<00:00,  4.48it/s]"
          ]
        },
        {
          "name": "stdout",
          "output_type": "stream",
          "text": [
            "                   all        112        121     0.0946      0.107     0.0461     0.0125\n"
          ]
        },
        {
          "name": "stderr",
          "output_type": "stream",
          "text": [
            "\n"
          ]
        },
        {
          "name": "stdout",
          "output_type": "stream",
          "text": [
            "\n",
            "      Epoch    GPU_mem   box_loss   cls_loss   dfl_loss  Instances       Size\n"
          ]
        },
        {
          "name": "stderr",
          "output_type": "stream",
          "text": [
            "     11/100      7.64G      1.403      1.081      1.436         25        256: 100%|██████████| 18/18 [00:06<00:00,  2.89it/s]\n",
            "                 Class     Images  Instances      Box(P          R      mAP50  mAP50-95): 100%|██████████| 1/1 [00:00<00:00,  2.39it/s]"
          ]
        },
        {
          "name": "stdout",
          "output_type": "stream",
          "text": [
            "                   all        112        121      0.319      0.223       0.17     0.0525\n"
          ]
        },
        {
          "name": "stderr",
          "output_type": "stream",
          "text": [
            "\n"
          ]
        },
        {
          "name": "stdout",
          "output_type": "stream",
          "text": [
            "\n",
            "      Epoch    GPU_mem   box_loss   cls_loss   dfl_loss  Instances       Size\n"
          ]
        },
        {
          "name": "stderr",
          "output_type": "stream",
          "text": [
            "  0%|          | 0/18 [00:00<?, ?it/s]libpng warning: iCCP: known incorrect sRGB profile\n",
            "     12/100      7.61G      1.433      1.086      1.452        181        256:  50%|█████     | 9/18 [00:02<00:02,  3.17it/s]libpng warning: iCCP: known incorrect sRGB profile\n",
            "     12/100      7.61G      1.418      1.088      1.448        208        256:  72%|███████▏  | 13/18 [00:04<00:01,  2.90it/s]libpng warning: iCCP: known incorrect sRGB profile\n",
            "     12/100      7.64G      1.419      1.087      1.451         29        256: 100%|██████████| 18/18 [00:05<00:00,  3.18it/s]\n",
            "                 Class     Images  Instances      Box(P          R      mAP50  mAP50-95): 100%|██████████| 1/1 [00:00<00:00,  4.31it/s]"
          ]
        },
        {
          "name": "stdout",
          "output_type": "stream",
          "text": [
            "                   all        112        121      0.341      0.231      0.133      0.044\n"
          ]
        },
        {
          "name": "stderr",
          "output_type": "stream",
          "text": [
            "\n"
          ]
        },
        {
          "name": "stdout",
          "output_type": "stream",
          "text": [
            "\n",
            "      Epoch    GPU_mem   box_loss   cls_loss   dfl_loss  Instances       Size\n"
          ]
        },
        {
          "name": "stderr",
          "output_type": "stream",
          "text": [
            "     13/100      7.61G      1.399       1.03      1.433        180        256:  17%|█▋        | 3/18 [00:00<00:04,  3.13it/s]libpng warning: iCCP: known incorrect sRGB profile\n",
            "     13/100      7.61G      1.378       1.03      1.417        162        256:  78%|███████▊  | 14/18 [00:04<00:01,  3.14it/s]libpng warning: iCCP: known incorrect sRGB profile\n",
            "     13/100      7.64G      1.377      1.032      1.425         28        256: 100%|██████████| 18/18 [00:05<00:00,  3.28it/s]\n",
            "                 Class     Images  Instances      Box(P          R      mAP50  mAP50-95):   0%|          | 0/1 [00:00<?, ?it/s]libpng warning: iCCP: known incorrect sRGB profile\n",
            "                 Class     Images  Instances      Box(P          R      mAP50  mAP50-95): 100%|██████████| 1/1 [00:00<00:00,  4.45it/s]"
          ]
        },
        {
          "name": "stdout",
          "output_type": "stream",
          "text": [
            "                   all        112        121      0.241      0.264      0.159      0.047\n"
          ]
        },
        {
          "name": "stderr",
          "output_type": "stream",
          "text": [
            "\n"
          ]
        },
        {
          "name": "stdout",
          "output_type": "stream",
          "text": [
            "\n",
            "      Epoch    GPU_mem   box_loss   cls_loss   dfl_loss  Instances       Size\n"
          ]
        },
        {
          "name": "stderr",
          "output_type": "stream",
          "text": [
            "     14/100      7.48G      1.408      1.047      1.445        155        256:  17%|█▋        | 3/18 [00:00<00:04,  3.12it/s]libpng warning: iCCP: known incorrect sRGB profile\n",
            "     14/100      7.48G      1.371      1.025      1.408        167        256:  61%|██████    | 11/18 [00:03<00:02,  3.18it/s]libpng warning: iCCP: known incorrect sRGB profile\n",
            "     14/100      7.48G      1.369      1.021      1.415        161        256:  94%|█████████▍| 17/18 [00:05<00:00,  3.17it/s]libpng warning: iCCP: known incorrect sRGB profile\n",
            "     14/100      7.51G      1.359      1.018      1.411         24        256: 100%|██████████| 18/18 [00:05<00:00,  3.30it/s]\n",
            "                 Class     Images  Instances      Box(P          R      mAP50  mAP50-95): 100%|██████████| 1/1 [00:00<00:00,  2.82it/s]"
          ]
        },
        {
          "name": "stdout",
          "output_type": "stream",
          "text": [
            "                   all        112        121      0.347      0.231        0.2     0.0707\n"
          ]
        },
        {
          "name": "stderr",
          "output_type": "stream",
          "text": [
            "\n"
          ]
        },
        {
          "name": "stdout",
          "output_type": "stream",
          "text": [
            "\n",
            "      Epoch    GPU_mem   box_loss   cls_loss   dfl_loss  Instances       Size\n"
          ]
        },
        {
          "name": "stderr",
          "output_type": "stream",
          "text": [
            "     15/100      7.48G      1.365      1.015      1.411        167        256:  33%|███▎      | 6/18 [00:01<00:03,  3.18it/s]libpng warning: iCCP: known incorrect sRGB profile\n",
            "     15/100      7.51G      1.327      0.993      1.383         28        256: 100%|██████████| 18/18 [00:05<00:00,  3.24it/s]\n",
            "                 Class     Images  Instances      Box(P          R      mAP50  mAP50-95): 100%|██████████| 1/1 [00:00<00:00,  2.80it/s]"
          ]
        },
        {
          "name": "stdout",
          "output_type": "stream",
          "text": [
            "                   all        112        121      0.358      0.413      0.269     0.0819\n"
          ]
        },
        {
          "name": "stderr",
          "output_type": "stream",
          "text": [
            "\n"
          ]
        },
        {
          "name": "stdout",
          "output_type": "stream",
          "text": [
            "\n",
            "      Epoch    GPU_mem   box_loss   cls_loss   dfl_loss  Instances       Size\n"
          ]
        },
        {
          "name": "stderr",
          "output_type": "stream",
          "text": [
            "     16/100       7.5G      1.334     0.9804      1.397        170        256:  83%|████████▎ | 15/18 [00:04<00:00,  3.19it/s]libpng warning: iCCP: known incorrect sRGB profile\n",
            "     16/100      7.52G      1.337     0.9808      1.395         31        256: 100%|██████████| 18/18 [00:05<00:00,  3.25it/s]\n",
            "                 Class     Images  Instances      Box(P          R      mAP50  mAP50-95): 100%|██████████| 1/1 [00:00<00:00,  4.38it/s]"
          ]
        },
        {
          "name": "stdout",
          "output_type": "stream",
          "text": [
            "                   all        112        121      0.509      0.372      0.392      0.162\n"
          ]
        },
        {
          "name": "stderr",
          "output_type": "stream",
          "text": [
            "\n"
          ]
        },
        {
          "name": "stdout",
          "output_type": "stream",
          "text": [
            "\n",
            "      Epoch    GPU_mem   box_loss   cls_loss   dfl_loss  Instances       Size\n"
          ]
        },
        {
          "name": "stderr",
          "output_type": "stream",
          "text": [
            "     17/100      7.51G      1.308     0.9745      1.368         26        256: 100%|██████████| 18/18 [00:05<00:00,  3.27it/s]\n",
            "                 Class     Images  Instances      Box(P          R      mAP50  mAP50-95): 100%|██████████| 1/1 [00:00<00:00,  2.75it/s]"
          ]
        },
        {
          "name": "stdout",
          "output_type": "stream",
          "text": [
            "                   all        112        121      0.431      0.248      0.228     0.0924\n"
          ]
        },
        {
          "name": "stderr",
          "output_type": "stream",
          "text": [
            "\n"
          ]
        },
        {
          "name": "stdout",
          "output_type": "stream",
          "text": [
            "\n",
            "      Epoch    GPU_mem   box_loss   cls_loss   dfl_loss  Instances       Size\n"
          ]
        },
        {
          "name": "stderr",
          "output_type": "stream",
          "text": [
            "     18/100      7.48G       1.29     0.9274      1.371        167        256:  78%|███████▊  | 14/18 [00:04<00:01,  2.83it/s]libpng warning: iCCP: known incorrect sRGB profile\n",
            "libpng warning: iCCP: known incorrect sRGB profile\n",
            "     18/100      7.51G      1.287     0.9235      1.363         22        256: 100%|██████████| 18/18 [00:05<00:00,  3.00it/s]\n",
            "                 Class     Images  Instances      Box(P          R      mAP50  mAP50-95): 100%|██████████| 1/1 [00:00<00:00,  3.96it/s]"
          ]
        },
        {
          "name": "stdout",
          "output_type": "stream",
          "text": [
            "                   all        112        121       0.46      0.364      0.317      0.112\n"
          ]
        },
        {
          "name": "stderr",
          "output_type": "stream",
          "text": [
            "\n"
          ]
        },
        {
          "name": "stdout",
          "output_type": "stream",
          "text": [
            "\n",
            "      Epoch    GPU_mem   box_loss   cls_loss   dfl_loss  Instances       Size\n"
          ]
        },
        {
          "name": "stderr",
          "output_type": "stream",
          "text": [
            "     19/100      7.61G      1.312     0.9456       1.37        180        256:  22%|██▏       | 4/18 [00:01<00:04,  3.19it/s]libpng warning: iCCP: known incorrect sRGB profile\n",
            "     19/100      7.61G      1.295     0.9162      1.363        161        256:  89%|████████▉ | 16/18 [00:05<00:00,  3.17it/s]libpng warning: iCCP: known incorrect sRGB profile\n",
            "     19/100      7.64G      1.287      0.911      1.356         23        256: 100%|██████████| 18/18 [00:05<00:00,  3.31it/s]\n",
            "                 Class     Images  Instances      Box(P          R      mAP50  mAP50-95): 100%|██████████| 1/1 [00:00<00:00,  4.42it/s]"
          ]
        },
        {
          "name": "stdout",
          "output_type": "stream",
          "text": [
            "                   all        112        121      0.672       0.62      0.561      0.179\n"
          ]
        },
        {
          "name": "stderr",
          "output_type": "stream",
          "text": [
            "\n"
          ]
        },
        {
          "name": "stdout",
          "output_type": "stream",
          "text": [
            "\n",
            "      Epoch    GPU_mem   box_loss   cls_loss   dfl_loss  Instances       Size\n"
          ]
        },
        {
          "name": "stderr",
          "output_type": "stream",
          "text": [
            "     20/100      7.48G      1.301     0.9207      1.355        181        256:  44%|████▍     | 8/18 [00:02<00:03,  3.16it/s]libpng warning: iCCP: known incorrect sRGB profile\n",
            "     20/100      7.48G      1.301     0.9197      1.352        182        256:  50%|█████     | 9/18 [00:02<00:02,  3.16it/s]libpng warning: iCCP: known incorrect sRGB profile\n",
            "     20/100      7.51G      1.283      0.909       1.35         29        256: 100%|██████████| 18/18 [00:05<00:00,  3.30it/s]\n",
            "                 Class     Images  Instances      Box(P          R      mAP50  mAP50-95): 100%|██████████| 1/1 [00:00<00:00,  4.44it/s]"
          ]
        },
        {
          "name": "stdout",
          "output_type": "stream",
          "text": [
            "                   all        112        121      0.375      0.405      0.294      0.113\n"
          ]
        },
        {
          "name": "stderr",
          "output_type": "stream",
          "text": [
            "\n",
            "libpng warning: iCCP: known incorrect sRGB profile\n"
          ]
        },
        {
          "name": "stdout",
          "output_type": "stream",
          "text": [
            "\n",
            "      Epoch    GPU_mem   box_loss   cls_loss   dfl_loss  Instances       Size\n"
          ]
        },
        {
          "name": "stderr",
          "output_type": "stream",
          "text": [
            "     21/100      7.63G      1.277     0.9019      1.348        176        256:  94%|█████████▍| 17/18 [00:06<00:00,  2.80it/s]libpng warning: iCCP: known incorrect sRGB profile\n",
            "     21/100      7.65G      1.269     0.8969      1.348         23        256: 100%|██████████| 18/18 [00:06<00:00,  2.85it/s]\n",
            "                 Class     Images  Instances      Box(P          R      mAP50  mAP50-95): 100%|██████████| 1/1 [00:00<00:00,  2.78it/s]"
          ]
        },
        {
          "name": "stdout",
          "output_type": "stream",
          "text": [
            "                   all        112        121      0.443      0.349       0.31     0.0934\n"
          ]
        },
        {
          "name": "stderr",
          "output_type": "stream",
          "text": [
            "\n"
          ]
        },
        {
          "name": "stdout",
          "output_type": "stream",
          "text": [
            "\n",
            "      Epoch    GPU_mem   box_loss   cls_loss   dfl_loss  Instances       Size\n"
          ]
        },
        {
          "name": "stderr",
          "output_type": "stream",
          "text": [
            "     22/100      7.61G      1.283     0.9058      1.349        182        256:  22%|██▏       | 4/18 [00:01<00:04,  3.15it/s]libpng warning: iCCP: known incorrect sRGB profile\n",
            "libpng warning: iCCP: known incorrect sRGB profile\n",
            "     22/100      7.64G      1.267     0.8871      1.346         31        256: 100%|██████████| 18/18 [00:05<00:00,  3.21it/s]\n",
            "                 Class     Images  Instances      Box(P          R      mAP50  mAP50-95):   0%|          | 0/1 [00:00<?, ?it/s]libpng warning: iCCP: known incorrect sRGB profile\n",
            "                 Class     Images  Instances      Box(P          R      mAP50  mAP50-95): 100%|██████████| 1/1 [00:00<00:00,  2.73it/s]"
          ]
        },
        {
          "name": "stdout",
          "output_type": "stream",
          "text": [
            "                   all        112        121      0.402      0.455      0.323      0.115\n"
          ]
        },
        {
          "name": "stderr",
          "output_type": "stream",
          "text": [
            "\n"
          ]
        },
        {
          "name": "stdout",
          "output_type": "stream",
          "text": [
            "\n",
            "      Epoch    GPU_mem   box_loss   cls_loss   dfl_loss  Instances       Size\n"
          ]
        },
        {
          "name": "stderr",
          "output_type": "stream",
          "text": [
            "     23/100      7.62G      1.279     0.8716      1.347        179        256:  33%|███▎      | 6/18 [00:02<00:04,  2.85it/s]libpng warning: iCCP: known incorrect sRGB profile\n",
            "     23/100      7.62G      1.273     0.8654      1.347        162        256:  50%|█████     | 9/18 [00:03<00:03,  2.83it/s]libpng warning: iCCP: known incorrect sRGB profile\n",
            "     23/100      7.62G      1.257     0.8602       1.34        165        256:  61%|██████    | 11/18 [00:03<00:02,  2.79it/s]libpng warning: iCCP: known incorrect sRGB profile\n",
            "     23/100      7.64G      1.252     0.8546      1.346         17        256: 100%|██████████| 18/18 [00:05<00:00,  3.09it/s]\n",
            "                 Class     Images  Instances      Box(P          R      mAP50  mAP50-95): 100%|██████████| 1/1 [00:00<00:00,  4.44it/s]"
          ]
        },
        {
          "name": "stdout",
          "output_type": "stream",
          "text": [
            "                   all        112        121      0.451      0.434      0.351      0.115\n"
          ]
        },
        {
          "name": "stderr",
          "output_type": "stream",
          "text": [
            "\n"
          ]
        },
        {
          "name": "stdout",
          "output_type": "stream",
          "text": [
            "\n",
            "      Epoch    GPU_mem   box_loss   cls_loss   dfl_loss  Instances       Size\n"
          ]
        },
        {
          "name": "stderr",
          "output_type": "stream",
          "text": [
            "     24/100      7.61G      1.214     0.8321      1.334        174        256:  33%|███▎      | 6/18 [00:02<00:04,  2.87it/s]libpng warning: iCCP: known incorrect sRGB profile\n",
            "     24/100      7.61G      1.224     0.8545      1.333        163        256:  72%|███████▏  | 13/18 [00:04<00:01,  3.11it/s]libpng warning: iCCP: known incorrect sRGB profile\n",
            "     24/100      7.64G       1.23     0.8507      1.326         30        256: 100%|██████████| 18/18 [00:05<00:00,  3.11it/s]\n",
            "                 Class     Images  Instances      Box(P          R      mAP50  mAP50-95): 100%|██████████| 1/1 [00:00<00:00,  4.44it/s]"
          ]
        },
        {
          "name": "stdout",
          "output_type": "stream",
          "text": [
            "                   all        112        121      0.549      0.322      0.341      0.146\n"
          ]
        },
        {
          "name": "stderr",
          "output_type": "stream",
          "text": [
            "\n"
          ]
        },
        {
          "name": "stdout",
          "output_type": "stream",
          "text": [
            "\n",
            "      Epoch    GPU_mem   box_loss   cls_loss   dfl_loss  Instances       Size\n"
          ]
        },
        {
          "name": "stderr",
          "output_type": "stream",
          "text": [
            "     25/100      7.61G      1.261      0.835      1.327        178        256:  28%|██▊       | 5/18 [00:01<00:04,  2.80it/s]libpng warning: iCCP: known incorrect sRGB profile\n",
            "     25/100      7.61G      1.247     0.8348      1.318        163        256:  44%|████▍     | 8/18 [00:02<00:03,  2.79it/s]libpng warning: iCCP: known incorrect sRGB profile\n",
            "     25/100      7.64G      1.221     0.8285      1.309         25        256: 100%|██████████| 18/18 [00:05<00:00,  3.05it/s]\n",
            "                 Class     Images  Instances      Box(P          R      mAP50  mAP50-95): 100%|██████████| 1/1 [00:00<00:00,  4.46it/s]"
          ]
        },
        {
          "name": "stdout",
          "output_type": "stream",
          "text": [
            "                   all        112        121      0.676      0.562      0.617      0.264\n"
          ]
        },
        {
          "name": "stderr",
          "output_type": "stream",
          "text": [
            "\n"
          ]
        },
        {
          "name": "stdout",
          "output_type": "stream",
          "text": [
            "\n",
            "      Epoch    GPU_mem   box_loss   cls_loss   dfl_loss  Instances       Size\n"
          ]
        },
        {
          "name": "stderr",
          "output_type": "stream",
          "text": [
            "     26/100      7.48G      1.215     0.8222      1.312        200        256:  78%|███████▊  | 14/18 [00:04<00:01,  3.16it/s]libpng warning: iCCP: known incorrect sRGB profile\n",
            "     26/100      7.51G      1.227     0.8226      1.319         25        256: 100%|██████████| 18/18 [00:05<00:00,  3.28it/s]\n",
            "                 Class     Images  Instances      Box(P          R      mAP50  mAP50-95): 100%|██████████| 1/1 [00:00<00:00,  4.51it/s]"
          ]
        },
        {
          "name": "stdout",
          "output_type": "stream",
          "text": [
            "                   all        112        121      0.566      0.421      0.433      0.164\n"
          ]
        },
        {
          "name": "stderr",
          "output_type": "stream",
          "text": [
            "\n"
          ]
        },
        {
          "name": "stdout",
          "output_type": "stream",
          "text": [
            "\n",
            "      Epoch    GPU_mem   box_loss   cls_loss   dfl_loss  Instances       Size\n"
          ]
        },
        {
          "name": "stderr",
          "output_type": "stream",
          "text": [
            "     27/100      7.61G      1.239     0.8531      1.342        175        256:  50%|█████     | 9/18 [00:02<00:02,  3.11it/s]libpng warning: iCCP: known incorrect sRGB profile\n",
            "     27/100      7.61G      1.242     0.8538       1.34        205        256:  56%|█████▌    | 10/18 [00:03<00:02,  3.12it/s]libpng warning: iCCP: known incorrect sRGB profile\n",
            "     27/100      7.61G      1.233     0.8468      1.337        173        256:  67%|██████▋   | 12/18 [00:03<00:01,  3.12it/s]libpng warning: iCCP: known incorrect sRGB profile\n",
            "     27/100      7.64G      1.221       0.83      1.328         25        256: 100%|██████████| 18/18 [00:05<00:00,  3.22it/s]\n",
            "                 Class     Images  Instances      Box(P          R      mAP50  mAP50-95): 100%|██████████| 1/1 [00:00<00:00,  4.42it/s]"
          ]
        },
        {
          "name": "stdout",
          "output_type": "stream",
          "text": [
            "                   all        112        121       0.48       0.38      0.345      0.104\n"
          ]
        },
        {
          "name": "stderr",
          "output_type": "stream",
          "text": [
            "\n"
          ]
        },
        {
          "name": "stdout",
          "output_type": "stream",
          "text": [
            "\n",
            "      Epoch    GPU_mem   box_loss   cls_loss   dfl_loss  Instances       Size\n"
          ]
        },
        {
          "name": "stderr",
          "output_type": "stream",
          "text": [
            "     28/100      7.51G      1.194     0.7828      1.301         28        256: 100%|██████████| 18/18 [00:05<00:00,  3.23it/s]\n",
            "                 Class     Images  Instances      Box(P          R      mAP50  mAP50-95): 100%|██████████| 1/1 [00:00<00:00,  4.64it/s]"
          ]
        },
        {
          "name": "stdout",
          "output_type": "stream",
          "text": [
            "                   all        112        121      0.523      0.463       0.41      0.132\n"
          ]
        },
        {
          "name": "stderr",
          "output_type": "stream",
          "text": [
            "\n"
          ]
        },
        {
          "name": "stdout",
          "output_type": "stream",
          "text": [
            "\n",
            "      Epoch    GPU_mem   box_loss   cls_loss   dfl_loss  Instances       Size\n"
          ]
        },
        {
          "name": "stderr",
          "output_type": "stream",
          "text": [
            "     29/100      7.64G      1.207     0.7979      1.306         24        256: 100%|██████████| 18/18 [00:05<00:00,  3.35it/s]\n",
            "                 Class     Images  Instances      Box(P          R      mAP50  mAP50-95):   0%|          | 0/1 [00:00<?, ?it/s]libpng warning: iCCP: known incorrect sRGB profile\n",
            "                 Class     Images  Instances      Box(P          R      mAP50  mAP50-95): 100%|██████████| 1/1 [00:00<00:00,  4.55it/s]"
          ]
        },
        {
          "name": "stdout",
          "output_type": "stream",
          "text": [
            "                   all        112        121      0.659      0.479      0.443      0.152\n"
          ]
        },
        {
          "name": "stderr",
          "output_type": "stream",
          "text": [
            "\n"
          ]
        },
        {
          "name": "stdout",
          "output_type": "stream",
          "text": [
            "\n",
            "      Epoch    GPU_mem   box_loss   cls_loss   dfl_loss  Instances       Size\n"
          ]
        },
        {
          "name": "stderr",
          "output_type": "stream",
          "text": [
            "     30/100      7.61G      1.178     0.7839      1.297        154        256:  44%|████▍     | 8/18 [00:02<00:03,  2.89it/s]libpng warning: iCCP: known incorrect sRGB profile\n",
            "     30/100      7.64G      1.179     0.7768      1.296         27        256: 100%|██████████| 18/18 [00:05<00:00,  3.13it/s]\n",
            "                 Class     Images  Instances      Box(P          R      mAP50  mAP50-95): 100%|██████████| 1/1 [00:00<00:00,  4.58it/s]"
          ]
        },
        {
          "name": "stdout",
          "output_type": "stream",
          "text": [
            "                   all        112        121      0.635      0.455      0.401      0.149\n"
          ]
        },
        {
          "name": "stderr",
          "output_type": "stream",
          "text": [
            "\n"
          ]
        },
        {
          "name": "stdout",
          "output_type": "stream",
          "text": [
            "\n",
            "      Epoch    GPU_mem   box_loss   cls_loss   dfl_loss  Instances       Size\n"
          ]
        },
        {
          "name": "stderr",
          "output_type": "stream",
          "text": [
            "     31/100      7.63G      1.236     0.8034      1.298        169        256:  17%|█▋        | 3/18 [00:01<00:05,  2.80it/s]libpng warning: iCCP: known incorrect sRGB profile\n",
            "     31/100      7.63G      1.196     0.7627      1.291        173        256:  56%|█████▌    | 10/18 [00:03<00:02,  3.06it/s]libpng warning: iCCP: known incorrect sRGB profile\n",
            "     31/100      7.65G      1.174     0.7677      1.273         33        256: 100%|██████████| 18/18 [00:05<00:00,  3.06it/s]\n",
            "                 Class     Images  Instances      Box(P          R      mAP50  mAP50-95): 100%|██████████| 1/1 [00:00<00:00,  2.71it/s]"
          ]
        },
        {
          "name": "stdout",
          "output_type": "stream",
          "text": [
            "                   all        112        121      0.677       0.45       0.44      0.151\n"
          ]
        },
        {
          "name": "stderr",
          "output_type": "stream",
          "text": [
            "\n"
          ]
        },
        {
          "name": "stdout",
          "output_type": "stream",
          "text": [
            "\n",
            "      Epoch    GPU_mem   box_loss   cls_loss   dfl_loss  Instances       Size\n"
          ]
        },
        {
          "name": "stderr",
          "output_type": "stream",
          "text": [
            "     32/100      7.61G      1.187     0.7986      1.281        170        256:  22%|██▏       | 4/18 [00:01<00:04,  3.09it/s]libpng warning: iCCP: known incorrect sRGB profile\n",
            "     32/100      7.61G      1.181     0.7882      1.279        172        256:  72%|███████▏  | 13/18 [00:04<00:01,  2.83it/s]libpng warning: iCCP: known incorrect sRGB profile\n",
            "     32/100      7.61G      1.181     0.7845      1.277        164        256:  89%|████████▉ | 16/18 [00:05<00:00,  2.87it/s]libpng warning: iCCP: known incorrect sRGB profile\n",
            "     32/100      7.64G      1.168     0.7799      1.272         29        256: 100%|██████████| 18/18 [00:05<00:00,  3.08it/s]\n",
            "                 Class     Images  Instances      Box(P          R      mAP50  mAP50-95): 100%|██████████| 1/1 [00:00<00:00,  4.41it/s]"
          ]
        },
        {
          "name": "stdout",
          "output_type": "stream",
          "text": [
            "                   all        112        121      0.449      0.459      0.334     0.0981\n"
          ]
        },
        {
          "name": "stderr",
          "output_type": "stream",
          "text": [
            "\n"
          ]
        },
        {
          "name": "stdout",
          "output_type": "stream",
          "text": [
            "\n",
            "      Epoch    GPU_mem   box_loss   cls_loss   dfl_loss  Instances       Size\n"
          ]
        },
        {
          "name": "stderr",
          "output_type": "stream",
          "text": [
            "     33/100       7.5G      1.145     0.7395      1.259        163        256:  39%|███▉      | 7/18 [00:02<00:04,  2.73it/s]libpng warning: iCCP: known incorrect sRGB profile\n",
            "     33/100      7.52G       1.16       0.73      1.261         21        256: 100%|██████████| 18/18 [00:06<00:00,  2.97it/s]\n",
            "                 Class     Images  Instances      Box(P          R      mAP50  mAP50-95): 100%|██████████| 1/1 [00:00<00:00,  4.54it/s]"
          ]
        },
        {
          "name": "stdout",
          "output_type": "stream",
          "text": [
            "                   all        112        121      0.741      0.449      0.434      0.156\n"
          ]
        },
        {
          "name": "stderr",
          "output_type": "stream",
          "text": [
            "\n"
          ]
        },
        {
          "name": "stdout",
          "output_type": "stream",
          "text": [
            "\n",
            "      Epoch    GPU_mem   box_loss   cls_loss   dfl_loss  Instances       Size\n"
          ]
        },
        {
          "name": "stderr",
          "output_type": "stream",
          "text": [
            "     34/100      7.61G      1.161     0.7404      1.274        169        256:  83%|████████▎ | 15/18 [00:05<00:01,  2.91it/s]libpng warning: iCCP: known incorrect sRGB profile\n",
            "     34/100      7.64G      1.175     0.7516       1.28         35        256: 100%|██████████| 18/18 [00:05<00:00,  3.09it/s]\n",
            "                 Class     Images  Instances      Box(P          R      mAP50  mAP50-95): 100%|██████████| 1/1 [00:00<00:00,  4.41it/s]"
          ]
        },
        {
          "name": "stdout",
          "output_type": "stream",
          "text": [
            "                   all        112        121      0.493      0.523      0.453      0.186\n"
          ]
        },
        {
          "name": "stderr",
          "output_type": "stream",
          "text": [
            "\n"
          ]
        },
        {
          "name": "stdout",
          "output_type": "stream",
          "text": [
            "\n",
            "      Epoch    GPU_mem   box_loss   cls_loss   dfl_loss  Instances       Size\n"
          ]
        },
        {
          "name": "stderr",
          "output_type": "stream",
          "text": [
            "     35/100      7.62G      1.121     0.7332      1.268        181        256:  22%|██▏       | 4/18 [00:01<00:04,  2.84it/s]libpng warning: iCCP: known incorrect sRGB profile\n",
            "     35/100      7.62G      1.137      0.722      1.263        167        256:  39%|███▉      | 7/18 [00:02<00:03,  2.81it/s]libpng warning: iCCP: known incorrect sRGB profile\n",
            "     35/100      7.62G      1.159     0.7289      1.272        161        256:  94%|█████████▍| 17/18 [00:06<00:00,  2.73it/s]libpng warning: iCCP: known incorrect sRGB profile\n",
            "     35/100      7.64G      1.159     0.7367      1.267         31        256: 100%|██████████| 18/18 [00:06<00:00,  2.88it/s]\n",
            "                 Class     Images  Instances      Box(P          R      mAP50  mAP50-95): 100%|██████████| 1/1 [00:00<00:00,  2.74it/s]"
          ]
        },
        {
          "name": "stdout",
          "output_type": "stream",
          "text": [
            "                   all        112        121      0.654      0.446      0.424      0.203\n"
          ]
        },
        {
          "name": "stderr",
          "output_type": "stream",
          "text": [
            "\n"
          ]
        },
        {
          "name": "stdout",
          "output_type": "stream",
          "text": [
            "\n",
            "      Epoch    GPU_mem   box_loss   cls_loss   dfl_loss  Instances       Size\n"
          ]
        },
        {
          "name": "stderr",
          "output_type": "stream",
          "text": [
            "     36/100      7.64G       1.13      0.721      1.256         25        256: 100%|██████████| 18/18 [00:05<00:00,  3.26it/s]\n",
            "                 Class     Images  Instances      Box(P          R      mAP50  mAP50-95): 100%|██████████| 1/1 [00:00<00:00,  4.41it/s]"
          ]
        },
        {
          "name": "stdout",
          "output_type": "stream",
          "text": [
            "                   all        112        121      0.816      0.366      0.454      0.198\n"
          ]
        },
        {
          "name": "stderr",
          "output_type": "stream",
          "text": [
            "\n"
          ]
        },
        {
          "name": "stdout",
          "output_type": "stream",
          "text": [
            "\n",
            "      Epoch    GPU_mem   box_loss   cls_loss   dfl_loss  Instances       Size\n"
          ]
        },
        {
          "name": "stderr",
          "output_type": "stream",
          "text": [
            "     37/100      7.63G       1.15     0.7403      1.268        182        256:  72%|███████▏  | 13/18 [00:04<00:01,  3.17it/s]libpng warning: iCCP: known incorrect sRGB profile\n",
            "     37/100      7.65G      1.146     0.7362      1.264         29        256: 100%|██████████| 18/18 [00:05<00:00,  3.30it/s]\n",
            "                 Class     Images  Instances      Box(P          R      mAP50  mAP50-95): 100%|██████████| 1/1 [00:00<00:00,  4.39it/s]"
          ]
        },
        {
          "name": "stdout",
          "output_type": "stream",
          "text": [
            "                   all        112        121      0.625      0.469      0.444      0.166\n"
          ]
        },
        {
          "name": "stderr",
          "output_type": "stream",
          "text": [
            "\n"
          ]
        },
        {
          "name": "stdout",
          "output_type": "stream",
          "text": [
            "\n",
            "      Epoch    GPU_mem   box_loss   cls_loss   dfl_loss  Instances       Size\n"
          ]
        },
        {
          "name": "stderr",
          "output_type": "stream",
          "text": [
            "     38/100      7.61G      1.121     0.7798      1.235        164        256:   6%|▌         | 1/18 [00:00<00:05,  3.21it/s]libpng warning: iCCP: known incorrect sRGB profile\n",
            "     38/100      7.61G      1.145     0.7462      1.271        166        256:  33%|███▎      | 6/18 [00:01<00:03,  3.14it/s]libpng warning: iCCP: known incorrect sRGB profile\n",
            "     38/100      7.61G      1.137     0.7382      1.266        170        256:  44%|████▍     | 8/18 [00:02<00:03,  3.12it/s]libpng warning: iCCP: known incorrect sRGB profile\n",
            "     38/100      7.64G      1.123     0.7225      1.255         22        256: 100%|██████████| 18/18 [00:05<00:00,  3.29it/s]\n",
            "                 Class     Images  Instances      Box(P          R      mAP50  mAP50-95): 100%|██████████| 1/1 [00:00<00:00,  4.54it/s]"
          ]
        },
        {
          "name": "stdout",
          "output_type": "stream",
          "text": [
            "                   all        112        121      0.602      0.397        0.4      0.147\n"
          ]
        },
        {
          "name": "stderr",
          "output_type": "stream",
          "text": [
            "\n"
          ]
        },
        {
          "name": "stdout",
          "output_type": "stream",
          "text": [
            "\n",
            "      Epoch    GPU_mem   box_loss   cls_loss   dfl_loss  Instances       Size\n"
          ]
        },
        {
          "name": "stderr",
          "output_type": "stream",
          "text": [
            "     39/100      7.61G      1.143     0.7177      1.251        191        256:  11%|█         | 2/18 [00:00<00:05,  3.14it/s]libpng warning: iCCP: known incorrect sRGB profile\n",
            "     39/100      7.61G      1.171     0.7506      1.278        182        256:  56%|█████▌    | 10/18 [00:03<00:02,  3.03it/s]libpng warning: iCCP: known incorrect sRGB profile\n",
            "     39/100      7.64G      1.165      0.743      1.263         38        256: 100%|██████████| 18/18 [00:05<00:00,  3.12it/s]\n",
            "                 Class     Images  Instances      Box(P          R      mAP50  mAP50-95): 100%|██████████| 1/1 [00:00<00:00,  2.85it/s]"
          ]
        },
        {
          "name": "stdout",
          "output_type": "stream",
          "text": [
            "                   all        112        121      0.556       0.43      0.402      0.138\n"
          ]
        },
        {
          "name": "stderr",
          "output_type": "stream",
          "text": [
            "\n"
          ]
        },
        {
          "name": "stdout",
          "output_type": "stream",
          "text": [
            "\n",
            "      Epoch    GPU_mem   box_loss   cls_loss   dfl_loss  Instances       Size\n"
          ]
        },
        {
          "name": "stderr",
          "output_type": "stream",
          "text": [
            "     40/100      7.63G      1.083     0.7149       1.25        166        256:  33%|███▎      | 6/18 [00:01<00:03,  3.16it/s]libpng warning: iCCP: known incorrect sRGB profile\n",
            "     40/100      7.63G      1.102     0.7139      1.255        154        256:  78%|███████▊  | 14/18 [00:04<00:01,  3.06it/s]libpng warning: iCCP: known incorrect sRGB profile\n",
            "     40/100      7.65G      1.094     0.7205      1.257         14        256: 100%|██████████| 18/18 [00:05<00:00,  3.24it/s]\n",
            "                 Class     Images  Instances      Box(P          R      mAP50  mAP50-95): 100%|██████████| 1/1 [00:00<00:00,  4.56it/s]"
          ]
        },
        {
          "name": "stdout",
          "output_type": "stream",
          "text": [
            "                   all        112        121      0.724      0.545      0.566      0.194\n"
          ]
        },
        {
          "name": "stderr",
          "output_type": "stream",
          "text": [
            "\n"
          ]
        },
        {
          "name": "stdout",
          "output_type": "stream",
          "text": [
            "\n",
            "      Epoch    GPU_mem   box_loss   cls_loss   dfl_loss  Instances       Size\n"
          ]
        },
        {
          "name": "stderr",
          "output_type": "stream",
          "text": [
            "     41/100      7.48G      1.118     0.7054      1.252        181        256:  44%|████▍     | 8/18 [00:02<00:03,  2.84it/s]libpng warning: iCCP: known incorrect sRGB profile\n",
            "     41/100       7.5G      1.102     0.6999       1.25         24        256: 100%|██████████| 18/18 [00:06<00:00,  2.96it/s]\n",
            "                 Class     Images  Instances      Box(P          R      mAP50  mAP50-95): 100%|██████████| 1/1 [00:00<00:00,  2.77it/s]"
          ]
        },
        {
          "name": "stdout",
          "output_type": "stream",
          "text": [
            "                   all        112        121       0.79      0.686      0.673      0.232\n"
          ]
        },
        {
          "name": "stderr",
          "output_type": "stream",
          "text": [
            "\n"
          ]
        },
        {
          "name": "stdout",
          "output_type": "stream",
          "text": [
            "\n",
            "      Epoch    GPU_mem   box_loss   cls_loss   dfl_loss  Instances       Size\n"
          ]
        },
        {
          "name": "stderr",
          "output_type": "stream",
          "text": [
            "     42/100       7.5G        1.1     0.7148      1.243        151        256:  39%|███▉      | 7/18 [00:02<00:03,  2.93it/s]libpng warning: iCCP: known incorrect sRGB profile\n",
            "     42/100      7.52G      1.109     0.6874      1.246         25        256: 100%|██████████| 18/18 [00:05<00:00,  3.06it/s]\n",
            "                 Class     Images  Instances      Box(P          R      mAP50  mAP50-95): 100%|██████████| 1/1 [00:00<00:00,  2.74it/s]"
          ]
        },
        {
          "name": "stdout",
          "output_type": "stream",
          "text": [
            "                   all        112        121      0.677      0.554      0.588      0.229\n"
          ]
        },
        {
          "name": "stderr",
          "output_type": "stream",
          "text": [
            "\n"
          ]
        },
        {
          "name": "stdout",
          "output_type": "stream",
          "text": [
            "\n",
            "      Epoch    GPU_mem   box_loss   cls_loss   dfl_loss  Instances       Size\n"
          ]
        },
        {
          "name": "stderr",
          "output_type": "stream",
          "text": [
            "     43/100      7.62G      1.065     0.6656      1.208        158        256:  17%|█▋        | 3/18 [00:01<00:05,  2.88it/s]libpng warning: iCCP: known incorrect sRGB profile\n",
            "     43/100      7.62G      1.098     0.6779      1.242        183        256:  50%|█████     | 9/18 [00:02<00:02,  3.13it/s]libpng warning: iCCP: known incorrect sRGB profile\n",
            "     43/100      7.62G      1.087     0.6795      1.236        198        256:  72%|███████▏  | 13/18 [00:04<00:01,  3.14it/s]libpng warning: iCCP: known incorrect sRGB profile\n",
            "     43/100      7.64G      1.106     0.6855      1.253         22        256: 100%|██████████| 18/18 [00:05<00:00,  3.21it/s]\n",
            "                 Class     Images  Instances      Box(P          R      mAP50  mAP50-95): 100%|██████████| 1/1 [00:00<00:00,  4.53it/s]"
          ]
        },
        {
          "name": "stdout",
          "output_type": "stream",
          "text": [
            "                   all        112        121       0.53      0.554      0.495      0.202\n"
          ]
        },
        {
          "name": "stderr",
          "output_type": "stream",
          "text": [
            "\n"
          ]
        },
        {
          "name": "stdout",
          "output_type": "stream",
          "text": [
            "\n",
            "      Epoch    GPU_mem   box_loss   cls_loss   dfl_loss  Instances       Size\n"
          ]
        },
        {
          "name": "stderr",
          "output_type": "stream",
          "text": [
            "     44/100      7.65G      1.097     0.6869      1.238         24        256: 100%|██████████| 18/18 [00:05<00:00,  3.29it/s]\n",
            "                 Class     Images  Instances      Box(P          R      mAP50  mAP50-95): 100%|██████████| 1/1 [00:00<00:00,  4.47it/s]"
          ]
        },
        {
          "name": "stdout",
          "output_type": "stream",
          "text": [
            "                   all        112        121      0.673      0.521       0.45      0.178\n"
          ]
        },
        {
          "name": "stderr",
          "output_type": "stream",
          "text": [
            "\n"
          ]
        },
        {
          "name": "stdout",
          "output_type": "stream",
          "text": [
            "\n",
            "      Epoch    GPU_mem   box_loss   cls_loss   dfl_loss  Instances       Size\n"
          ]
        },
        {
          "name": "stderr",
          "output_type": "stream",
          "text": [
            "  0%|          | 0/18 [00:00<?, ?it/s]libpng warning: iCCP: known incorrect sRGB profile\n",
            "     45/100      7.64G      1.059     0.6518      1.221         22        256: 100%|██████████| 18/18 [00:05<00:00,  3.30it/s]\n",
            "                 Class     Images  Instances      Box(P          R      mAP50  mAP50-95): 100%|██████████| 1/1 [00:00<00:00,  4.43it/s]"
          ]
        },
        {
          "name": "stdout",
          "output_type": "stream",
          "text": [
            "                   all        112        121      0.656      0.579      0.563      0.208\n"
          ]
        },
        {
          "name": "stderr",
          "output_type": "stream",
          "text": [
            "\n",
            "libpng warning: iCCP: known incorrect sRGB profile\n"
          ]
        },
        {
          "name": "stdout",
          "output_type": "stream",
          "text": [
            "\n",
            "      Epoch    GPU_mem   box_loss   cls_loss   dfl_loss  Instances       Size\n"
          ]
        },
        {
          "name": "stderr",
          "output_type": "stream",
          "text": [
            "     46/100      7.63G      1.079     0.6841      1.238        173        256:  50%|█████     | 9/18 [00:03<00:03,  2.77it/s]libpng warning: iCCP: known incorrect sRGB profile\n",
            "     46/100      7.65G      1.099     0.6866       1.25         19        256: 100%|██████████| 18/18 [00:06<00:00,  2.95it/s]\n",
            "                 Class     Images  Instances      Box(P          R      mAP50  mAP50-95): 100%|██████████| 1/1 [00:00<00:00,  4.43it/s]"
          ]
        },
        {
          "name": "stdout",
          "output_type": "stream",
          "text": [
            "                   all        112        121      0.758      0.724      0.711      0.273\n"
          ]
        },
        {
          "name": "stderr",
          "output_type": "stream",
          "text": [
            "\n"
          ]
        },
        {
          "name": "stdout",
          "output_type": "stream",
          "text": [
            "\n",
            "      Epoch    GPU_mem   box_loss   cls_loss   dfl_loss  Instances       Size\n"
          ]
        },
        {
          "name": "stderr",
          "output_type": "stream",
          "text": [
            "     47/100      7.48G      1.099     0.6686      1.228        185        256:  44%|████▍     | 8/18 [00:02<00:03,  3.09it/s]libpng warning: iCCP: known incorrect sRGB profile\n",
            "     47/100       7.5G      1.111     0.6733      1.239         23        256: 100%|██████████| 18/18 [00:05<00:00,  3.23it/s]\n",
            "                 Class     Images  Instances      Box(P          R      mAP50  mAP50-95): 100%|██████████| 1/1 [00:00<00:00,  4.46it/s]"
          ]
        },
        {
          "name": "stdout",
          "output_type": "stream",
          "text": [
            "                   all        112        121      0.784      0.504      0.518      0.153\n"
          ]
        },
        {
          "name": "stderr",
          "output_type": "stream",
          "text": [
            "\n"
          ]
        },
        {
          "name": "stdout",
          "output_type": "stream",
          "text": [
            "\n",
            "      Epoch    GPU_mem   box_loss   cls_loss   dfl_loss  Instances       Size\n"
          ]
        },
        {
          "name": "stderr",
          "output_type": "stream",
          "text": [
            "     48/100      7.48G      1.076     0.6571      1.222        159        256:  67%|██████▋   | 12/18 [00:03<00:01,  3.17it/s]libpng warning: iCCP: known incorrect sRGB profile\n",
            "     48/100       7.5G      1.065     0.6482      1.212         18        256: 100%|██████████| 18/18 [00:05<00:00,  3.19it/s]\n",
            "                 Class     Images  Instances      Box(P          R      mAP50  mAP50-95): 100%|██████████| 1/1 [00:00<00:00,  2.81it/s]"
          ]
        },
        {
          "name": "stdout",
          "output_type": "stream",
          "text": [
            "                   all        112        121       0.68      0.669      0.594      0.216\n"
          ]
        },
        {
          "name": "stderr",
          "output_type": "stream",
          "text": [
            "\n"
          ]
        },
        {
          "name": "stdout",
          "output_type": "stream",
          "text": [
            "\n",
            "      Epoch    GPU_mem   box_loss   cls_loss   dfl_loss  Instances       Size\n"
          ]
        },
        {
          "name": "stderr",
          "output_type": "stream",
          "text": [
            "     49/100      7.48G      1.066     0.6358      1.218        186        256:  28%|██▊       | 5/18 [00:01<00:04,  2.93it/s]libpng warning: iCCP: known incorrect sRGB profile\n",
            "     49/100      7.51G       1.05     0.6203      1.202         24        256: 100%|██████████| 18/18 [00:05<00:00,  3.23it/s]\n",
            "                 Class     Images  Instances      Box(P          R      mAP50  mAP50-95): 100%|██████████| 1/1 [00:00<00:00,  4.55it/s]"
          ]
        },
        {
          "name": "stdout",
          "output_type": "stream",
          "text": [
            "                   all        112        121      0.638      0.438      0.407      0.133\n"
          ]
        },
        {
          "name": "stderr",
          "output_type": "stream",
          "text": [
            "\n"
          ]
        },
        {
          "name": "stdout",
          "output_type": "stream",
          "text": [
            "\n",
            "      Epoch    GPU_mem   box_loss   cls_loss   dfl_loss  Instances       Size\n"
          ]
        },
        {
          "name": "stderr",
          "output_type": "stream",
          "text": [
            "     50/100       7.5G      1.094     0.6201      1.202        175        256:  11%|█         | 2/18 [00:00<00:05,  3.16it/s]libpng warning: iCCP: known incorrect sRGB profile\n",
            "     50/100       7.5G      1.077     0.6538      1.222        180        256:  83%|████████▎ | 15/18 [00:04<00:00,  3.16it/s]libpng warning: iCCP: known incorrect sRGB profile\n",
            "     50/100      7.52G      1.064     0.6506      1.218         21        256: 100%|██████████| 18/18 [00:05<00:00,  3.31it/s]\n",
            "                 Class     Images  Instances      Box(P          R      mAP50  mAP50-95): 100%|██████████| 1/1 [00:00<00:00,  4.58it/s]"
          ]
        },
        {
          "name": "stdout",
          "output_type": "stream",
          "text": [
            "                   all        112        121      0.662      0.453      0.487      0.181\n"
          ]
        },
        {
          "name": "stderr",
          "output_type": "stream",
          "text": [
            "\n"
          ]
        },
        {
          "name": "stdout",
          "output_type": "stream",
          "text": [
            "\n",
            "      Epoch    GPU_mem   box_loss   cls_loss   dfl_loss  Instances       Size\n"
          ]
        },
        {
          "name": "stderr",
          "output_type": "stream",
          "text": [
            "     51/100      7.61G      1.006     0.6177      1.196        170        256:  11%|█         | 2/18 [00:00<00:05,  3.17it/s]libpng warning: iCCP: known incorrect sRGB profile\n",
            "     51/100      7.61G      1.019     0.6219      1.195        172        256:  33%|███▎      | 6/18 [00:01<00:03,  3.15it/s]libpng warning: iCCP: known incorrect sRGB profile\n",
            "     51/100      7.64G      1.027     0.6241      1.204         23        256: 100%|██████████| 18/18 [00:05<00:00,  3.31it/s]\n",
            "                 Class     Images  Instances      Box(P          R      mAP50  mAP50-95): 100%|██████████| 1/1 [00:00<00:00,  4.54it/s]"
          ]
        },
        {
          "name": "stdout",
          "output_type": "stream",
          "text": [
            "                   all        112        121      0.743      0.496      0.554      0.208\n"
          ]
        },
        {
          "name": "stderr",
          "output_type": "stream",
          "text": [
            "\n"
          ]
        },
        {
          "name": "stdout",
          "output_type": "stream",
          "text": [
            "\n",
            "      Epoch    GPU_mem   box_loss   cls_loss   dfl_loss  Instances       Size\n"
          ]
        },
        {
          "name": "stderr",
          "output_type": "stream",
          "text": [
            "     52/100      7.63G      1.024       0.63        1.2        178        256:  11%|█         | 2/18 [00:00<00:05,  3.09it/s]libpng warning: iCCP: known incorrect sRGB profile\n",
            "libpng warning: iCCP: known incorrect sRGB profile\n",
            "     52/100      7.63G      1.041      0.617      1.207        169        256:  83%|████████▎ | 15/18 [00:05<00:01,  2.77it/s]libpng warning: iCCP: known incorrect sRGB profile\n",
            "     52/100      7.65G      1.049     0.6168      1.221         23        256: 100%|██████████| 18/18 [00:05<00:00,  3.01it/s]\n",
            "                 Class     Images  Instances      Box(P          R      mAP50  mAP50-95): 100%|██████████| 1/1 [00:00<00:00,  2.31it/s]"
          ]
        },
        {
          "name": "stdout",
          "output_type": "stream",
          "text": [
            "                   all        112        121      0.553      0.554      0.509      0.197\n"
          ]
        },
        {
          "name": "stderr",
          "output_type": "stream",
          "text": [
            "\n"
          ]
        },
        {
          "name": "stdout",
          "output_type": "stream",
          "text": [
            "\n",
            "      Epoch    GPU_mem   box_loss   cls_loss   dfl_loss  Instances       Size\n"
          ]
        },
        {
          "name": "stderr",
          "output_type": "stream",
          "text": [
            "     53/100      7.48G      1.079     0.6259      1.248        178        256:  11%|█         | 2/18 [00:00<00:05,  2.99it/s]libpng warning: iCCP: known incorrect sRGB profile\n",
            "     53/100      7.48G      1.072     0.6298      1.218        182        256:  83%|████████▎ | 15/18 [00:04<00:00,  3.07it/s]libpng warning: iCCP: known incorrect sRGB profile\n",
            "     53/100       7.5G      1.064     0.6294      1.221         20        256: 100%|██████████| 18/18 [00:05<00:00,  3.19it/s]\n",
            "                 Class     Images  Instances      Box(P          R      mAP50  mAP50-95): 100%|██████████| 1/1 [00:00<00:00,  4.47it/s]"
          ]
        },
        {
          "name": "stdout",
          "output_type": "stream",
          "text": [
            "                   all        112        121      0.537      0.633      0.541      0.192\n"
          ]
        },
        {
          "name": "stderr",
          "output_type": "stream",
          "text": [
            "\n"
          ]
        },
        {
          "name": "stdout",
          "output_type": "stream",
          "text": [
            "\n",
            "      Epoch    GPU_mem   box_loss   cls_loss   dfl_loss  Instances       Size\n"
          ]
        },
        {
          "name": "stderr",
          "output_type": "stream",
          "text": [
            "     54/100      7.61G      1.081       0.65      1.214        165        256:  11%|█         | 2/18 [00:00<00:05,  2.92it/s]libpng warning: iCCP: known incorrect sRGB profile\n",
            "     54/100      7.62G      1.052     0.6267      1.205        173        256:  72%|███████▏  | 13/18 [00:04<00:01,  2.91it/s]libpng warning: iCCP: known incorrect sRGB profile\n",
            "     54/100      7.64G      1.057       0.63      1.209         33        256: 100%|██████████| 18/18 [00:05<00:00,  3.03it/s]\n",
            "                 Class     Images  Instances      Box(P          R      mAP50  mAP50-95): 100%|██████████| 1/1 [00:00<00:00,  4.50it/s]"
          ]
        },
        {
          "name": "stdout",
          "output_type": "stream",
          "text": [
            "                   all        112        121      0.741      0.645      0.694      0.239\n"
          ]
        },
        {
          "name": "stderr",
          "output_type": "stream",
          "text": [
            "\n"
          ]
        },
        {
          "name": "stdout",
          "output_type": "stream",
          "text": [
            "\n",
            "      Epoch    GPU_mem   box_loss   cls_loss   dfl_loss  Instances       Size\n"
          ]
        },
        {
          "name": "stderr",
          "output_type": "stream",
          "text": [
            "     55/100      7.63G      1.042     0.6306      1.205        184        256:  56%|█████▌    | 10/18 [00:03<00:02,  2.77it/s]libpng warning: iCCP: known incorrect sRGB profile\n",
            "     55/100      7.65G      1.023     0.6172       1.19         29        256: 100%|██████████| 18/18 [00:06<00:00,  2.83it/s]\n",
            "                 Class     Images  Instances      Box(P          R      mAP50  mAP50-95): 100%|██████████| 1/1 [00:00<00:00,  2.42it/s]"
          ]
        },
        {
          "name": "stdout",
          "output_type": "stream",
          "text": [
            "                   all        112        121      0.661      0.603      0.574      0.233\n"
          ]
        },
        {
          "name": "stderr",
          "output_type": "stream",
          "text": [
            "\n"
          ]
        },
        {
          "name": "stdout",
          "output_type": "stream",
          "text": [
            "\n",
            "      Epoch    GPU_mem   box_loss   cls_loss   dfl_loss  Instances       Size\n"
          ]
        },
        {
          "name": "stderr",
          "output_type": "stream",
          "text": [
            "     56/100      7.49G      1.041     0.6192      1.207        173        256:  28%|██▊       | 5/18 [00:01<00:04,  2.78it/s]libpng warning: iCCP: known incorrect sRGB profile\n",
            "libpng warning: iCCP: known incorrect sRGB profile\n",
            "     56/100      7.51G      1.037     0.6088      1.198         18        256: 100%|██████████| 18/18 [00:05<00:00,  3.13it/s]\n",
            "                 Class     Images  Instances      Box(P          R      mAP50  mAP50-95): 100%|██████████| 1/1 [00:00<00:00,  4.46it/s]"
          ]
        },
        {
          "name": "stdout",
          "output_type": "stream",
          "text": [
            "                   all        112        121       0.74       0.54      0.622      0.272\n"
          ]
        },
        {
          "name": "stderr",
          "output_type": "stream",
          "text": [
            "\n"
          ]
        },
        {
          "name": "stdout",
          "output_type": "stream",
          "text": [
            "\n",
            "      Epoch    GPU_mem   box_loss   cls_loss   dfl_loss  Instances       Size\n"
          ]
        },
        {
          "name": "stderr",
          "output_type": "stream",
          "text": [
            "     57/100      7.52G      1.022      0.613      1.198         18        256: 100%|██████████| 18/18 [00:05<00:00,  3.29it/s]\n",
            "                 Class     Images  Instances      Box(P          R      mAP50  mAP50-95): 100%|██████████| 1/1 [00:00<00:00,  4.50it/s]"
          ]
        },
        {
          "name": "stdout",
          "output_type": "stream",
          "text": [
            "                   all        112        121      0.585      0.582      0.534      0.221\n"
          ]
        },
        {
          "name": "stderr",
          "output_type": "stream",
          "text": [
            "\n"
          ]
        },
        {
          "name": "stdout",
          "output_type": "stream",
          "text": [
            "\n",
            "      Epoch    GPU_mem   box_loss   cls_loss   dfl_loss  Instances       Size\n"
          ]
        },
        {
          "name": "stderr",
          "output_type": "stream",
          "text": [
            "     58/100      7.63G      1.016     0.6069      1.188        181        256:  67%|██████▋   | 12/18 [00:03<00:01,  3.13it/s]libpng warning: iCCP: known incorrect sRGB profile\n",
            "libpng warning: iCCP: known incorrect sRGB profile\n",
            "     58/100      7.65G      1.014     0.6007      1.185         22        256: 100%|██████████| 18/18 [00:05<00:00,  3.29it/s]\n",
            "                 Class     Images  Instances      Box(P          R      mAP50  mAP50-95): 100%|██████████| 1/1 [00:00<00:00,  4.49it/s]"
          ]
        },
        {
          "name": "stdout",
          "output_type": "stream",
          "text": [
            "                   all        112        121      0.803       0.57      0.612      0.237\n"
          ]
        },
        {
          "name": "stderr",
          "output_type": "stream",
          "text": [
            "\n"
          ]
        },
        {
          "name": "stdout",
          "output_type": "stream",
          "text": [
            "\n",
            "      Epoch    GPU_mem   box_loss   cls_loss   dfl_loss  Instances       Size\n"
          ]
        },
        {
          "name": "stderr",
          "output_type": "stream",
          "text": [
            "     59/100      7.61G      1.009     0.6137      1.178        144        256:  17%|█▋        | 3/18 [00:00<00:04,  3.12it/s]libpng warning: iCCP: known incorrect sRGB profile\n",
            "     59/100      7.61G      1.011     0.6113      1.178        191        256:  22%|██▏       | 4/18 [00:01<00:04,  3.13it/s]libpng warning: iCCP: known incorrect sRGB profile\n",
            "     59/100      7.63G      1.029     0.6067      1.192         28        256: 100%|██████████| 18/18 [00:06<00:00,  2.99it/s]\n",
            "                 Class     Images  Instances      Box(P          R      mAP50  mAP50-95): 100%|██████████| 1/1 [00:00<00:00,  2.82it/s]"
          ]
        },
        {
          "name": "stdout",
          "output_type": "stream",
          "text": [
            "                   all        112        121      0.684      0.727      0.635      0.211\n"
          ]
        },
        {
          "name": "stderr",
          "output_type": "stream",
          "text": [
            "\n"
          ]
        },
        {
          "name": "stdout",
          "output_type": "stream",
          "text": [
            "\n",
            "      Epoch    GPU_mem   box_loss   cls_loss   dfl_loss  Instances       Size\n"
          ]
        },
        {
          "name": "stderr",
          "output_type": "stream",
          "text": [
            "     60/100      7.63G      1.004     0.5938      1.191        150        256:  22%|██▏       | 4/18 [00:01<00:04,  2.84it/s]libpng warning: iCCP: known incorrect sRGB profile\n",
            "     60/100      7.63G      1.003      0.591       1.19        163        256:  28%|██▊       | 5/18 [00:01<00:04,  2.97it/s]libpng warning: iCCP: known incorrect sRGB profile\n",
            "     60/100      7.63G     0.9935     0.5973      1.189        198        256:  61%|██████    | 11/18 [00:03<00:02,  3.15it/s]libpng warning: iCCP: known incorrect sRGB profile\n",
            "     60/100      7.65G     0.9878      0.595      1.181         23        256: 100%|██████████| 18/18 [00:05<00:00,  3.21it/s]\n",
            "                 Class     Images  Instances      Box(P          R      mAP50  mAP50-95): 100%|██████████| 1/1 [00:00<00:00,  4.43it/s]"
          ]
        },
        {
          "name": "stdout",
          "output_type": "stream",
          "text": [
            "                   all        112        121      0.735      0.529      0.619      0.268\n"
          ]
        },
        {
          "name": "stderr",
          "output_type": "stream",
          "text": [
            "\n"
          ]
        },
        {
          "name": "stdout",
          "output_type": "stream",
          "text": [
            "\n",
            "      Epoch    GPU_mem   box_loss   cls_loss   dfl_loss  Instances       Size\n"
          ]
        },
        {
          "name": "stderr",
          "output_type": "stream",
          "text": [
            "     61/100      7.62G      1.003     0.5956      1.198        187        256:  28%|██▊       | 5/18 [00:01<00:04,  3.07it/s]libpng warning: iCCP: known incorrect sRGB profile\n",
            "     61/100      7.62G     0.9924     0.5915      1.183        180        256:  44%|████▍     | 8/18 [00:02<00:03,  3.09it/s]libpng warning: iCCP: known incorrect sRGB profile\n",
            "     61/100      7.64G     0.9841     0.5786      1.172         31        256: 100%|██████████| 18/18 [00:05<00:00,  3.28it/s]\n",
            "                 Class     Images  Instances      Box(P          R      mAP50  mAP50-95): 100%|██████████| 1/1 [00:00<00:00,  4.39it/s]"
          ]
        },
        {
          "name": "stdout",
          "output_type": "stream",
          "text": [
            "                   all        112        121      0.645      0.572      0.522       0.24\n"
          ]
        },
        {
          "name": "stderr",
          "output_type": "stream",
          "text": [
            "\n"
          ]
        },
        {
          "name": "stdout",
          "output_type": "stream",
          "text": [
            "\n",
            "      Epoch    GPU_mem   box_loss   cls_loss   dfl_loss  Instances       Size\n"
          ]
        },
        {
          "name": "stderr",
          "output_type": "stream",
          "text": [
            "     62/100      7.48G     0.9769     0.5845       1.16        174        256:  61%|██████    | 11/18 [00:03<00:02,  2.78it/s]libpng warning: iCCP: known incorrect sRGB profile\n",
            "     62/100      7.48G      0.982     0.5884      1.164        173        256:  72%|███████▏  | 13/18 [00:04<00:01,  2.75it/s]libpng warning: iCCP: known incorrect sRGB profile\n",
            "     62/100       7.5G     0.9835     0.5884      1.169         29        256: 100%|██████████| 18/18 [00:06<00:00,  2.92it/s]\n",
            "                 Class     Images  Instances      Box(P          R      mAP50  mAP50-95): 100%|██████████| 1/1 [00:00<00:00,  4.57it/s]"
          ]
        },
        {
          "name": "stdout",
          "output_type": "stream",
          "text": [
            "                   all        112        121      0.707      0.578      0.592      0.214\n"
          ]
        },
        {
          "name": "stderr",
          "output_type": "stream",
          "text": [
            "\n"
          ]
        },
        {
          "name": "stdout",
          "output_type": "stream",
          "text": [
            "\n",
            "      Epoch    GPU_mem   box_loss   cls_loss   dfl_loss  Instances       Size\n"
          ]
        },
        {
          "name": "stderr",
          "output_type": "stream",
          "text": [
            "     63/100       7.5G      1.029     0.6029      1.196         20        256: 100%|██████████| 18/18 [00:05<00:00,  3.21it/s]\n",
            "                 Class     Images  Instances      Box(P          R      mAP50  mAP50-95): 100%|██████████| 1/1 [00:00<00:00,  4.50it/s]"
          ]
        },
        {
          "name": "stdout",
          "output_type": "stream",
          "text": [
            "                   all        112        121      0.647      0.628      0.573      0.209\n"
          ]
        },
        {
          "name": "stderr",
          "output_type": "stream",
          "text": [
            "\n"
          ]
        },
        {
          "name": "stdout",
          "output_type": "stream",
          "text": [
            "\n",
            "      Epoch    GPU_mem   box_loss   cls_loss   dfl_loss  Instances       Size\n"
          ]
        },
        {
          "name": "stderr",
          "output_type": "stream",
          "text": [
            "     64/100       7.5G      0.982     0.5843      1.172         21        256: 100%|██████████| 18/18 [00:05<00:00,  3.27it/s]\n",
            "                 Class     Images  Instances      Box(P          R      mAP50  mAP50-95): 100%|██████████| 1/1 [00:00<00:00,  4.63it/s]"
          ]
        },
        {
          "name": "stdout",
          "output_type": "stream",
          "text": [
            "                   all        112        121      0.647      0.546      0.515      0.172\n"
          ]
        },
        {
          "name": "stderr",
          "output_type": "stream",
          "text": [
            "\n"
          ]
        },
        {
          "name": "stdout",
          "output_type": "stream",
          "text": [
            "\n",
            "      Epoch    GPU_mem   box_loss   cls_loss   dfl_loss  Instances       Size\n"
          ]
        },
        {
          "name": "stderr",
          "output_type": "stream",
          "text": [
            "     65/100      7.48G     0.9575     0.5638      1.147        192        256:  17%|█▋        | 3/18 [00:01<00:05,  2.93it/s]libpng warning: iCCP: known incorrect sRGB profile\n",
            "     65/100      7.48G     0.9716     0.5606      1.158        172        256:  44%|████▍     | 8/18 [00:02<00:03,  2.92it/s]libpng warning: iCCP: known incorrect sRGB profile\n",
            "     65/100      7.48G     0.9737     0.5571      1.159        180        256:  78%|███████▊  | 14/18 [00:04<00:01,  3.15it/s]libpng warning: iCCP: known incorrect sRGB profile\n",
            "     65/100       7.5G     0.9753       0.56      1.161         24        256: 100%|██████████| 18/18 [00:05<00:00,  3.18it/s]\n",
            "                 Class     Images  Instances      Box(P          R      mAP50  mAP50-95): 100%|██████████| 1/1 [00:00<00:00,  4.59it/s]"
          ]
        },
        {
          "name": "stdout",
          "output_type": "stream",
          "text": [
            "                   all        112        121      0.662      0.537      0.513      0.167\n"
          ]
        },
        {
          "name": "stderr",
          "output_type": "stream",
          "text": [
            "\n"
          ]
        },
        {
          "name": "stdout",
          "output_type": "stream",
          "text": [
            "\n",
            "      Epoch    GPU_mem   box_loss   cls_loss   dfl_loss  Instances       Size\n"
          ]
        },
        {
          "name": "stderr",
          "output_type": "stream",
          "text": [
            "     66/100      7.48G     0.9873     0.5771      1.173        163        256:  44%|████▍     | 8/18 [00:02<00:03,  2.82it/s]libpng warning: iCCP: known incorrect sRGB profile\n",
            "     66/100       7.5G     0.9718     0.5633      1.162         25        256: 100%|██████████| 18/18 [00:06<00:00,  2.94it/s]\n",
            "                 Class     Images  Instances      Box(P          R      mAP50  mAP50-95): 100%|██████████| 1/1 [00:00<00:00,  2.90it/s]"
          ]
        },
        {
          "name": "stdout",
          "output_type": "stream",
          "text": [
            "                   all        112        121      0.649      0.545      0.542      0.216\n"
          ]
        },
        {
          "name": "stderr",
          "output_type": "stream",
          "text": [
            "\n"
          ]
        },
        {
          "name": "stdout",
          "output_type": "stream",
          "text": [
            "\n",
            "      Epoch    GPU_mem   box_loss   cls_loss   dfl_loss  Instances       Size\n"
          ]
        },
        {
          "name": "stderr",
          "output_type": "stream",
          "text": [
            "     67/100      7.63G     0.9668     0.5836      1.154        175        256:  33%|███▎      | 6/18 [00:01<00:03,  3.22it/s]libpng warning: iCCP: known incorrect sRGB profile\n",
            "     67/100      7.63G     0.9729     0.5723      1.161        161        256:  50%|█████     | 9/18 [00:02<00:02,  3.20it/s]libpng warning: iCCP: known incorrect sRGB profile\n",
            "     67/100      7.63G     0.9638     0.5603      1.155        163        256:  61%|██████    | 11/18 [00:03<00:02,  3.01it/s]libpng warning: iCCP: known incorrect sRGB profile\n",
            "     67/100      7.65G     0.9627     0.5626      1.155         21        256: 100%|██████████| 18/18 [00:05<00:00,  3.13it/s]\n",
            "                 Class     Images  Instances      Box(P          R      mAP50  mAP50-95): 100%|██████████| 1/1 [00:00<00:00,  2.85it/s]"
          ]
        },
        {
          "name": "stdout",
          "output_type": "stream",
          "text": [
            "                   all        112        121      0.669      0.584       0.57      0.228\n"
          ]
        },
        {
          "name": "stderr",
          "output_type": "stream",
          "text": [
            "\n"
          ]
        },
        {
          "name": "stdout",
          "output_type": "stream",
          "text": [
            "\n",
            "      Epoch    GPU_mem   box_loss   cls_loss   dfl_loss  Instances       Size\n"
          ]
        },
        {
          "name": "stderr",
          "output_type": "stream",
          "text": [
            "     68/100      7.48G     0.9784     0.5596      1.175        169        256:  78%|███████▊  | 14/18 [00:04<00:01,  2.85it/s]libpng warning: iCCP: known incorrect sRGB profile\n",
            "     68/100       7.5G     0.9979     0.5702      1.185         19        256: 100%|██████████| 18/18 [00:05<00:00,  3.02it/s]\n",
            "                 Class     Images  Instances      Box(P          R      mAP50  mAP50-95): 100%|██████████| 1/1 [00:00<00:00,  4.47it/s]"
          ]
        },
        {
          "name": "stdout",
          "output_type": "stream",
          "text": [
            "                   all        112        121      0.724      0.694      0.698      0.275\n"
          ]
        },
        {
          "name": "stderr",
          "output_type": "stream",
          "text": [
            "\n"
          ]
        },
        {
          "name": "stdout",
          "output_type": "stream",
          "text": [
            "\n",
            "      Epoch    GPU_mem   box_loss   cls_loss   dfl_loss  Instances       Size\n"
          ]
        },
        {
          "name": "stderr",
          "output_type": "stream",
          "text": [
            "     69/100      7.61G     0.9541     0.5549      1.149        178        256:  61%|██████    | 11/18 [00:03<00:02,  2.93it/s]libpng warning: iCCP: known incorrect sRGB profile\n",
            "     69/100      7.64G      0.953      0.556      1.156         22        256: 100%|██████████| 18/18 [00:05<00:00,  3.22it/s]\n",
            "                 Class     Images  Instances      Box(P          R      mAP50  mAP50-95): 100%|██████████| 1/1 [00:00<00:00,  4.58it/s]"
          ]
        },
        {
          "name": "stdout",
          "output_type": "stream",
          "text": [
            "                   all        112        121      0.718      0.661        0.7      0.269\n"
          ]
        },
        {
          "name": "stderr",
          "output_type": "stream",
          "text": [
            "\n"
          ]
        },
        {
          "name": "stdout",
          "output_type": "stream",
          "text": [
            "\n",
            "      Epoch    GPU_mem   box_loss   cls_loss   dfl_loss  Instances       Size\n"
          ]
        },
        {
          "name": "stderr",
          "output_type": "stream",
          "text": [
            "     70/100      7.61G     0.9611     0.5687       1.19        169        256:  22%|██▏       | 4/18 [00:01<00:04,  3.18it/s]libpng warning: iCCP: known incorrect sRGB profile\n",
            "     70/100      7.63G     0.9264     0.5347      1.151         25        256: 100%|██████████| 18/18 [00:05<00:00,  3.12it/s]\n",
            "                 Class     Images  Instances      Box(P          R      mAP50  mAP50-95): 100%|██████████| 1/1 [00:00<00:00,  2.86it/s]"
          ]
        },
        {
          "name": "stdout",
          "output_type": "stream",
          "text": [
            "                   all        112        121        0.7       0.57        0.6      0.261\n"
          ]
        },
        {
          "name": "stderr",
          "output_type": "stream",
          "text": [
            "\n"
          ]
        },
        {
          "name": "stdout",
          "output_type": "stream",
          "text": [
            "\n",
            "      Epoch    GPU_mem   box_loss   cls_loss   dfl_loss  Instances       Size\n"
          ]
        },
        {
          "name": "stderr",
          "output_type": "stream",
          "text": [
            "     71/100      7.61G     0.9291      0.526      1.148        168        256:  44%|████▍     | 8/18 [00:02<00:03,  3.20it/s]libpng warning: iCCP: known incorrect sRGB profile\n",
            "     71/100      7.61G     0.9317     0.5275      1.154        162        256:  72%|███████▏  | 13/18 [00:04<00:01,  3.16it/s]libpng warning: iCCP: known incorrect sRGB profile\n",
            "     71/100      7.61G     0.9461     0.5327       1.16        177        256:  83%|████████▎ | 15/18 [00:04<00:00,  3.18it/s]libpng warning: iCCP: known incorrect sRGB profile\n",
            "     71/100      7.63G     0.9521     0.5395      1.166         20        256: 100%|██████████| 18/18 [00:05<00:00,  3.33it/s]\n",
            "                 Class     Images  Instances      Box(P          R      mAP50  mAP50-95): 100%|██████████| 1/1 [00:00<00:00,  4.51it/s]"
          ]
        },
        {
          "name": "stdout",
          "output_type": "stream",
          "text": [
            "                   all        112        121      0.591      0.636      0.592      0.257\n"
          ]
        },
        {
          "name": "stderr",
          "output_type": "stream",
          "text": [
            "\n"
          ]
        },
        {
          "name": "stdout",
          "output_type": "stream",
          "text": [
            "\n",
            "      Epoch    GPU_mem   box_loss   cls_loss   dfl_loss  Instances       Size\n"
          ]
        },
        {
          "name": "stderr",
          "output_type": "stream",
          "text": [
            "     72/100      7.62G     0.9298     0.5442      1.147        182        256:  61%|██████    | 11/18 [00:03<00:02,  3.19it/s]libpng warning: iCCP: known incorrect sRGB profile\n",
            "     72/100      7.62G     0.9321     0.5468      1.147        179        256:  67%|██████▋   | 12/18 [00:03<00:01,  3.21it/s]libpng warning: iCCP: known incorrect sRGB profile\n",
            "     72/100      7.64G     0.9416     0.5506      1.161         24        256: 100%|██████████| 18/18 [00:05<00:00,  3.35it/s]\n",
            "                 Class     Images  Instances      Box(P          R      mAP50  mAP50-95): 100%|██████████| 1/1 [00:00<00:00,  4.54it/s]"
          ]
        },
        {
          "name": "stdout",
          "output_type": "stream",
          "text": [
            "                   all        112        121      0.611      0.532       0.54      0.217\n"
          ]
        },
        {
          "name": "stderr",
          "output_type": "stream",
          "text": [
            "\n"
          ]
        },
        {
          "name": "stdout",
          "output_type": "stream",
          "text": [
            "\n",
            "      Epoch    GPU_mem   box_loss   cls_loss   dfl_loss  Instances       Size\n"
          ]
        },
        {
          "name": "stderr",
          "output_type": "stream",
          "text": [
            "     73/100      7.61G     0.9248     0.5315      1.155        154        256:  44%|████▍     | 8/18 [00:02<00:03,  3.20it/s]libpng warning: iCCP: known incorrect sRGB profile\n",
            "     73/100      7.63G     0.9209     0.5245      1.151         24        256: 100%|██████████| 18/18 [00:05<00:00,  3.34it/s]\n",
            "                 Class     Images  Instances      Box(P          R      mAP50  mAP50-95): 100%|██████████| 1/1 [00:00<00:00,  4.61it/s]"
          ]
        },
        {
          "name": "stdout",
          "output_type": "stream",
          "text": [
            "                   all        112        121      0.713      0.537       0.58      0.226\n"
          ]
        },
        {
          "name": "stderr",
          "output_type": "stream",
          "text": [
            "\n"
          ]
        },
        {
          "name": "stdout",
          "output_type": "stream",
          "text": [
            "\n",
            "      Epoch    GPU_mem   box_loss   cls_loss   dfl_loss  Instances       Size\n"
          ]
        },
        {
          "name": "stderr",
          "output_type": "stream",
          "text": [
            "     74/100      7.62G     0.9278     0.5341      1.149        165        256:  78%|███████▊  | 14/18 [00:04<00:01,  3.12it/s]libpng warning: iCCP: known incorrect sRGB profile\n",
            "     74/100      7.64G     0.9303     0.5319      1.145         26        256: 100%|██████████| 18/18 [00:05<00:00,  3.09it/s]\n",
            "                 Class     Images  Instances      Box(P          R      mAP50  mAP50-95): 100%|██████████| 1/1 [00:00<00:00,  4.50it/s]"
          ]
        },
        {
          "name": "stdout",
          "output_type": "stream",
          "text": [
            "                   all        112        121      0.736       0.62      0.634      0.228\n"
          ]
        },
        {
          "name": "stderr",
          "output_type": "stream",
          "text": [
            "\n"
          ]
        },
        {
          "name": "stdout",
          "output_type": "stream",
          "text": [
            "\n",
            "      Epoch    GPU_mem   box_loss   cls_loss   dfl_loss  Instances       Size\n"
          ]
        },
        {
          "name": "stderr",
          "output_type": "stream",
          "text": [
            "     75/100      7.62G     0.9185     0.5365      1.134        165        256:  28%|██▊       | 5/18 [00:01<00:04,  3.05it/s]libpng warning: iCCP: known incorrect sRGB profile\n",
            "     75/100      7.62G     0.9323     0.5388      1.148        189        256:  33%|███▎      | 6/18 [00:01<00:03,  3.06it/s]libpng warning: iCCP: known incorrect sRGB profile\n",
            "     75/100      7.62G     0.9288      0.532      1.145        182        256:  44%|████▍     | 8/18 [00:02<00:03,  2.98it/s]libpng warning: iCCP: known incorrect sRGB profile\n",
            "     75/100      7.64G     0.9406     0.5414      1.153         29        256: 100%|██████████| 18/18 [00:05<00:00,  3.16it/s]\n",
            "                 Class     Images  Instances      Box(P          R      mAP50  mAP50-95): 100%|██████████| 1/1 [00:00<00:00,  4.42it/s]"
          ]
        },
        {
          "name": "stdout",
          "output_type": "stream",
          "text": [
            "                   all        112        121      0.752      0.653       0.68      0.247\n"
          ]
        },
        {
          "name": "stderr",
          "output_type": "stream",
          "text": [
            "\n"
          ]
        },
        {
          "name": "stdout",
          "output_type": "stream",
          "text": [
            "\n",
            "      Epoch    GPU_mem   box_loss   cls_loss   dfl_loss  Instances       Size\n"
          ]
        },
        {
          "name": "stderr",
          "output_type": "stream",
          "text": [
            "     76/100      7.62G     0.9211     0.5248      1.145        179        256:  83%|████████▎ | 15/18 [00:04<00:01,  2.88it/s]libpng warning: iCCP: known incorrect sRGB profile\n",
            "     76/100      7.64G     0.9177     0.5249      1.141         18        256: 100%|██████████| 18/18 [00:05<00:00,  3.18it/s]\n",
            "                 Class     Images  Instances      Box(P          R      mAP50  mAP50-95): 100%|██████████| 1/1 [00:00<00:00,  4.26it/s]"
          ]
        },
        {
          "name": "stdout",
          "output_type": "stream",
          "text": [
            "                   all        112        121      0.714      0.536      0.535      0.204\n"
          ]
        },
        {
          "name": "stderr",
          "output_type": "stream",
          "text": [
            "\n"
          ]
        },
        {
          "name": "stdout",
          "output_type": "stream",
          "text": [
            "\n",
            "      Epoch    GPU_mem   box_loss   cls_loss   dfl_loss  Instances       Size\n"
          ]
        },
        {
          "name": "stderr",
          "output_type": "stream",
          "text": [
            "     77/100      7.64G     0.9083     0.5139      1.139         20        256: 100%|██████████| 18/18 [00:05<00:00,  3.18it/s]\n",
            "                 Class     Images  Instances      Box(P          R      mAP50  mAP50-95): 100%|██████████| 1/1 [00:00<00:00,  2.80it/s]"
          ]
        },
        {
          "name": "stdout",
          "output_type": "stream",
          "text": [
            "                   all        112        121      0.787       0.62      0.639      0.273\n"
          ]
        },
        {
          "name": "stderr",
          "output_type": "stream",
          "text": [
            "\n"
          ]
        },
        {
          "name": "stdout",
          "output_type": "stream",
          "text": [
            "\n",
            "      Epoch    GPU_mem   box_loss   cls_loss   dfl_loss  Instances       Size\n"
          ]
        },
        {
          "name": "stderr",
          "output_type": "stream",
          "text": [
            "     78/100      7.61G     0.8999     0.5059      1.135        165        256:  50%|█████     | 9/18 [00:03<00:03,  2.70it/s]libpng warning: iCCP: known incorrect sRGB profile\n",
            "     78/100      7.64G     0.8981      0.514      1.134         23        256: 100%|██████████| 18/18 [00:06<00:00,  2.92it/s]\n",
            "                 Class     Images  Instances      Box(P          R      mAP50  mAP50-95): 100%|██████████| 1/1 [00:00<00:00,  2.80it/s]"
          ]
        },
        {
          "name": "stdout",
          "output_type": "stream",
          "text": [
            "                   all        112        121      0.701      0.587      0.581      0.216\n"
          ]
        },
        {
          "name": "stderr",
          "output_type": "stream",
          "text": [
            "\n"
          ]
        },
        {
          "name": "stdout",
          "output_type": "stream",
          "text": [
            "\n",
            "      Epoch    GPU_mem   box_loss   cls_loss   dfl_loss  Instances       Size\n"
          ]
        },
        {
          "name": "stderr",
          "output_type": "stream",
          "text": [
            "     79/100      7.61G     0.9458     0.5479       1.18        156        256:  11%|█         | 2/18 [00:00<00:05,  3.19it/s]libpng warning: iCCP: known incorrect sRGB profile\n",
            "     79/100      7.63G     0.9203     0.5193      1.146         23        256: 100%|██████████| 18/18 [00:05<00:00,  3.27it/s]\n",
            "                 Class     Images  Instances      Box(P          R      mAP50  mAP50-95): 100%|██████████| 1/1 [00:00<00:00,  4.46it/s]"
          ]
        },
        {
          "name": "stdout",
          "output_type": "stream",
          "text": [
            "                   all        112        121      0.756      0.521      0.567      0.194\n"
          ]
        },
        {
          "name": "stderr",
          "output_type": "stream",
          "text": [
            "\n"
          ]
        },
        {
          "name": "stdout",
          "output_type": "stream",
          "text": [
            "\n",
            "      Epoch    GPU_mem   box_loss   cls_loss   dfl_loss  Instances       Size\n"
          ]
        },
        {
          "name": "stderr",
          "output_type": "stream",
          "text": [
            "     80/100      7.62G     0.9011     0.5075      1.135        180        256:  33%|███▎      | 6/18 [00:02<00:04,  2.80it/s]libpng warning: iCCP: known incorrect sRGB profile\n",
            "     80/100      7.64G     0.8744     0.4981      1.128         24        256: 100%|██████████| 18/18 [00:06<00:00,  2.87it/s]\n",
            "                 Class     Images  Instances      Box(P          R      mAP50  mAP50-95):   0%|          | 0/1 [00:00<?, ?it/s]libpng warning: iCCP: known incorrect sRGB profile\n",
            "                 Class     Images  Instances      Box(P          R      mAP50  mAP50-95): 100%|██████████| 1/1 [00:00<00:00,  4.32it/s]"
          ]
        },
        {
          "name": "stdout",
          "output_type": "stream",
          "text": [
            "                   all        112        121      0.681      0.529       0.52      0.205\n"
          ]
        },
        {
          "name": "stderr",
          "output_type": "stream",
          "text": [
            "\n"
          ]
        },
        {
          "name": "stdout",
          "output_type": "stream",
          "text": [
            "\n",
            "      Epoch    GPU_mem   box_loss   cls_loss   dfl_loss  Instances       Size\n"
          ]
        },
        {
          "name": "stderr",
          "output_type": "stream",
          "text": [
            "     81/100      7.63G     0.8878     0.4803      1.106        185        256:  11%|█         | 2/18 [00:00<00:05,  2.76it/s]libpng warning: iCCP: known incorrect sRGB profile\n",
            "     81/100      7.63G     0.8704     0.4965      1.122        179        256:  61%|██████    | 11/18 [00:03<00:02,  3.10it/s]libpng warning: iCCP: known incorrect sRGB profile\n",
            "     81/100      7.63G     0.8595     0.4865      1.113        185        256:  89%|████████▉ | 16/18 [00:05<00:00,  3.14it/s]libpng warning: iCCP: known incorrect sRGB profile\n",
            "     81/100      7.65G      0.856     0.4844      1.109         23        256: 100%|██████████| 18/18 [00:05<00:00,  3.15it/s]\n",
            "                 Class     Images  Instances      Box(P          R      mAP50  mAP50-95): 100%|██████████| 1/1 [00:00<00:00,  4.44it/s]"
          ]
        },
        {
          "name": "stdout",
          "output_type": "stream",
          "text": [
            "                   all        112        121      0.772      0.587      0.662      0.264\n"
          ]
        },
        {
          "name": "stderr",
          "output_type": "stream",
          "text": [
            "\n"
          ]
        },
        {
          "name": "stdout",
          "output_type": "stream",
          "text": [
            "\n",
            "      Epoch    GPU_mem   box_loss   cls_loss   dfl_loss  Instances       Size\n"
          ]
        },
        {
          "name": "stderr",
          "output_type": "stream",
          "text": [
            "     82/100      7.62G     0.8761     0.4871      1.126        165        256:  67%|██████▋   | 12/18 [00:04<00:01,  3.01it/s]libpng warning: iCCP: known incorrect sRGB profile\n",
            "     82/100      7.64G        0.9     0.5028      1.137         20        256: 100%|██████████| 18/18 [00:05<00:00,  3.06it/s]\n",
            "                 Class     Images  Instances      Box(P          R      mAP50  mAP50-95): 100%|██████████| 1/1 [00:00<00:00,  4.48it/s]"
          ]
        },
        {
          "name": "stdout",
          "output_type": "stream",
          "text": [
            "                   all        112        121      0.672      0.612      0.641      0.249\n"
          ]
        },
        {
          "name": "stderr",
          "output_type": "stream",
          "text": [
            "\n"
          ]
        },
        {
          "name": "stdout",
          "output_type": "stream",
          "text": [
            "\n",
            "      Epoch    GPU_mem   box_loss   cls_loss   dfl_loss  Instances       Size\n"
          ]
        },
        {
          "name": "stderr",
          "output_type": "stream",
          "text": [
            "     83/100      7.63G     0.8789     0.4967      1.109        189        256:  22%|██▏       | 4/18 [00:01<00:04,  3.14it/s]libpng warning: iCCP: known incorrect sRGB profile\n",
            "     83/100      7.66G      0.858     0.4761      1.115         24        256: 100%|██████████| 18/18 [00:05<00:00,  3.28it/s]\n",
            "                 Class     Images  Instances      Box(P          R      mAP50  mAP50-95): 100%|██████████| 1/1 [00:00<00:00,  4.46it/s]"
          ]
        },
        {
          "name": "stdout",
          "output_type": "stream",
          "text": [
            "                   all        112        121      0.623      0.694      0.654      0.248\n"
          ]
        },
        {
          "name": "stderr",
          "output_type": "stream",
          "text": [
            "\n"
          ]
        },
        {
          "name": "stdout",
          "output_type": "stream",
          "text": [
            "\n",
            "      Epoch    GPU_mem   box_loss   cls_loss   dfl_loss  Instances       Size\n"
          ]
        },
        {
          "name": "stderr",
          "output_type": "stream",
          "text": [
            "     84/100      7.61G     0.8334     0.4684      1.103        179        256:  17%|█▋        | 3/18 [00:01<00:05,  2.78it/s]libpng warning: iCCP: known incorrect sRGB profile\n",
            "     84/100      7.61G     0.8563     0.4819      1.103        175        256:  83%|████████▎ | 15/18 [00:05<00:01,  2.79it/s]libpng warning: iCCP: known incorrect sRGB profile\n",
            "     84/100      7.63G     0.8606     0.4855      1.107         23        256: 100%|██████████| 18/18 [00:06<00:00,  2.89it/s]\n",
            "                 Class     Images  Instances      Box(P          R      mAP50  mAP50-95): 100%|██████████| 1/1 [00:00<00:00,  2.74it/s]"
          ]
        },
        {
          "name": "stdout",
          "output_type": "stream",
          "text": [
            "                   all        112        121      0.596      0.603      0.547      0.202\n"
          ]
        },
        {
          "name": "stderr",
          "output_type": "stream",
          "text": [
            "\n"
          ]
        },
        {
          "name": "stdout",
          "output_type": "stream",
          "text": [
            "\n",
            "      Epoch    GPU_mem   box_loss   cls_loss   dfl_loss  Instances       Size\n"
          ]
        },
        {
          "name": "stderr",
          "output_type": "stream",
          "text": [
            "     85/100      7.66G     0.8548     0.4832      1.107         23        256: 100%|██████████| 18/18 [00:06<00:00,  2.90it/s]\n",
            "                 Class     Images  Instances      Box(P          R      mAP50  mAP50-95):   0%|          | 0/1 [00:00<?, ?it/s]libpng warning: iCCP: known incorrect sRGB profile\n",
            "                 Class     Images  Instances      Box(P          R      mAP50  mAP50-95): 100%|██████████| 1/1 [00:00<00:00,  4.50it/s]"
          ]
        },
        {
          "name": "stdout",
          "output_type": "stream",
          "text": [
            "                   all        112        121       0.71      0.727      0.737       0.28\n"
          ]
        },
        {
          "name": "stderr",
          "output_type": "stream",
          "text": [
            "\n"
          ]
        },
        {
          "name": "stdout",
          "output_type": "stream",
          "text": [
            "\n",
            "      Epoch    GPU_mem   box_loss   cls_loss   dfl_loss  Instances       Size\n"
          ]
        },
        {
          "name": "stderr",
          "output_type": "stream",
          "text": [
            "     86/100      7.62G      0.856     0.4743      1.107        177        256:  94%|█████████▍| 17/18 [00:06<00:00,  2.87it/s]libpng warning: iCCP: known incorrect sRGB profile\n",
            "     86/100      7.64G      0.861     0.4738      1.109         31        256: 100%|██████████| 18/18 [00:06<00:00,  2.91it/s]\n",
            "                 Class     Images  Instances      Box(P          R      mAP50  mAP50-95): 100%|██████████| 1/1 [00:00<00:00,  4.52it/s]"
          ]
        },
        {
          "name": "stdout",
          "output_type": "stream",
          "text": [
            "                   all        112        121      0.734      0.669      0.684      0.273\n"
          ]
        },
        {
          "name": "stderr",
          "output_type": "stream",
          "text": [
            "\n"
          ]
        },
        {
          "name": "stdout",
          "output_type": "stream",
          "text": [
            "\n",
            "      Epoch    GPU_mem   box_loss   cls_loss   dfl_loss  Instances       Size\n"
          ]
        },
        {
          "name": "stderr",
          "output_type": "stream",
          "text": [
            "  0%|          | 0/18 [00:00<?, ?it/s]libpng warning: iCCP: known incorrect sRGB profile\n",
            "     87/100      7.62G     0.8332      0.462      1.109        172        256:  61%|██████    | 11/18 [00:03<00:02,  2.85it/s]libpng warning: iCCP: known incorrect sRGB profile\n",
            "     87/100      7.62G     0.8593     0.4785      1.119        186        256:  89%|████████▉ | 16/18 [00:05<00:00,  2.80it/s]libpng warning: iCCP: known incorrect sRGB profile\n",
            "     87/100      7.62G     0.8602     0.4795       1.12        152        256:  94%|█████████▍| 17/18 [00:05<00:00,  2.81it/s]libpng warning: iCCP: known incorrect sRGB profile\n",
            "     87/100      7.64G     0.8619     0.4778      1.122         19        256: 100%|██████████| 18/18 [00:06<00:00,  2.99it/s]\n",
            "                 Class     Images  Instances      Box(P          R      mAP50  mAP50-95): 100%|██████████| 1/1 [00:00<00:00,  4.52it/s]"
          ]
        },
        {
          "name": "stdout",
          "output_type": "stream",
          "text": [
            "                   all        112        121       0.66      0.678      0.615      0.192\n"
          ]
        },
        {
          "name": "stderr",
          "output_type": "stream",
          "text": [
            "\n"
          ]
        },
        {
          "name": "stdout",
          "output_type": "stream",
          "text": [
            "\n",
            "      Epoch    GPU_mem   box_loss   cls_loss   dfl_loss  Instances       Size\n"
          ]
        },
        {
          "name": "stderr",
          "output_type": "stream",
          "text": [
            "     88/100      7.61G      0.855     0.4898      1.111        192        256:  44%|████▍     | 8/18 [00:02<00:03,  3.17it/s]libpng warning: iCCP: known incorrect sRGB profile\n",
            "     88/100      7.61G     0.8504     0.4899      1.112        165        256:  56%|█████▌    | 10/18 [00:03<00:02,  3.16it/s]libpng warning: iCCP: known incorrect sRGB profile\n",
            "     88/100      7.63G     0.8521     0.4849      1.109         22        256: 100%|██████████| 18/18 [00:05<00:00,  3.16it/s]\n",
            "                 Class     Images  Instances      Box(P          R      mAP50  mAP50-95): 100%|██████████| 1/1 [00:00<00:00,  2.82it/s]"
          ]
        },
        {
          "name": "stdout",
          "output_type": "stream",
          "text": [
            "                   all        112        121      0.707      0.669      0.599      0.199\n"
          ]
        },
        {
          "name": "stderr",
          "output_type": "stream",
          "text": [
            "\n"
          ]
        },
        {
          "name": "stdout",
          "output_type": "stream",
          "text": [
            "\n",
            "      Epoch    GPU_mem   box_loss   cls_loss   dfl_loss  Instances       Size\n"
          ]
        },
        {
          "name": "stderr",
          "output_type": "stream",
          "text": [
            "     89/100      7.62G     0.8898     0.4972       1.13        171        256:  17%|█▋        | 3/18 [00:00<00:04,  3.15it/s]libpng warning: iCCP: known incorrect sRGB profile\n",
            "     89/100      7.64G      0.838     0.4653      1.102         27        256: 100%|██████████| 18/18 [00:05<00:00,  3.29it/s]\n",
            "                 Class     Images  Instances      Box(P          R      mAP50  mAP50-95): 100%|██████████| 1/1 [00:00<00:00,  4.48it/s]"
          ]
        },
        {
          "name": "stdout",
          "output_type": "stream",
          "text": [
            "                   all        112        121      0.813      0.636      0.687      0.272\n"
          ]
        },
        {
          "name": "stderr",
          "output_type": "stream",
          "text": [
            "\n"
          ]
        },
        {
          "name": "stdout",
          "output_type": "stream",
          "text": [
            "\n",
            "      Epoch    GPU_mem   box_loss   cls_loss   dfl_loss  Instances       Size\n"
          ]
        },
        {
          "name": "stderr",
          "output_type": "stream",
          "text": [
            "     90/100      7.62G     0.8123     0.4624       1.07        176        256:  11%|█         | 2/18 [00:00<00:05,  3.12it/s]libpng warning: iCCP: known incorrect sRGB profile\n",
            "     90/100      7.62G     0.8539     0.4734        1.1        187        256:  44%|████▍     | 8/18 [00:02<00:03,  2.96it/s]libpng warning: iCCP: known incorrect sRGB profile\n",
            "     90/100      7.64G     0.8328     0.4689      1.096         27        256: 100%|██████████| 18/18 [00:05<00:00,  3.01it/s]\n",
            "                 Class     Images  Instances      Box(P          R      mAP50  mAP50-95): 100%|██████████| 1/1 [00:00<00:00,  2.83it/s]"
          ]
        },
        {
          "name": "stdout",
          "output_type": "stream",
          "text": [
            "                   all        112        121      0.764      0.595      0.649      0.251\n"
          ]
        },
        {
          "name": "stderr",
          "output_type": "stream",
          "text": [
            "\n"
          ]
        },
        {
          "name": "stdout",
          "output_type": "stream",
          "text": [
            "Closing dataloader mosaic\n",
            "\u001b[34m\u001b[1malbumentations: \u001b[0mBlur(p=0.01, blur_limit=(3, 7)), MedianBlur(p=0.01, blur_limit=(3, 7)), ToGray(p=0.01), CLAHE(p=0.01, clip_limit=(1, 4.0), tile_grid_size=(8, 8))\n",
            "\n",
            "      Epoch    GPU_mem   box_loss   cls_loss   dfl_loss  Instances       Size\n"
          ]
        },
        {
          "name": "stderr",
          "output_type": "stream",
          "text": [
            "  0%|          | 0/18 [00:00<?, ?it/s]libpng warning: iCCP: known incorrect sRGB profile\n",
            "libpng warning: iCCP: known incorrect sRGB profile\n",
            "     91/100      7.63G     0.8292     0.5763      1.124         76        256:   6%|▌         | 1/18 [00:00<00:14,  1.20it/s]libpng warning: iCCP: known incorrect sRGB profile\n",
            "     91/100      7.63G     0.7259     0.4653      1.077         72        256:  17%|█▋        | 3/18 [00:01<00:07,  2.09it/s]libpng warning: iCCP: known incorrect sRGB profile\n",
            "     91/100      7.63G     0.7081     0.4263      1.062         68        256:  39%|███▉      | 7/18 [00:02<00:03,  2.83it/s]libpng warning: iCCP: known incorrect sRGB profile\n",
            "     91/100      7.65G     0.7227     0.3909      1.072          9        256: 100%|██████████| 18/18 [00:06<00:00,  2.89it/s]\n",
            "                 Class     Images  Instances      Box(P          R      mAP50  mAP50-95): 100%|██████████| 1/1 [00:00<00:00,  4.59it/s]"
          ]
        },
        {
          "name": "stdout",
          "output_type": "stream",
          "text": [
            "                   all        112        121      0.729       0.57      0.545      0.171\n"
          ]
        },
        {
          "name": "stderr",
          "output_type": "stream",
          "text": [
            "\n"
          ]
        },
        {
          "name": "stdout",
          "output_type": "stream",
          "text": [
            "\n",
            "      Epoch    GPU_mem   box_loss   cls_loss   dfl_loss  Instances       Size\n"
          ]
        },
        {
          "name": "stderr",
          "output_type": "stream",
          "text": [
            "  0%|          | 0/18 [00:00<?, ?it/s]libpng warning: iCCP: known incorrect sRGB profile\n",
            "     92/100      7.62G     0.6584      0.327      1.024         64        256:  22%|██▏       | 4/18 [00:01<00:04,  3.10it/s]libpng warning: iCCP: known incorrect sRGB profile\n",
            "     92/100      7.62G     0.6877     0.3367       1.05         66        256:  89%|████████▉ | 16/18 [00:05<00:00,  2.96it/s]libpng warning: iCCP: known incorrect sRGB profile\n",
            "     92/100      7.63G     0.6869     0.3341      1.047          9        256: 100%|██████████| 18/18 [00:05<00:00,  3.19it/s]\n",
            "                 Class     Images  Instances      Box(P          R      mAP50  mAP50-95): 100%|██████████| 1/1 [00:00<00:00,  4.34it/s]"
          ]
        },
        {
          "name": "stdout",
          "output_type": "stream",
          "text": [
            "                   all        112        121      0.773      0.592      0.626      0.219\n"
          ]
        },
        {
          "name": "stderr",
          "output_type": "stream",
          "text": [
            "\n"
          ]
        },
        {
          "name": "stdout",
          "output_type": "stream",
          "text": [
            "\n",
            "      Epoch    GPU_mem   box_loss   cls_loss   dfl_loss  Instances       Size\n"
          ]
        },
        {
          "name": "stderr",
          "output_type": "stream",
          "text": [
            "     93/100      7.62G     0.6864     0.3381      1.044         85        256:  72%|███████▏  | 13/18 [00:04<00:01,  3.12it/s]libpng warning: iCCP: known incorrect sRGB profile\n",
            "     93/100      7.63G     0.6932     0.3349      1.042          9        256: 100%|██████████| 18/18 [00:05<00:00,  3.21it/s]\n",
            "                 Class     Images  Instances      Box(P          R      mAP50  mAP50-95):   0%|          | 0/1 [00:00<?, ?it/s]libpng warning: iCCP: known incorrect sRGB profile\n",
            "                 Class     Images  Instances      Box(P          R      mAP50  mAP50-95): 100%|██████████| 1/1 [00:00<00:00,  3.66it/s]"
          ]
        },
        {
          "name": "stdout",
          "output_type": "stream",
          "text": [
            "                   all        112        121      0.729       0.62      0.618      0.225\n"
          ]
        },
        {
          "name": "stderr",
          "output_type": "stream",
          "text": [
            "\n"
          ]
        },
        {
          "name": "stdout",
          "output_type": "stream",
          "text": [
            "\n",
            "      Epoch    GPU_mem   box_loss   cls_loss   dfl_loss  Instances       Size\n"
          ]
        },
        {
          "name": "stderr",
          "output_type": "stream",
          "text": [
            "     94/100      7.61G     0.6737      0.326      1.037         72        256:  78%|███████▊  | 14/18 [00:04<00:01,  3.04it/s]libpng warning: iCCP: known incorrect sRGB profile\n",
            "     94/100      7.61G     0.6683     0.3221      1.035         64        256:  89%|████████▉ | 16/18 [00:05<00:00,  3.10it/s]libpng warning: iCCP: known incorrect sRGB profile\n",
            "     94/100      7.61G      0.667      0.321      1.039         70        256:  94%|█████████▍| 17/18 [00:05<00:00,  3.08it/s]libpng warning: iCCP: known incorrect sRGB profile\n",
            "     94/100      7.63G     0.6753     0.3214      1.034         13        256: 100%|██████████| 18/18 [00:06<00:00,  2.98it/s]\n",
            "                 Class     Images  Instances      Box(P          R      mAP50  mAP50-95): 100%|██████████| 1/1 [00:00<00:00,  4.41it/s]"
          ]
        },
        {
          "name": "stdout",
          "output_type": "stream",
          "text": [
            "                   all        112        121      0.722      0.622      0.615      0.241\n"
          ]
        },
        {
          "name": "stderr",
          "output_type": "stream",
          "text": [
            "\n"
          ]
        },
        {
          "name": "stdout",
          "output_type": "stream",
          "text": [
            "\n",
            "      Epoch    GPU_mem   box_loss   cls_loss   dfl_loss  Instances       Size\n"
          ]
        },
        {
          "name": "stderr",
          "output_type": "stream",
          "text": [
            "     95/100      7.62G     0.6554     0.3339       1.02         74        256:  17%|█▋        | 3/18 [00:01<00:05,  2.60it/s]libpng warning: iCCP: known incorrect sRGB profile\n",
            "     95/100      7.62G     0.6569     0.3259      1.017         72        256:  28%|██▊       | 5/18 [00:01<00:05,  2.60it/s]libpng warning: iCCP: known incorrect sRGB profile\n",
            "     95/100      7.64G     0.6637     0.3202      1.032          9        256: 100%|██████████| 18/18 [00:06<00:00,  2.67it/s]\n",
            "                 Class     Images  Instances      Box(P          R      mAP50  mAP50-95): 100%|██████████| 1/1 [00:00<00:00,  2.41it/s]"
          ]
        },
        {
          "name": "stdout",
          "output_type": "stream",
          "text": [
            "                   all        112        121      0.688      0.645      0.582      0.218\n"
          ]
        },
        {
          "name": "stderr",
          "output_type": "stream",
          "text": [
            "\n"
          ]
        },
        {
          "name": "stdout",
          "output_type": "stream",
          "text": [
            "\n",
            "      Epoch    GPU_mem   box_loss   cls_loss   dfl_loss  Instances       Size\n"
          ]
        },
        {
          "name": "stderr",
          "output_type": "stream",
          "text": [
            "     96/100      7.63G     0.6534     0.3144      1.024          9        256: 100%|██████████| 18/18 [00:05<00:00,  3.07it/s]\n",
            "                 Class     Images  Instances      Box(P          R      mAP50  mAP50-95): 100%|██████████| 1/1 [00:00<00:00,  3.27it/s]"
          ]
        },
        {
          "name": "stdout",
          "output_type": "stream",
          "text": [
            "                   all        112        121      0.741      0.639      0.604      0.215\n"
          ]
        },
        {
          "name": "stderr",
          "output_type": "stream",
          "text": [
            "\n"
          ]
        },
        {
          "name": "stdout",
          "output_type": "stream",
          "text": [
            "\n",
            "      Epoch    GPU_mem   box_loss   cls_loss   dfl_loss  Instances       Size\n"
          ]
        },
        {
          "name": "stderr",
          "output_type": "stream",
          "text": [
            "     97/100      7.62G     0.6256     0.3032       1.02         66        256:  22%|██▏       | 4/18 [00:01<00:04,  3.09it/s]libpng warning: iCCP: known incorrect sRGB profile\n",
            "     97/100      7.62G     0.6262     0.3037      1.013         67        256:  39%|███▉      | 7/18 [00:02<00:03,  3.08it/s]libpng warning: iCCP: known incorrect sRGB profile\n",
            "     97/100      7.62G     0.6369      0.309      1.021         81        256:  83%|████████▎ | 15/18 [00:04<00:00,  3.08it/s]libpng warning: iCCP: known incorrect sRGB profile\n",
            "     97/100      7.64G     0.6387     0.3073      1.034          9        256: 100%|██████████| 18/18 [00:05<00:00,  3.23it/s]\n",
            "                 Class     Images  Instances      Box(P          R      mAP50  mAP50-95): 100%|██████████| 1/1 [00:00<00:00,  4.46it/s]"
          ]
        },
        {
          "name": "stdout",
          "output_type": "stream",
          "text": [
            "                   all        112        121       0.72       0.62      0.626      0.244\n"
          ]
        },
        {
          "name": "stderr",
          "output_type": "stream",
          "text": [
            "\n"
          ]
        },
        {
          "name": "stdout",
          "output_type": "stream",
          "text": [
            "\n",
            "      Epoch    GPU_mem   box_loss   cls_loss   dfl_loss  Instances       Size\n"
          ]
        },
        {
          "name": "stderr",
          "output_type": "stream",
          "text": [
            "     98/100      7.64G     0.6293     0.3055       1.02          9        256: 100%|██████████| 18/18 [00:06<00:00,  2.96it/s]\n",
            "                 Class     Images  Instances      Box(P          R      mAP50  mAP50-95): 100%|██████████| 1/1 [00:00<00:00,  2.81it/s]"
          ]
        },
        {
          "name": "stdout",
          "output_type": "stream",
          "text": [
            "                   all        112        121      0.738       0.65      0.654      0.261\n"
          ]
        },
        {
          "name": "stderr",
          "output_type": "stream",
          "text": [
            "\n"
          ]
        },
        {
          "name": "stdout",
          "output_type": "stream",
          "text": [
            "\n",
            "      Epoch    GPU_mem   box_loss   cls_loss   dfl_loss  Instances       Size\n"
          ]
        },
        {
          "name": "stderr",
          "output_type": "stream",
          "text": [
            "     99/100      7.63G     0.6453     0.3088      1.035         71        256:  39%|███▉      | 7/18 [00:02<00:03,  3.11it/s]libpng warning: iCCP: known incorrect sRGB profile\n",
            "     99/100      7.64G     0.6293     0.3093      1.024         64        256:  89%|████████▉ | 16/18 [00:05<00:00,  3.11it/s]libpng warning: iCCP: known incorrect sRGB profile\n",
            "     99/100      7.65G     0.6272     0.3097      1.026         10        256: 100%|██████████| 18/18 [00:05<00:00,  3.24it/s]\n",
            "                 Class     Images  Instances      Box(P          R      mAP50  mAP50-95): 100%|██████████| 1/1 [00:00<00:00,  4.41it/s]"
          ]
        },
        {
          "name": "stdout",
          "output_type": "stream",
          "text": [
            "                   all        112        121      0.721      0.661      0.639      0.249\n"
          ]
        },
        {
          "name": "stderr",
          "output_type": "stream",
          "text": [
            "\n"
          ]
        },
        {
          "name": "stdout",
          "output_type": "stream",
          "text": [
            "\n",
            "      Epoch    GPU_mem   box_loss   cls_loss   dfl_loss  Instances       Size\n"
          ]
        },
        {
          "name": "stderr",
          "output_type": "stream",
          "text": [
            "  0%|          | 0/18 [00:00<?, ?it/s]libpng warning: iCCP: known incorrect sRGB profile\n",
            "    100/100      7.61G     0.5712     0.2818      1.006         65        256:  11%|█         | 2/18 [00:00<00:05,  2.74it/s]libpng warning: iCCP: known incorrect sRGB profile\n",
            "    100/100      7.61G     0.6174      0.298      1.017         68        256:  44%|████▍     | 8/18 [00:02<00:03,  3.03it/s]libpng warning: iCCP: known incorrect sRGB profile\n",
            "    100/100      7.63G     0.6163     0.2941      1.011          9        256: 100%|██████████| 18/18 [00:05<00:00,  3.12it/s]\n",
            "                 Class     Images  Instances      Box(P          R      mAP50  mAP50-95): 100%|██████████| 1/1 [00:00<00:00,  4.24it/s]"
          ]
        },
        {
          "name": "stdout",
          "output_type": "stream",
          "text": [
            "                   all        112        121      0.703      0.661      0.618      0.224\n"
          ]
        },
        {
          "name": "stderr",
          "output_type": "stream",
          "text": [
            "\n"
          ]
        },
        {
          "name": "stdout",
          "output_type": "stream",
          "text": [
            "\n",
            "100 epochs completed in 0.198 hours.\n",
            "Optimizer stripped from runs/detect/train5/weights/last.pt, 51.6MB\n",
            "Optimizer stripped from runs/detect/train5/weights/best.pt, 51.6MB\n",
            "\n",
            "Validating runs/detect/train5/weights/best.pt...\n",
            "Ultralytics YOLOv8.2.28 🚀 Python-3.10.12 torch-2.3.0+cu121 CUDA:0 (NVIDIA GeForce RTX 4060 Ti, 16076MiB)\n",
            "YOLOv9c summary (fused): 384 layers, 25320019 parameters, 0 gradients, 102.3 GFLOPs\n"
          ]
        },
        {
          "name": "stderr",
          "output_type": "stream",
          "text": [
            "/home/lord/.local/lib/python3.10/site-packages/torch/nn/modules/conv.py:456: UserWarning: Plan failed with a cudnnException: CUDNN_BACKEND_EXECUTION_PLAN_DESCRIPTOR: cudnnFinalize Descriptor Failed cudnn_status: CUDNN_STATUS_NOT_SUPPORTED (Triggered internally at ../aten/src/ATen/native/cudnn/Conv_v8.cpp:919.)\n",
            "  return F.conv2d(input, weight, bias, self.stride,\n",
            "                 Class     Images  Instances      Box(P          R      mAP50  mAP50-95): 100%|██████████| 1/1 [00:00<00:00,  2.48it/s]\n"
          ]
        },
        {
          "name": "stdout",
          "output_type": "stream",
          "text": [
            "                   all        112        121      0.703      0.727      0.737      0.278\n",
            "Speed: 0.0ms preprocess, 1.1ms inference, 0.0ms loss, 0.5ms postprocess per image\n",
            "Results saved to \u001b[1mruns/detect/train5\u001b[0m\n"
          ]
        }
      ],
      "source": [
        "results = model.train(data=\"drones.yaml\", epochs=100, imgsz=256, batch=64)\n"
      ]
    },
    {
      "cell_type": "markdown",
      "metadata": {},
      "source": [
        "# Image Test"
      ]
    },
    {
      "cell_type": "code",
      "execution_count": 30,
      "metadata": {},
      "outputs": [
        {
          "name": "stdout",
          "output_type": "stream",
          "text": [
            "\n",
            "0: 384x640 (no detections), 6.4ms\n",
            "Speed: 0.8ms preprocess, 6.4ms inference, 0.2ms postprocess per image at shape (1, 3, 384, 640)\n"
          ]
        },
        {
          "data": {
            "text/plain": [
              "True"
            ]
          },
          "execution_count": 30,
          "metadata": {},
          "output_type": "execute_result"
        }
      ],
      "source": [
        "image = cv2.imread('yoto06497.png')\n",
        "result = model.predict(image)\n",
        "\n",
        "for detection in result:\n",
        "    boxes = sorted(detection.boxes, key=lambda b: b.xywh[0][2] * b.xywh[0][3])\n",
        "\n",
        "    if boxes:\n",
        "        box = boxes[-1]\n",
        "        if box.conf[0].item() < 0.7:\n",
        "            continue\n",
        "\n",
        "        x, y, w, h = box.xywh[0]\n",
        "        rect = int(x - w / 2), int(y - h / 2), int(w), int(h)\n",
        "\n",
        "        # Calculate the distance (you may need to adjust this calculation based on your specific use case)\n",
        "        distance = -(x - image.shape[1] / 2)\n",
        "\n",
        "        # Print the distance (replace this with your desired action)\n",
        "        print(f'Distance: {distance}')\n",
        "\n",
        "        # Draw a rectangle around the detected drone\n",
        "        cvzone.cornerRect(image, rect, l=5, rt=3)\n",
        "# save image to disk\n",
        "cv2.imwrite('output.jpg', image)"
      ]
    },
    {
      "cell_type": "markdown",
      "metadata": {},
      "source": [
        "# Video Test"
      ]
    },
    {
      "cell_type": "code",
      "execution_count": 7,
      "metadata": {},
      "outputs": [
        {
          "name": "stdout",
          "output_type": "stream",
          "text": [
            "\n",
            "0: 160x256 1 Drones, 11.4ms\n",
            "Speed: 4.8ms preprocess, 11.4ms inference, 1.1ms postprocess per image at shape (1, 3, 160, 256)\n",
            "Distance: 770.4649658203125\n",
            "\n",
            "0: 160x256 2 Droness, 11.5ms\n",
            "Speed: 0.5ms preprocess, 11.5ms inference, 1.2ms postprocess per image at shape (1, 3, 160, 256)\n",
            "\n",
            "0: 160x256 1 Drones, 14.0ms\n",
            "Speed: 0.6ms preprocess, 14.0ms inference, 1.3ms postprocess per image at shape (1, 3, 160, 256)\n",
            "\n",
            "0: 160x256 1 Drones, 13.5ms\n",
            "Speed: 0.6ms preprocess, 13.5ms inference, 1.3ms postprocess per image at shape (1, 3, 160, 256)\n",
            "Distance: 747.738037109375\n",
            "\n",
            "0: 160x256 1 Drones, 13.8ms\n",
            "Speed: 0.7ms preprocess, 13.8ms inference, 1.2ms postprocess per image at shape (1, 3, 160, 256)\n",
            "Distance: 742.3073120117188\n",
            "\n",
            "0: 160x256 1 Drones, 13.6ms\n",
            "Speed: 0.6ms preprocess, 13.6ms inference, 1.3ms postprocess per image at shape (1, 3, 160, 256)\n",
            "Distance: 740.3884887695312\n",
            "\n",
            "0: 160x256 1 Drones, 13.6ms\n",
            "Speed: 0.6ms preprocess, 13.6ms inference, 1.3ms postprocess per image at shape (1, 3, 160, 256)\n",
            "Distance: 739.3875732421875\n",
            "\n",
            "0: 160x256 1 Drones, 13.6ms\n",
            "Speed: 0.6ms preprocess, 13.6ms inference, 1.2ms postprocess per image at shape (1, 3, 160, 256)\n",
            "Distance: 739.8486328125\n",
            "\n",
            "0: 160x256 1 Drones, 13.5ms\n",
            "Speed: 0.5ms preprocess, 13.5ms inference, 1.2ms postprocess per image at shape (1, 3, 160, 256)\n",
            "Distance: 741.3544311523438\n",
            "\n",
            "0: 160x256 1 Drones, 13.6ms\n",
            "Speed: 0.6ms preprocess, 13.6ms inference, 1.2ms postprocess per image at shape (1, 3, 160, 256)\n",
            "Distance: 740.9529418945312\n",
            "\n",
            "0: 160x256 1 Drones, 14.2ms\n",
            "Speed: 0.9ms preprocess, 14.2ms inference, 1.2ms postprocess per image at shape (1, 3, 160, 256)\n",
            "Distance: 738.20849609375\n",
            "\n",
            "0: 160x256 1 Drones, 13.6ms\n",
            "Speed: 0.5ms preprocess, 13.6ms inference, 1.2ms postprocess per image at shape (1, 3, 160, 256)\n",
            "Distance: 732.9473266601562\n",
            "\n",
            "0: 160x256 1 Drones, 13.7ms\n",
            "Speed: 0.6ms preprocess, 13.7ms inference, 1.3ms postprocess per image at shape (1, 3, 160, 256)\n",
            "Distance: 735.9981689453125\n",
            "\n",
            "0: 160x256 1 Drones, 13.7ms\n",
            "Speed: 0.5ms preprocess, 13.7ms inference, 1.2ms postprocess per image at shape (1, 3, 160, 256)\n",
            "Distance: 736.7283325195312\n",
            "\n",
            "0: 160x256 1 Drones, 13.7ms\n",
            "Speed: 0.6ms preprocess, 13.7ms inference, 1.6ms postprocess per image at shape (1, 3, 160, 256)\n",
            "Distance: 735.3049926757812\n",
            "\n",
            "0: 160x256 1 Drones, 13.7ms\n",
            "Speed: 0.7ms preprocess, 13.7ms inference, 1.2ms postprocess per image at shape (1, 3, 160, 256)\n",
            "Distance: 731.5489501953125\n",
            "\n",
            "0: 160x256 1 Drones, 14.1ms\n",
            "Speed: 0.7ms preprocess, 14.1ms inference, 1.4ms postprocess per image at shape (1, 3, 160, 256)\n",
            "Distance: 723.599853515625\n",
            "\n",
            "0: 160x256 1 Drones, 14.0ms\n",
            "Speed: 0.6ms preprocess, 14.0ms inference, 1.3ms postprocess per image at shape (1, 3, 160, 256)\n",
            "Distance: 715.988037109375\n",
            "\n",
            "0: 160x256 1 Drones, 13.7ms\n",
            "Speed: 1.0ms preprocess, 13.7ms inference, 1.3ms postprocess per image at shape (1, 3, 160, 256)\n",
            "Distance: 715.3436889648438\n",
            "\n",
            "0: 160x256 1 Drones, 13.7ms\n",
            "Speed: 0.8ms preprocess, 13.7ms inference, 1.3ms postprocess per image at shape (1, 3, 160, 256)\n",
            "Distance: 719.304931640625\n",
            "\n",
            "0: 160x256 1 Drones, 11.0ms\n",
            "Speed: 0.7ms preprocess, 11.0ms inference, 1.1ms postprocess per image at shape (1, 3, 160, 256)\n",
            "Distance: 713.551513671875\n",
            "\n",
            "0: 160x256 1 Drones, 11.4ms\n",
            "Speed: 0.5ms preprocess, 11.4ms inference, 1.0ms postprocess per image at shape (1, 3, 160, 256)\n",
            "\n",
            "0: 160x256 1 Drones, 11.0ms\n",
            "Speed: 0.7ms preprocess, 11.0ms inference, 1.1ms postprocess per image at shape (1, 3, 160, 256)\n",
            "Distance: 703.7439575195312\n",
            "\n",
            "0: 160x256 1 Drones, 13.9ms\n",
            "Speed: 0.7ms preprocess, 13.9ms inference, 1.3ms postprocess per image at shape (1, 3, 160, 256)\n",
            "Distance: 702.3599243164062\n",
            "\n",
            "0: 160x256 1 Drones, 13.6ms\n",
            "Speed: 0.6ms preprocess, 13.6ms inference, 1.3ms postprocess per image at shape (1, 3, 160, 256)\n",
            "Distance: 703.9437866210938\n",
            "\n",
            "0: 160x256 1 Drones, 12.1ms\n",
            "Speed: 0.7ms preprocess, 12.1ms inference, 1.3ms postprocess per image at shape (1, 3, 160, 256)\n",
            "Distance: 699.742431640625\n",
            "\n",
            "0: 160x256 1 Drones, 4.6ms\n",
            "Speed: 0.7ms preprocess, 4.6ms inference, 0.5ms postprocess per image at shape (1, 3, 160, 256)\n",
            "Distance: 699.06591796875\n",
            "\n",
            "0: 160x256 1 Drones, 4.0ms\n",
            "Speed: 0.4ms preprocess, 4.0ms inference, 0.5ms postprocess per image at shape (1, 3, 160, 256)\n",
            "Distance: 690.2874145507812\n",
            "\n",
            "0: 160x256 1 Drones, 4.0ms\n",
            "Speed: 0.4ms preprocess, 4.0ms inference, 0.5ms postprocess per image at shape (1, 3, 160, 256)\n",
            "Distance: 690.49658203125\n",
            "\n",
            "0: 160x256 1 Drones, 5.9ms\n",
            "Speed: 0.5ms preprocess, 5.9ms inference, 0.5ms postprocess per image at shape (1, 3, 160, 256)\n",
            "Distance: 679.8013916015625\n",
            "\n",
            "0: 160x256 1 Drones, 4.1ms\n",
            "Speed: 0.4ms preprocess, 4.1ms inference, 0.5ms postprocess per image at shape (1, 3, 160, 256)\n",
            "Distance: 678.849609375\n",
            "\n",
            "0: 160x256 1 Drones, 4.0ms\n",
            "Speed: 0.4ms preprocess, 4.0ms inference, 0.8ms postprocess per image at shape (1, 3, 160, 256)\n",
            "\n",
            "0: 160x256 1 Drones, 5.9ms\n",
            "Speed: 0.5ms preprocess, 5.9ms inference, 0.5ms postprocess per image at shape (1, 3, 160, 256)\n",
            "Distance: 665.6378173828125\n",
            "\n",
            "0: 160x256 1 Drones, 5.8ms\n",
            "Speed: 0.6ms preprocess, 5.8ms inference, 0.5ms postprocess per image at shape (1, 3, 160, 256)\n",
            "Distance: 666.1421508789062\n",
            "\n",
            "0: 160x256 1 Drones, 4.3ms\n",
            "Speed: 0.5ms preprocess, 4.3ms inference, 0.6ms postprocess per image at shape (1, 3, 160, 256)\n",
            "Distance: 667.2847900390625\n",
            "\n",
            "0: 160x256 1 Drones, 10.9ms\n",
            "Speed: 0.7ms preprocess, 10.9ms inference, 1.0ms postprocess per image at shape (1, 3, 160, 256)\n",
            "Distance: 662.482666015625\n",
            "\n",
            "0: 160x256 1 Drones, 11.1ms\n",
            "Speed: 0.7ms preprocess, 11.1ms inference, 1.1ms postprocess per image at shape (1, 3, 160, 256)\n",
            "Distance: 662.568115234375\n",
            "\n",
            "0: 160x256 1 Drones, 11.4ms\n",
            "Speed: 0.6ms preprocess, 11.4ms inference, 1.1ms postprocess per image at shape (1, 3, 160, 256)\n",
            "Distance: 665.6770629882812\n",
            "\n",
            "0: 160x256 1 Drones, 10.9ms\n",
            "Speed: 0.8ms preprocess, 10.9ms inference, 1.0ms postprocess per image at shape (1, 3, 160, 256)\n",
            "Distance: 660.9867553710938\n",
            "\n",
            "0: 160x256 1 Drones, 10.9ms\n",
            "Speed: 0.5ms preprocess, 10.9ms inference, 1.0ms postprocess per image at shape (1, 3, 160, 256)\n",
            "Distance: 653.8065185546875\n",
            "\n",
            "0: 160x256 1 Drones, 11.5ms\n",
            "Speed: 0.5ms preprocess, 11.5ms inference, 1.1ms postprocess per image at shape (1, 3, 160, 256)\n",
            "Distance: 656.8084716796875\n",
            "\n",
            "0: 160x256 1 Drones, 11.1ms\n",
            "Speed: 0.5ms preprocess, 11.1ms inference, 1.0ms postprocess per image at shape (1, 3, 160, 256)\n",
            "Distance: 657.0071411132812\n",
            "\n",
            "0: 160x256 1 Drones, 11.1ms\n",
            "Speed: 0.5ms preprocess, 11.1ms inference, 1.1ms postprocess per image at shape (1, 3, 160, 256)\n",
            "Distance: 649.6303100585938\n",
            "\n",
            "0: 160x256 1 Drones, 10.8ms\n",
            "Speed: 0.5ms preprocess, 10.8ms inference, 1.1ms postprocess per image at shape (1, 3, 160, 256)\n",
            "Distance: 645.990966796875\n",
            "\n",
            "0: 160x256 1 Drones, 11.0ms\n",
            "Speed: 0.5ms preprocess, 11.0ms inference, 1.0ms postprocess per image at shape (1, 3, 160, 256)\n",
            "Distance: 645.39111328125\n",
            "\n",
            "0: 160x256 1 Drones, 10.9ms\n",
            "Speed: 0.5ms preprocess, 10.9ms inference, 1.5ms postprocess per image at shape (1, 3, 160, 256)\n",
            "Distance: 644.1432495117188\n",
            "\n",
            "0: 160x256 1 Drones, 10.9ms\n",
            "Speed: 0.6ms preprocess, 10.9ms inference, 1.1ms postprocess per image at shape (1, 3, 160, 256)\n",
            "Distance: 640.1766357421875\n",
            "\n",
            "0: 160x256 1 Drones, 10.9ms\n",
            "Speed: 0.5ms preprocess, 10.9ms inference, 1.0ms postprocess per image at shape (1, 3, 160, 256)\n",
            "Distance: 636.1700439453125\n",
            "\n",
            "0: 160x256 1 Drones, 10.9ms\n",
            "Speed: 0.7ms preprocess, 10.9ms inference, 1.0ms postprocess per image at shape (1, 3, 160, 256)\n",
            "Distance: 636.2159423828125\n",
            "\n",
            "0: 160x256 1 Drones, 11.0ms\n",
            "Speed: 0.5ms preprocess, 11.0ms inference, 1.0ms postprocess per image at shape (1, 3, 160, 256)\n",
            "Distance: 624.9584350585938\n",
            "\n",
            "0: 160x256 1 Drones, 10.9ms\n",
            "Speed: 0.6ms preprocess, 10.9ms inference, 1.3ms postprocess per image at shape (1, 3, 160, 256)\n",
            "Distance: 625.715576171875\n",
            "\n",
            "0: 160x256 1 Drones, 11.0ms\n",
            "Speed: 0.7ms preprocess, 11.0ms inference, 1.1ms postprocess per image at shape (1, 3, 160, 256)\n",
            "Distance: 625.9698486328125\n",
            "\n",
            "0: 160x256 1 Drones, 11.1ms\n",
            "Speed: 0.5ms preprocess, 11.1ms inference, 1.0ms postprocess per image at shape (1, 3, 160, 256)\n",
            "Distance: 623.8565673828125\n",
            "\n",
            "0: 160x256 1 Drones, 10.9ms\n",
            "Speed: 0.5ms preprocess, 10.9ms inference, 1.0ms postprocess per image at shape (1, 3, 160, 256)\n",
            "Distance: 618.6033935546875\n",
            "\n",
            "0: 160x256 1 Drones, 10.9ms\n",
            "Speed: 0.6ms preprocess, 10.9ms inference, 1.0ms postprocess per image at shape (1, 3, 160, 256)\n",
            "Distance: 617.5526733398438\n",
            "\n",
            "0: 160x256 1 Drones, 11.6ms\n",
            "Speed: 0.5ms preprocess, 11.6ms inference, 1.3ms postprocess per image at shape (1, 3, 160, 256)\n",
            "Distance: 619.1619873046875\n",
            "\n",
            "0: 160x256 1 Drones, 11.0ms\n",
            "Speed: 0.6ms preprocess, 11.0ms inference, 1.0ms postprocess per image at shape (1, 3, 160, 256)\n",
            "Distance: 620.1259765625\n",
            "\n",
            "0: 160x256 1 Drones, 11.0ms\n",
            "Speed: 0.5ms preprocess, 11.0ms inference, 1.1ms postprocess per image at shape (1, 3, 160, 256)\n",
            "Distance: 612.730224609375\n",
            "\n",
            "0: 160x256 1 Drones, 10.8ms\n",
            "Speed: 0.6ms preprocess, 10.8ms inference, 1.0ms postprocess per image at shape (1, 3, 160, 256)\n",
            "Distance: 611.8839111328125\n",
            "\n",
            "0: 160x256 1 Drones, 11.0ms\n",
            "Speed: 0.5ms preprocess, 11.0ms inference, 1.1ms postprocess per image at shape (1, 3, 160, 256)\n",
            "Distance: 615.0201416015625\n",
            "\n",
            "0: 160x256 1 Drones, 11.0ms\n",
            "Speed: 0.6ms preprocess, 11.0ms inference, 1.2ms postprocess per image at shape (1, 3, 160, 256)\n",
            "Distance: 611.3788452148438\n",
            "\n",
            "0: 160x256 1 Drones, 10.8ms\n",
            "Speed: 0.7ms preprocess, 10.8ms inference, 1.3ms postprocess per image at shape (1, 3, 160, 256)\n",
            "Distance: 603.6243286132812\n",
            "\n",
            "0: 160x256 1 Drones, 10.9ms\n",
            "Speed: 0.5ms preprocess, 10.9ms inference, 1.3ms postprocess per image at shape (1, 3, 160, 256)\n",
            "Distance: 606.8728637695312\n",
            "\n",
            "0: 160x256 1 Drones, 11.0ms\n",
            "Speed: 0.5ms preprocess, 11.0ms inference, 1.4ms postprocess per image at shape (1, 3, 160, 256)\n",
            "Distance: 603.5713500976562\n",
            "\n",
            "0: 160x256 1 Drones, 10.9ms\n",
            "Speed: 0.6ms preprocess, 10.9ms inference, 1.0ms postprocess per image at shape (1, 3, 160, 256)\n",
            "Distance: 602.1158447265625\n",
            "\n",
            "0: 160x256 1 Drones, 11.1ms\n",
            "Speed: 0.6ms preprocess, 11.1ms inference, 1.3ms postprocess per image at shape (1, 3, 160, 256)\n",
            "Distance: 598.3096923828125\n",
            "\n",
            "0: 160x256 1 Drones, 4.1ms\n",
            "Speed: 0.4ms preprocess, 4.1ms inference, 0.5ms postprocess per image at shape (1, 3, 160, 256)\n",
            "Distance: 593.7974243164062\n",
            "\n",
            "0: 160x256 1 Drones, 4.0ms\n",
            "Speed: 0.7ms preprocess, 4.0ms inference, 0.6ms postprocess per image at shape (1, 3, 160, 256)\n",
            "Distance: 595.789306640625\n",
            "\n",
            "0: 160x256 1 Drones, 4.5ms\n",
            "Speed: 0.4ms preprocess, 4.5ms inference, 0.7ms postprocess per image at shape (1, 3, 160, 256)\n",
            "Distance: 591.892578125\n",
            "\n",
            "0: 160x256 1 Drones, 4.2ms\n",
            "Speed: 0.4ms preprocess, 4.2ms inference, 0.8ms postprocess per image at shape (1, 3, 160, 256)\n",
            "Distance: 583.83935546875\n",
            "\n",
            "0: 160x256 1 Drones, 4.0ms\n",
            "Speed: 0.4ms preprocess, 4.0ms inference, 0.5ms postprocess per image at shape (1, 3, 160, 256)\n",
            "Distance: 577.570068359375\n",
            "\n",
            "0: 160x256 1 Drones, 11.1ms\n",
            "Speed: 0.7ms preprocess, 11.1ms inference, 1.1ms postprocess per image at shape (1, 3, 160, 256)\n",
            "Distance: 574.0949096679688\n",
            "\n",
            "0: 160x256 1 Drones, 11.5ms\n",
            "Speed: 1.0ms preprocess, 11.5ms inference, 1.1ms postprocess per image at shape (1, 3, 160, 256)\n",
            "Distance: 570.6332397460938\n",
            "\n",
            "0: 160x256 1 Drones, 11.0ms\n",
            "Speed: 0.5ms preprocess, 11.0ms inference, 1.4ms postprocess per image at shape (1, 3, 160, 256)\n",
            "Distance: 571.3733520507812\n",
            "\n",
            "0: 160x256 1 Drones, 11.8ms\n",
            "Speed: 0.7ms preprocess, 11.8ms inference, 1.1ms postprocess per image at shape (1, 3, 160, 256)\n",
            "Distance: 568.1165161132812\n",
            "\n",
            "0: 160x256 1 Drones, 11.0ms\n",
            "Speed: 0.6ms preprocess, 11.0ms inference, 1.3ms postprocess per image at shape (1, 3, 160, 256)\n",
            "Distance: 565.3243408203125\n",
            "\n",
            "0: 160x256 1 Drones, 10.9ms\n",
            "Speed: 0.6ms preprocess, 10.9ms inference, 1.1ms postprocess per image at shape (1, 3, 160, 256)\n",
            "Distance: 568.47705078125\n",
            "\n",
            "0: 160x256 1 Drones, 11.0ms\n",
            "Speed: 0.5ms preprocess, 11.0ms inference, 1.1ms postprocess per image at shape (1, 3, 160, 256)\n",
            "Distance: 567.0697021484375\n",
            "\n",
            "0: 160x256 1 Drones, 10.9ms\n",
            "Speed: 0.6ms preprocess, 10.9ms inference, 1.4ms postprocess per image at shape (1, 3, 160, 256)\n",
            "Distance: 563.908447265625\n",
            "\n",
            "0: 160x256 1 Drones, 11.3ms\n",
            "Speed: 0.5ms preprocess, 11.3ms inference, 1.1ms postprocess per image at shape (1, 3, 160, 256)\n",
            "Distance: 562.0039672851562\n",
            "\n",
            "0: 160x256 1 Drones, 10.9ms\n",
            "Speed: 0.6ms preprocess, 10.9ms inference, 1.1ms postprocess per image at shape (1, 3, 160, 256)\n",
            "Distance: 561.3469848632812\n",
            "\n",
            "0: 160x256 1 Drones, 10.9ms\n",
            "Speed: 0.5ms preprocess, 10.9ms inference, 1.1ms postprocess per image at shape (1, 3, 160, 256)\n",
            "Distance: 559.9241943359375\n",
            "\n",
            "0: 160x256 1 Drones, 11.1ms\n",
            "Speed: 0.6ms preprocess, 11.1ms inference, 1.1ms postprocess per image at shape (1, 3, 160, 256)\n",
            "Distance: 557.6103515625\n",
            "\n",
            "0: 160x256 1 Drones, 10.9ms\n",
            "Speed: 0.5ms preprocess, 10.9ms inference, 1.3ms postprocess per image at shape (1, 3, 160, 256)\n",
            "Distance: 551.2320556640625\n",
            "\n",
            "0: 160x256 1 Drones, 11.0ms\n",
            "Speed: 0.6ms preprocess, 11.0ms inference, 1.0ms postprocess per image at shape (1, 3, 160, 256)\n",
            "Distance: 549.0872802734375\n",
            "\n",
            "0: 160x256 1 Drones, 10.9ms\n",
            "Speed: 0.5ms preprocess, 10.9ms inference, 1.3ms postprocess per image at shape (1, 3, 160, 256)\n",
            "Distance: 550.5326538085938\n",
            "\n",
            "0: 160x256 1 Drones, 4.1ms\n",
            "Speed: 0.4ms preprocess, 4.1ms inference, 0.8ms postprocess per image at shape (1, 3, 160, 256)\n",
            "Distance: 537.3133544921875\n",
            "\n",
            "0: 160x256 1 Drones, 4.2ms\n",
            "Speed: 0.4ms preprocess, 4.2ms inference, 0.5ms postprocess per image at shape (1, 3, 160, 256)\n",
            "Distance: 534.4494018554688\n",
            "\n",
            "0: 160x256 1 Drones, 4.3ms\n",
            "Speed: 0.6ms preprocess, 4.3ms inference, 0.6ms postprocess per image at shape (1, 3, 160, 256)\n",
            "Distance: 535.5218505859375\n",
            "\n",
            "0: 160x256 1 Drones, 4.3ms\n",
            "Speed: 0.4ms preprocess, 4.3ms inference, 0.5ms postprocess per image at shape (1, 3, 160, 256)\n",
            "Distance: 530.4228515625\n",
            "\n",
            "0: 160x256 2 Droness, 4.0ms\n",
            "Speed: 0.4ms preprocess, 4.0ms inference, 0.8ms postprocess per image at shape (1, 3, 160, 256)\n",
            "\n",
            "0: 160x256 1 Drones, 4.0ms\n",
            "Speed: 0.4ms preprocess, 4.0ms inference, 0.5ms postprocess per image at shape (1, 3, 160, 256)\n",
            "Distance: 526.5687866210938\n",
            "\n",
            "0: 160x256 1 Drones, 4.0ms\n",
            "Speed: 0.4ms preprocess, 4.0ms inference, 0.5ms postprocess per image at shape (1, 3, 160, 256)\n",
            "Distance: 523.5040283203125\n",
            "\n",
            "0: 160x256 1 Drones, 4.1ms\n",
            "Speed: 0.5ms preprocess, 4.1ms inference, 0.6ms postprocess per image at shape (1, 3, 160, 256)\n",
            "Distance: 515.44775390625\n",
            "\n",
            "0: 160x256 1 Drones, 4.1ms\n",
            "Speed: 0.4ms preprocess, 4.1ms inference, 0.5ms postprocess per image at shape (1, 3, 160, 256)\n",
            "Distance: 512.8572998046875\n",
            "\n",
            "0: 160x256 1 Drones, 4.1ms\n",
            "Speed: 0.5ms preprocess, 4.1ms inference, 0.5ms postprocess per image at shape (1, 3, 160, 256)\n",
            "Distance: 512.28271484375\n",
            "\n",
            "0: 160x256 1 Drones, 4.1ms\n",
            "Speed: 0.4ms preprocess, 4.1ms inference, 0.7ms postprocess per image at shape (1, 3, 160, 256)\n",
            "Distance: 512.7156982421875\n",
            "\n",
            "0: 160x256 1 Drones, 4.2ms\n",
            "Speed: 0.4ms preprocess, 4.2ms inference, 0.5ms postprocess per image at shape (1, 3, 160, 256)\n",
            "Distance: 512.7861328125\n",
            "\n",
            "0: 160x256 1 Drones, 4.0ms\n",
            "Speed: 0.4ms preprocess, 4.0ms inference, 0.8ms postprocess per image at shape (1, 3, 160, 256)\n",
            "Distance: 508.72998046875\n",
            "\n",
            "0: 160x256 1 Drones, 4.0ms\n",
            "Speed: 0.4ms preprocess, 4.0ms inference, 0.5ms postprocess per image at shape (1, 3, 160, 256)\n",
            "Distance: 509.14837646484375\n",
            "\n",
            "0: 160x256 1 Drones, 4.1ms\n",
            "Speed: 0.4ms preprocess, 4.1ms inference, 0.5ms postprocess per image at shape (1, 3, 160, 256)\n",
            "Distance: 509.62713623046875\n",
            "\n",
            "0: 160x256 1 Drones, 4.4ms\n",
            "Speed: 0.4ms preprocess, 4.4ms inference, 0.7ms postprocess per image at shape (1, 3, 160, 256)\n",
            "Distance: 502.1162109375\n",
            "\n",
            "0: 160x256 1 Drones, 4.0ms\n",
            "Speed: 0.6ms preprocess, 4.0ms inference, 0.5ms postprocess per image at shape (1, 3, 160, 256)\n",
            "Distance: 497.9432067871094\n",
            "\n",
            "0: 160x256 1 Drones, 4.0ms\n",
            "Speed: 0.4ms preprocess, 4.0ms inference, 0.5ms postprocess per image at shape (1, 3, 160, 256)\n",
            "\n",
            "0: 160x256 1 Drones, 4.1ms\n",
            "Speed: 0.5ms preprocess, 4.1ms inference, 0.5ms postprocess per image at shape (1, 3, 160, 256)\n",
            "Distance: 494.69073486328125\n",
            "\n",
            "0: 160x256 1 Drones, 4.1ms\n",
            "Speed: 0.4ms preprocess, 4.1ms inference, 0.5ms postprocess per image at shape (1, 3, 160, 256)\n",
            "Distance: 492.75103759765625\n",
            "\n",
            "0: 160x256 1 Drones, 4.0ms\n",
            "Speed: 0.4ms preprocess, 4.0ms inference, 0.8ms postprocess per image at shape (1, 3, 160, 256)\n",
            "Distance: 489.6370849609375\n",
            "\n",
            "0: 160x256 1 Drones, 4.1ms\n",
            "Speed: 0.4ms preprocess, 4.1ms inference, 0.5ms postprocess per image at shape (1, 3, 160, 256)\n",
            "Distance: 481.095458984375\n",
            "\n",
            "0: 160x256 1 Drones, 4.0ms\n",
            "Speed: 0.4ms preprocess, 4.0ms inference, 0.8ms postprocess per image at shape (1, 3, 160, 256)\n",
            "Distance: 478.4722900390625\n",
            "\n",
            "0: 160x256 1 Drones, 4.0ms\n",
            "Speed: 0.4ms preprocess, 4.0ms inference, 0.6ms postprocess per image at shape (1, 3, 160, 256)\n",
            "Distance: 473.36895751953125\n",
            "\n",
            "0: 160x256 1 Drones, 6.3ms\n",
            "Speed: 0.6ms preprocess, 6.3ms inference, 0.7ms postprocess per image at shape (1, 3, 160, 256)\n",
            "\n",
            "0: 160x256 1 Drones, 4.0ms\n",
            "Speed: 0.4ms preprocess, 4.0ms inference, 0.5ms postprocess per image at shape (1, 3, 160, 256)\n",
            "\n",
            "0: 160x256 1 Drones, 4.1ms\n",
            "Speed: 0.4ms preprocess, 4.1ms inference, 0.6ms postprocess per image at shape (1, 3, 160, 256)\n",
            "\n",
            "0: 160x256 1 Drones, 4.3ms\n",
            "Speed: 0.4ms preprocess, 4.3ms inference, 0.8ms postprocess per image at shape (1, 3, 160, 256)\n",
            "\n",
            "0: 160x256 1 Drones, 4.0ms\n",
            "Speed: 0.4ms preprocess, 4.0ms inference, 0.5ms postprocess per image at shape (1, 3, 160, 256)\n",
            "\n",
            "0: 160x256 1 Drones, 4.2ms\n",
            "Speed: 0.5ms preprocess, 4.2ms inference, 0.5ms postprocess per image at shape (1, 3, 160, 256)\n",
            "\n",
            "0: 160x256 1 Drones, 4.1ms\n",
            "Speed: 0.5ms preprocess, 4.1ms inference, 0.5ms postprocess per image at shape (1, 3, 160, 256)\n",
            "Distance: 459.8970947265625\n",
            "\n",
            "0: 160x256 1 Drones, 4.0ms\n",
            "Speed: 0.4ms preprocess, 4.0ms inference, 0.5ms postprocess per image at shape (1, 3, 160, 256)\n",
            "\n",
            "0: 160x256 1 Drones, 4.1ms\n",
            "Speed: 0.4ms preprocess, 4.1ms inference, 0.8ms postprocess per image at shape (1, 3, 160, 256)\n",
            "Distance: 444.31298828125\n",
            "\n",
            "0: 160x256 1 Drones, 4.2ms\n",
            "Speed: 0.5ms preprocess, 4.2ms inference, 0.5ms postprocess per image at shape (1, 3, 160, 256)\n",
            "\n",
            "0: 160x256 1 Drones, 4.1ms\n",
            "Speed: 0.5ms preprocess, 4.1ms inference, 0.5ms postprocess per image at shape (1, 3, 160, 256)\n",
            "\n",
            "0: 160x256 1 Drones, 4.0ms\n",
            "Speed: 0.4ms preprocess, 4.0ms inference, 0.6ms postprocess per image at shape (1, 3, 160, 256)\n",
            "\n",
            "0: 160x256 1 Drones, 4.0ms\n",
            "Speed: 0.4ms preprocess, 4.0ms inference, 0.5ms postprocess per image at shape (1, 3, 160, 256)\n",
            "\n",
            "0: 160x256 1 Drones, 4.0ms\n",
            "Speed: 0.4ms preprocess, 4.0ms inference, 0.5ms postprocess per image at shape (1, 3, 160, 256)\n",
            "\n",
            "0: 160x256 1 Drones, 4.0ms\n",
            "Speed: 0.5ms preprocess, 4.0ms inference, 0.5ms postprocess per image at shape (1, 3, 160, 256)\n",
            "\n",
            "0: 160x256 2 Droness, 4.1ms\n",
            "Speed: 0.5ms preprocess, 4.1ms inference, 0.5ms postprocess per image at shape (1, 3, 160, 256)\n",
            "\n",
            "0: 160x256 1 Drones, 4.2ms\n",
            "Speed: 0.5ms preprocess, 4.2ms inference, 0.7ms postprocess per image at shape (1, 3, 160, 256)\n",
            "\n",
            "0: 160x256 1 Drones, 4.4ms\n",
            "Speed: 0.5ms preprocess, 4.4ms inference, 0.9ms postprocess per image at shape (1, 3, 160, 256)\n",
            "\n",
            "0: 160x256 1 Drones, 4.4ms\n",
            "Speed: 0.6ms preprocess, 4.4ms inference, 0.6ms postprocess per image at shape (1, 3, 160, 256)\n",
            "\n",
            "0: 160x256 1 Drones, 4.0ms\n",
            "Speed: 0.4ms preprocess, 4.0ms inference, 0.5ms postprocess per image at shape (1, 3, 160, 256)\n",
            "\n",
            "0: 160x256 1 Drones, 4.0ms\n",
            "Speed: 0.4ms preprocess, 4.0ms inference, 0.5ms postprocess per image at shape (1, 3, 160, 256)\n",
            "\n",
            "0: 160x256 1 Drones, 4.1ms\n",
            "Speed: 0.4ms preprocess, 4.1ms inference, 0.5ms postprocess per image at shape (1, 3, 160, 256)\n",
            "\n",
            "0: 160x256 1 Drones, 4.1ms\n",
            "Speed: 0.4ms preprocess, 4.1ms inference, 0.5ms postprocess per image at shape (1, 3, 160, 256)\n",
            "\n",
            "0: 160x256 1 Drones, 4.2ms\n",
            "Speed: 0.4ms preprocess, 4.2ms inference, 0.5ms postprocess per image at shape (1, 3, 160, 256)\n",
            "Distance: 394.760498046875\n",
            "\n",
            "0: 160x256 1 Drones, 4.1ms\n",
            "Speed: 0.7ms preprocess, 4.1ms inference, 0.7ms postprocess per image at shape (1, 3, 160, 256)\n",
            "Distance: 400.0634765625\n",
            "\n",
            "0: 160x256 1 Drones, 4.0ms\n",
            "Speed: 0.4ms preprocess, 4.0ms inference, 0.6ms postprocess per image at shape (1, 3, 160, 256)\n",
            "Distance: 388.93585205078125\n",
            "\n",
            "0: 160x256 1 Drones, 4.0ms\n",
            "Speed: 0.4ms preprocess, 4.0ms inference, 0.6ms postprocess per image at shape (1, 3, 160, 256)\n",
            "Distance: 383.94158935546875\n",
            "\n",
            "0: 160x256 1 Drones, 4.0ms\n",
            "Speed: 0.4ms preprocess, 4.0ms inference, 0.6ms postprocess per image at shape (1, 3, 160, 256)\n",
            "Distance: 375.50506591796875\n",
            "\n",
            "0: 160x256 1 Drones, 4.0ms\n",
            "Speed: 0.4ms preprocess, 4.0ms inference, 0.5ms postprocess per image at shape (1, 3, 160, 256)\n",
            "Distance: 379.1153564453125\n",
            "\n",
            "0: 160x256 1 Drones, 4.0ms\n",
            "Speed: 0.4ms preprocess, 4.0ms inference, 0.5ms postprocess per image at shape (1, 3, 160, 256)\n",
            "Distance: 376.4532470703125\n",
            "\n",
            "0: 160x256 1 Drones, 4.0ms\n",
            "Speed: 0.4ms preprocess, 4.0ms inference, 0.5ms postprocess per image at shape (1, 3, 160, 256)\n",
            "Distance: 377.47149658203125\n",
            "\n",
            "0: 160x256 1 Drones, 4.0ms\n",
            "Speed: 0.4ms preprocess, 4.0ms inference, 0.7ms postprocess per image at shape (1, 3, 160, 256)\n",
            "Distance: 377.2896728515625\n",
            "\n",
            "0: 160x256 1 Drones, 4.3ms\n",
            "Speed: 0.4ms preprocess, 4.3ms inference, 0.5ms postprocess per image at shape (1, 3, 160, 256)\n",
            "Distance: 375.19488525390625\n",
            "\n",
            "0: 160x256 1 Drones, 4.0ms\n",
            "Speed: 0.6ms preprocess, 4.0ms inference, 0.5ms postprocess per image at shape (1, 3, 160, 256)\n",
            "Distance: 378.32537841796875\n",
            "\n",
            "0: 160x256 1 Drones, 4.1ms\n",
            "Speed: 0.4ms preprocess, 4.1ms inference, 0.5ms postprocess per image at shape (1, 3, 160, 256)\n",
            "Distance: 374.99310302734375\n",
            "\n",
            "0: 160x256 1 Drones, 4.1ms\n",
            "Speed: 0.4ms preprocess, 4.1ms inference, 0.5ms postprocess per image at shape (1, 3, 160, 256)\n",
            "Distance: 370.5609130859375\n",
            "\n",
            "0: 160x256 1 Drones, 4.2ms\n",
            "Speed: 0.4ms preprocess, 4.2ms inference, 0.5ms postprocess per image at shape (1, 3, 160, 256)\n",
            "Distance: 364.01531982421875\n",
            "\n",
            "0: 160x256 1 Drones, 4.1ms\n",
            "Speed: 0.6ms preprocess, 4.1ms inference, 0.8ms postprocess per image at shape (1, 3, 160, 256)\n",
            "Distance: 365.738525390625\n",
            "\n",
            "0: 160x256 1 Drones, 4.0ms\n",
            "Speed: 0.4ms preprocess, 4.0ms inference, 0.8ms postprocess per image at shape (1, 3, 160, 256)\n",
            "Distance: 362.2843017578125\n",
            "\n",
            "0: 160x256 1 Drones, 4.0ms\n",
            "Speed: 0.4ms preprocess, 4.0ms inference, 0.6ms postprocess per image at shape (1, 3, 160, 256)\n",
            "Distance: 355.4552001953125\n",
            "\n",
            "0: 160x256 1 Drones, 4.1ms\n",
            "Speed: 0.4ms preprocess, 4.1ms inference, 0.7ms postprocess per image at shape (1, 3, 160, 256)\n",
            "Distance: 355.5072021484375\n",
            "\n",
            "0: 160x256 1 Drones, 4.0ms\n",
            "Speed: 0.4ms preprocess, 4.0ms inference, 0.6ms postprocess per image at shape (1, 3, 160, 256)\n",
            "Distance: 347.4080810546875\n",
            "\n",
            "0: 160x256 1 Drones, 4.0ms\n",
            "Speed: 0.5ms preprocess, 4.0ms inference, 0.5ms postprocess per image at shape (1, 3, 160, 256)\n",
            "Distance: 341.76287841796875\n",
            "\n",
            "0: 160x256 1 Drones, 4.0ms\n",
            "Speed: 0.4ms preprocess, 4.0ms inference, 0.5ms postprocess per image at shape (1, 3, 160, 256)\n",
            "Distance: 331.326171875\n",
            "\n",
            "0: 160x256 1 Drones, 4.0ms\n",
            "Speed: 0.5ms preprocess, 4.0ms inference, 0.5ms postprocess per image at shape (1, 3, 160, 256)\n",
            "Distance: 331.720458984375\n",
            "\n",
            "0: 160x256 1 Drones, 4.5ms\n",
            "Speed: 0.6ms preprocess, 4.5ms inference, 0.5ms postprocess per image at shape (1, 3, 160, 256)\n",
            "Distance: 316.85504150390625\n",
            "\n",
            "0: 160x256 1 Drones, 4.0ms\n",
            "Speed: 0.5ms preprocess, 4.0ms inference, 0.5ms postprocess per image at shape (1, 3, 160, 256)\n",
            "Distance: 311.520751953125\n",
            "\n",
            "0: 160x256 1 Drones, 4.0ms\n",
            "Speed: 0.5ms preprocess, 4.0ms inference, 0.5ms postprocess per image at shape (1, 3, 160, 256)\n",
            "Distance: 320.02386474609375\n",
            "\n",
            "0: 160x256 1 Drones, 4.0ms\n",
            "Speed: 0.4ms preprocess, 4.0ms inference, 0.5ms postprocess per image at shape (1, 3, 160, 256)\n",
            "Distance: 315.4385986328125\n",
            "\n",
            "0: 160x256 1 Drones, 4.0ms\n",
            "Speed: 0.4ms preprocess, 4.0ms inference, 0.5ms postprocess per image at shape (1, 3, 160, 256)\n",
            "Distance: 307.65704345703125\n",
            "\n",
            "0: 160x256 1 Drones, 4.0ms\n",
            "Speed: 0.8ms preprocess, 4.0ms inference, 0.5ms postprocess per image at shape (1, 3, 160, 256)\n",
            "Distance: 302.6983642578125\n",
            "\n",
            "0: 160x256 1 Drones, 4.6ms\n",
            "Speed: 0.6ms preprocess, 4.6ms inference, 0.5ms postprocess per image at shape (1, 3, 160, 256)\n",
            "Distance: 300.66644287109375\n",
            "\n",
            "0: 160x256 1 Drones, 4.7ms\n",
            "Speed: 0.4ms preprocess, 4.7ms inference, 0.5ms postprocess per image at shape (1, 3, 160, 256)\n",
            "Distance: 293.3609619140625\n",
            "\n",
            "0: 160x256 1 Drones, 4.3ms\n",
            "Speed: 0.4ms preprocess, 4.3ms inference, 0.7ms postprocess per image at shape (1, 3, 160, 256)\n",
            "Distance: 296.02105712890625\n",
            "\n",
            "0: 160x256 1 Drones, 4.0ms\n",
            "Speed: 0.4ms preprocess, 4.0ms inference, 0.6ms postprocess per image at shape (1, 3, 160, 256)\n",
            "Distance: 292.19024658203125\n",
            "\n",
            "0: 160x256 1 Drones, 4.0ms\n",
            "Speed: 0.4ms preprocess, 4.0ms inference, 0.9ms postprocess per image at shape (1, 3, 160, 256)\n",
            "Distance: 283.78204345703125\n",
            "\n",
            "0: 160x256 1 Drones, 4.0ms\n",
            "Speed: 0.4ms preprocess, 4.0ms inference, 0.5ms postprocess per image at shape (1, 3, 160, 256)\n",
            "Distance: 278.92950439453125\n",
            "\n",
            "0: 160x256 1 Drones, 4.6ms\n",
            "Speed: 0.7ms preprocess, 4.6ms inference, 0.5ms postprocess per image at shape (1, 3, 160, 256)\n",
            "Distance: 280.3173828125\n",
            "\n",
            "0: 160x256 1 Drones, 4.0ms\n",
            "Speed: 0.4ms preprocess, 4.0ms inference, 0.5ms postprocess per image at shape (1, 3, 160, 256)\n",
            "Distance: 276.199951171875\n",
            "\n",
            "0: 160x256 1 Drones, 4.1ms\n",
            "Speed: 0.4ms preprocess, 4.1ms inference, 0.5ms postprocess per image at shape (1, 3, 160, 256)\n",
            "Distance: 273.510009765625\n",
            "\n",
            "0: 160x256 1 Drones, 4.1ms\n",
            "Speed: 0.5ms preprocess, 4.1ms inference, 0.5ms postprocess per image at shape (1, 3, 160, 256)\n",
            "Distance: 273.96417236328125\n",
            "\n",
            "0: 160x256 1 Drones, 4.0ms\n",
            "Speed: 0.4ms preprocess, 4.0ms inference, 0.5ms postprocess per image at shape (1, 3, 160, 256)\n",
            "Distance: 268.757080078125\n",
            "\n",
            "0: 160x256 1 Drones, 4.0ms\n",
            "Speed: 0.4ms preprocess, 4.0ms inference, 0.5ms postprocess per image at shape (1, 3, 160, 256)\n",
            "Distance: 268.2296142578125\n",
            "\n",
            "0: 160x256 1 Drones, 4.0ms\n",
            "Speed: 0.6ms preprocess, 4.0ms inference, 0.6ms postprocess per image at shape (1, 3, 160, 256)\n",
            "Distance: 265.0203857421875\n",
            "\n",
            "0: 160x256 1 Drones, 4.1ms\n",
            "Speed: 0.5ms preprocess, 4.1ms inference, 0.5ms postprocess per image at shape (1, 3, 160, 256)\n",
            "Distance: 262.7508544921875\n",
            "\n",
            "0: 160x256 1 Drones, 4.0ms\n",
            "Speed: 0.4ms preprocess, 4.0ms inference, 0.5ms postprocess per image at shape (1, 3, 160, 256)\n",
            "Distance: 255.5150146484375\n",
            "\n",
            "0: 160x256 1 Drones, 4.1ms\n",
            "Speed: 0.4ms preprocess, 4.1ms inference, 0.8ms postprocess per image at shape (1, 3, 160, 256)\n",
            "Distance: 253.1314697265625\n",
            "\n",
            "0: 160x256 1 Drones, 4.2ms\n",
            "Speed: 0.5ms preprocess, 4.2ms inference, 0.7ms postprocess per image at shape (1, 3, 160, 256)\n",
            "Distance: 251.3369140625\n",
            "\n",
            "0: 160x256 1 Drones, 4.1ms\n",
            "Speed: 0.4ms preprocess, 4.1ms inference, 0.5ms postprocess per image at shape (1, 3, 160, 256)\n",
            "Distance: 232.19964599609375\n",
            "\n",
            "0: 160x256 1 Drones, 4.3ms\n",
            "Speed: 0.4ms preprocess, 4.3ms inference, 0.6ms postprocess per image at shape (1, 3, 160, 256)\n",
            "Distance: 239.833740234375\n",
            "\n",
            "0: 160x256 1 Drones, 4.3ms\n",
            "Speed: 0.6ms preprocess, 4.3ms inference, 0.6ms postprocess per image at shape (1, 3, 160, 256)\n",
            "Distance: 226.02984619140625\n",
            "\n",
            "0: 160x256 1 Drones, 4.0ms\n",
            "Speed: 0.4ms preprocess, 4.0ms inference, 0.6ms postprocess per image at shape (1, 3, 160, 256)\n",
            "Distance: 222.7164306640625\n",
            "\n",
            "0: 160x256 1 Drones, 4.1ms\n",
            "Speed: 0.4ms preprocess, 4.1ms inference, 0.5ms postprocess per image at shape (1, 3, 160, 256)\n",
            "Distance: 221.22393798828125\n",
            "\n",
            "0: 160x256 1 Drones, 4.1ms\n",
            "Speed: 0.4ms preprocess, 4.1ms inference, 0.5ms postprocess per image at shape (1, 3, 160, 256)\n",
            "Distance: 217.96923828125\n",
            "\n",
            "0: 160x256 1 Drones, 4.0ms\n",
            "Speed: 0.4ms preprocess, 4.0ms inference, 0.5ms postprocess per image at shape (1, 3, 160, 256)\n",
            "Distance: 215.551025390625\n",
            "\n",
            "0: 160x256 1 Drones, 4.0ms\n",
            "Speed: 0.4ms preprocess, 4.0ms inference, 0.5ms postprocess per image at shape (1, 3, 160, 256)\n",
            "Distance: 215.69140625\n",
            "\n",
            "0: 160x256 1 Drones, 4.1ms\n",
            "Speed: 0.6ms preprocess, 4.1ms inference, 0.7ms postprocess per image at shape (1, 3, 160, 256)\n",
            "Distance: 210.16851806640625\n",
            "\n",
            "0: 160x256 1 Drones, 4.0ms\n",
            "Speed: 0.6ms preprocess, 4.0ms inference, 0.5ms postprocess per image at shape (1, 3, 160, 256)\n",
            "Distance: 207.7708740234375\n",
            "\n",
            "0: 160x256 1 Drones, 4.2ms\n",
            "Speed: 0.4ms preprocess, 4.2ms inference, 0.5ms postprocess per image at shape (1, 3, 160, 256)\n",
            "Distance: 199.5946044921875\n",
            "\n",
            "0: 160x256 1 Drones, 4.2ms\n",
            "Speed: 0.4ms preprocess, 4.2ms inference, 0.7ms postprocess per image at shape (1, 3, 160, 256)\n",
            "Distance: 190.1083984375\n",
            "\n",
            "0: 160x256 1 Drones, 4.2ms\n",
            "Speed: 0.4ms preprocess, 4.2ms inference, 0.6ms postprocess per image at shape (1, 3, 160, 256)\n",
            "Distance: 176.66021728515625\n",
            "\n",
            "0: 160x256 1 Drones, 4.1ms\n",
            "Speed: 0.4ms preprocess, 4.1ms inference, 0.9ms postprocess per image at shape (1, 3, 160, 256)\n",
            "Distance: 172.729736328125\n",
            "\n",
            "0: 160x256 1 Drones, 4.0ms\n",
            "Speed: 0.4ms preprocess, 4.0ms inference, 0.5ms postprocess per image at shape (1, 3, 160, 256)\n",
            "Distance: 170.386474609375\n",
            "\n",
            "0: 160x256 1 Drones, 4.4ms\n",
            "Speed: 0.7ms preprocess, 4.4ms inference, 0.7ms postprocess per image at shape (1, 3, 160, 256)\n",
            "Distance: 166.5186767578125\n",
            "\n",
            "0: 160x256 1 Drones, 4.0ms\n",
            "Speed: 0.4ms preprocess, 4.0ms inference, 0.6ms postprocess per image at shape (1, 3, 160, 256)\n",
            "Distance: 162.0391845703125\n",
            "\n",
            "0: 160x256 1 Drones, 4.0ms\n",
            "Speed: 0.4ms preprocess, 4.0ms inference, 0.5ms postprocess per image at shape (1, 3, 160, 256)\n",
            "Distance: 166.07550048828125\n",
            "\n",
            "0: 160x256 1 Drones, 4.1ms\n",
            "Speed: 0.5ms preprocess, 4.1ms inference, 0.5ms postprocess per image at shape (1, 3, 160, 256)\n",
            "Distance: 163.7213134765625\n",
            "\n",
            "0: 160x256 1 Drones, 3.9ms\n",
            "Speed: 0.5ms preprocess, 3.9ms inference, 0.5ms postprocess per image at shape (1, 3, 160, 256)\n",
            "Distance: 155.0455322265625\n",
            "\n",
            "0: 160x256 1 Drones, 4.0ms\n",
            "Speed: 0.4ms preprocess, 4.0ms inference, 0.5ms postprocess per image at shape (1, 3, 160, 256)\n",
            "Distance: 153.46905517578125\n",
            "\n",
            "0: 160x256 1 Drones, 4.0ms\n",
            "Speed: 0.4ms preprocess, 4.0ms inference, 0.9ms postprocess per image at shape (1, 3, 160, 256)\n",
            "Distance: 155.04620361328125\n",
            "\n",
            "0: 160x256 1 Drones, 4.0ms\n",
            "Speed: 0.5ms preprocess, 4.0ms inference, 0.5ms postprocess per image at shape (1, 3, 160, 256)\n",
            "Distance: 149.2388916015625\n",
            "\n",
            "0: 160x256 1 Drones, 4.1ms\n",
            "Speed: 0.6ms preprocess, 4.1ms inference, 0.5ms postprocess per image at shape (1, 3, 160, 256)\n",
            "Distance: 145.5738525390625\n",
            "\n",
            "0: 160x256 1 Drones, 4.4ms\n",
            "Speed: 0.4ms preprocess, 4.4ms inference, 0.5ms postprocess per image at shape (1, 3, 160, 256)\n",
            "Distance: 135.215576171875\n",
            "\n",
            "0: 160x256 1 Drones, 4.2ms\n",
            "Speed: 0.4ms preprocess, 4.2ms inference, 0.7ms postprocess per image at shape (1, 3, 160, 256)\n",
            "Distance: 129.6158447265625\n",
            "\n",
            "0: 160x256 1 Drones, 4.1ms\n",
            "Speed: 0.5ms preprocess, 4.1ms inference, 0.5ms postprocess per image at shape (1, 3, 160, 256)\n",
            "Distance: 128.3204345703125\n",
            "\n",
            "0: 160x256 1 Drones, 4.2ms\n",
            "Speed: 0.5ms preprocess, 4.2ms inference, 0.9ms postprocess per image at shape (1, 3, 160, 256)\n",
            "Distance: 124.6474609375\n",
            "\n",
            "0: 160x256 1 Drones, 4.4ms\n",
            "Speed: 0.7ms preprocess, 4.4ms inference, 1.1ms postprocess per image at shape (1, 3, 160, 256)\n",
            "Distance: 122.41497802734375\n",
            "\n",
            "0: 160x256 1 Drones, 4.0ms\n",
            "Speed: 0.4ms preprocess, 4.0ms inference, 0.6ms postprocess per image at shape (1, 3, 160, 256)\n",
            "Distance: 121.3319091796875\n",
            "\n",
            "0: 160x256 1 Drones, 11.0ms\n",
            "Speed: 0.5ms preprocess, 11.0ms inference, 1.0ms postprocess per image at shape (1, 3, 160, 256)\n",
            "Distance: 111.71087646484375\n",
            "\n",
            "0: 160x256 1 Drones, 10.9ms\n",
            "Speed: 0.5ms preprocess, 10.9ms inference, 1.1ms postprocess per image at shape (1, 3, 160, 256)\n",
            "Distance: 107.8695068359375\n",
            "\n",
            "0: 160x256 1 Drones, 10.9ms\n",
            "Speed: 0.6ms preprocess, 10.9ms inference, 1.1ms postprocess per image at shape (1, 3, 160, 256)\n",
            "Distance: 106.1385498046875\n",
            "\n",
            "0: 160x256 1 Drones, 11.9ms\n",
            "Speed: 1.0ms preprocess, 11.9ms inference, 1.1ms postprocess per image at shape (1, 3, 160, 256)\n",
            "Distance: 96.7298583984375\n",
            "\n",
            "0: 160x256 1 Drones, 10.9ms\n",
            "Speed: 0.5ms preprocess, 10.9ms inference, 1.0ms postprocess per image at shape (1, 3, 160, 256)\n",
            "Distance: 94.6912841796875\n",
            "\n",
            "0: 160x256 1 Drones, 11.0ms\n",
            "Speed: 0.7ms preprocess, 11.0ms inference, 1.1ms postprocess per image at shape (1, 3, 160, 256)\n",
            "Distance: 93.0750732421875\n",
            "\n",
            "0: 160x256 1 Drones, 11.2ms\n",
            "Speed: 0.8ms preprocess, 11.2ms inference, 1.1ms postprocess per image at shape (1, 3, 160, 256)\n",
            "Distance: 89.7935791015625\n",
            "\n",
            "0: 160x256 1 Drones, 10.9ms\n",
            "Speed: 0.5ms preprocess, 10.9ms inference, 1.1ms postprocess per image at shape (1, 3, 160, 256)\n",
            "Distance: 90.572509765625\n",
            "\n",
            "0: 160x256 1 Drones, 10.9ms\n",
            "Speed: 0.7ms preprocess, 10.9ms inference, 1.1ms postprocess per image at shape (1, 3, 160, 256)\n",
            "Distance: 82.3099365234375\n",
            "\n",
            "0: 160x256 1 Drones, 11.2ms\n",
            "Speed: 0.6ms preprocess, 11.2ms inference, 1.4ms postprocess per image at shape (1, 3, 160, 256)\n",
            "Distance: 79.362060546875\n",
            "\n",
            "0: 160x256 1 Drones, 11.0ms\n",
            "Speed: 0.6ms preprocess, 11.0ms inference, 1.1ms postprocess per image at shape (1, 3, 160, 256)\n",
            "Distance: 78.18585205078125\n",
            "\n",
            "0: 160x256 1 Drones, 10.9ms\n",
            "Speed: 0.7ms preprocess, 10.9ms inference, 1.1ms postprocess per image at shape (1, 3, 160, 256)\n",
            "Distance: 71.6826171875\n",
            "\n",
            "0: 160x256 1 Drones, 11.1ms\n",
            "Speed: 0.5ms preprocess, 11.1ms inference, 1.1ms postprocess per image at shape (1, 3, 160, 256)\n",
            "Distance: 60.492919921875\n",
            "\n",
            "0: 160x256 1 Drones, 11.3ms\n",
            "Speed: 0.6ms preprocess, 11.3ms inference, 1.4ms postprocess per image at shape (1, 3, 160, 256)\n",
            "Distance: 56.5640869140625\n",
            "\n",
            "0: 160x256 1 Drones, 11.4ms\n",
            "Speed: 0.7ms preprocess, 11.4ms inference, 1.1ms postprocess per image at shape (1, 3, 160, 256)\n",
            "Distance: 53.25830078125\n",
            "\n",
            "0: 160x256 1 Drones, 11.1ms\n",
            "Speed: 0.8ms preprocess, 11.1ms inference, 1.1ms postprocess per image at shape (1, 3, 160, 256)\n",
            "Distance: 50.12335205078125\n",
            "\n",
            "0: 160x256 1 Drones, 11.0ms\n",
            "Speed: 0.6ms preprocess, 11.0ms inference, 1.1ms postprocess per image at shape (1, 3, 160, 256)\n",
            "Distance: 45.39178466796875\n",
            "\n",
            "0: 160x256 1 Drones, 10.9ms\n",
            "Speed: 0.7ms preprocess, 10.9ms inference, 1.1ms postprocess per image at shape (1, 3, 160, 256)\n",
            "Distance: 40.21038818359375\n",
            "\n",
            "0: 160x256 1 Drones, 11.0ms\n",
            "Speed: 0.5ms preprocess, 11.0ms inference, 1.1ms postprocess per image at shape (1, 3, 160, 256)\n",
            "Distance: 35.51373291015625\n",
            "\n",
            "0: 160x256 1 Drones, 10.9ms\n",
            "Speed: 0.5ms preprocess, 10.9ms inference, 1.1ms postprocess per image at shape (1, 3, 160, 256)\n",
            "Distance: 34.57373046875\n",
            "\n",
            "0: 160x256 1 Drones, 11.1ms\n",
            "Speed: 0.8ms preprocess, 11.1ms inference, 1.4ms postprocess per image at shape (1, 3, 160, 256)\n",
            "Distance: 34.2088623046875\n",
            "\n",
            "0: 160x256 1 Drones, 11.0ms\n",
            "Speed: 0.5ms preprocess, 11.0ms inference, 1.1ms postprocess per image at shape (1, 3, 160, 256)\n",
            "Distance: 28.4298095703125\n",
            "\n",
            "0: 160x256 1 Drones, 10.9ms\n",
            "Speed: 0.6ms preprocess, 10.9ms inference, 1.0ms postprocess per image at shape (1, 3, 160, 256)\n",
            "Distance: 20.1571044921875\n",
            "\n",
            "0: 160x256 1 Drones, 10.9ms\n",
            "Speed: 0.7ms preprocess, 10.9ms inference, 1.1ms postprocess per image at shape (1, 3, 160, 256)\n",
            "Distance: 18.8175048828125\n",
            "\n",
            "0: 160x256 1 Drones, 10.9ms\n",
            "Speed: 0.5ms preprocess, 10.9ms inference, 1.0ms postprocess per image at shape (1, 3, 160, 256)\n",
            "Distance: 16.81170654296875\n",
            "\n",
            "0: 160x256 1 Drones, 10.8ms\n",
            "Speed: 0.5ms preprocess, 10.8ms inference, 1.3ms postprocess per image at shape (1, 3, 160, 256)\n",
            "Distance: 13.881103515625\n",
            "\n",
            "0: 160x256 1 Drones, 10.9ms\n",
            "Speed: 0.5ms preprocess, 10.9ms inference, 1.1ms postprocess per image at shape (1, 3, 160, 256)\n",
            "Distance: 9.8360595703125\n",
            "\n",
            "0: 160x256 1 Drones, 10.9ms\n",
            "Speed: 0.6ms preprocess, 10.9ms inference, 1.1ms postprocess per image at shape (1, 3, 160, 256)\n",
            "Distance: 7.276123046875\n",
            "\n",
            "0: 160x256 1 Drones, 11.1ms\n",
            "Speed: 0.6ms preprocess, 11.1ms inference, 1.3ms postprocess per image at shape (1, 3, 160, 256)\n",
            "Distance: 7.710205078125\n",
            "\n",
            "0: 160x256 1 Drones, 10.9ms\n",
            "Speed: 0.8ms preprocess, 10.9ms inference, 1.1ms postprocess per image at shape (1, 3, 160, 256)\n",
            "Distance: 2.24615478515625\n",
            "\n",
            "0: 160x256 1 Drones, 11.3ms\n",
            "Speed: 0.6ms preprocess, 11.3ms inference, 1.1ms postprocess per image at shape (1, 3, 160, 256)\n",
            "Distance: -2.4835205078125\n",
            "\n",
            "0: 160x256 1 Drones, 11.1ms\n",
            "Speed: 0.5ms preprocess, 11.1ms inference, 1.1ms postprocess per image at shape (1, 3, 160, 256)\n",
            "Distance: -8.369140625\n",
            "\n",
            "0: 160x256 1 Drones, 11.1ms\n",
            "Speed: 0.6ms preprocess, 11.1ms inference, 1.1ms postprocess per image at shape (1, 3, 160, 256)\n",
            "Distance: -10.7625732421875\n",
            "\n",
            "0: 160x256 1 Drones, 11.1ms\n",
            "Speed: 0.6ms preprocess, 11.1ms inference, 1.1ms postprocess per image at shape (1, 3, 160, 256)\n",
            "Distance: -14.0230712890625\n",
            "\n",
            "0: 160x256 1 Drones, 10.9ms\n",
            "Speed: 0.7ms preprocess, 10.9ms inference, 1.3ms postprocess per image at shape (1, 3, 160, 256)\n",
            "Distance: -14.82958984375\n",
            "\n",
            "0: 160x256 1 Drones, 11.4ms\n",
            "Speed: 0.8ms preprocess, 11.4ms inference, 1.1ms postprocess per image at shape (1, 3, 160, 256)\n",
            "Distance: -17.35308837890625\n",
            "\n",
            "0: 160x256 1 Drones, 11.0ms\n",
            "Speed: 0.5ms preprocess, 11.0ms inference, 1.1ms postprocess per image at shape (1, 3, 160, 256)\n",
            "Distance: -17.2127685546875\n",
            "\n",
            "0: 160x256 1 Drones, 10.8ms\n",
            "Speed: 0.6ms preprocess, 10.8ms inference, 1.1ms postprocess per image at shape (1, 3, 160, 256)\n",
            "Distance: -17.7962646484375\n",
            "\n",
            "0: 160x256 1 Drones, 11.0ms\n",
            "Speed: 0.5ms preprocess, 11.0ms inference, 1.1ms postprocess per image at shape (1, 3, 160, 256)\n",
            "Distance: -22.31689453125\n",
            "\n",
            "0: 160x256 1 Drones, 11.5ms\n",
            "Speed: 0.8ms preprocess, 11.5ms inference, 1.1ms postprocess per image at shape (1, 3, 160, 256)\n",
            "Distance: -24.299072265625\n",
            "\n",
            "0: 160x256 1 Drones, 10.8ms\n",
            "Speed: 0.5ms preprocess, 10.8ms inference, 1.2ms postprocess per image at shape (1, 3, 160, 256)\n",
            "Distance: -29.753173828125\n",
            "\n",
            "0: 160x256 1 Drones, 10.9ms\n",
            "Speed: 0.9ms preprocess, 10.9ms inference, 1.1ms postprocess per image at shape (1, 3, 160, 256)\n",
            "Distance: -31.9129638671875\n",
            "\n",
            "0: 160x256 1 Drones, 11.9ms\n",
            "Speed: 0.9ms preprocess, 11.9ms inference, 1.1ms postprocess per image at shape (1, 3, 160, 256)\n",
            "Distance: -35.404296875\n",
            "\n",
            "0: 160x256 1 Drones, 10.8ms\n",
            "Speed: 0.6ms preprocess, 10.8ms inference, 1.4ms postprocess per image at shape (1, 3, 160, 256)\n",
            "Distance: -37.4127197265625\n",
            "\n",
            "0: 160x256 1 Drones, 11.0ms\n",
            "Speed: 0.7ms preprocess, 11.0ms inference, 1.1ms postprocess per image at shape (1, 3, 160, 256)\n",
            "Distance: -41.48046875\n",
            "\n",
            "0: 160x256 1 Drones, 11.0ms\n",
            "Speed: 0.5ms preprocess, 11.0ms inference, 1.1ms postprocess per image at shape (1, 3, 160, 256)\n",
            "Distance: -42.71673583984375\n",
            "\n",
            "0: 160x256 1 Drones, 11.1ms\n",
            "Speed: 0.7ms preprocess, 11.1ms inference, 1.1ms postprocess per image at shape (1, 3, 160, 256)\n",
            "Distance: -46.5299072265625\n",
            "\n",
            "0: 160x256 1 Drones, 11.0ms\n",
            "Speed: 0.7ms preprocess, 11.0ms inference, 1.1ms postprocess per image at shape (1, 3, 160, 256)\n",
            "Distance: -54.2344970703125\n",
            "\n",
            "0: 160x256 1 Drones, 10.9ms\n",
            "Speed: 0.6ms preprocess, 10.9ms inference, 1.1ms postprocess per image at shape (1, 3, 160, 256)\n",
            "Distance: -56.1492919921875\n",
            "\n",
            "0: 160x256 1 Drones, 11.3ms\n",
            "Speed: 0.7ms preprocess, 11.3ms inference, 1.1ms postprocess per image at shape (1, 3, 160, 256)\n",
            "Distance: -62.39886474609375\n",
            "\n",
            "0: 160x256 1 Drones, 11.0ms\n",
            "Speed: 0.7ms preprocess, 11.0ms inference, 1.1ms postprocess per image at shape (1, 3, 160, 256)\n",
            "Distance: -64.7325439453125\n",
            "\n",
            "0: 160x256 1 Drones, 11.1ms\n",
            "Speed: 0.6ms preprocess, 11.1ms inference, 1.1ms postprocess per image at shape (1, 3, 160, 256)\n",
            "Distance: -70.37353515625\n",
            "\n",
            "0: 160x256 1 Drones, 10.9ms\n",
            "Speed: 0.6ms preprocess, 10.9ms inference, 1.1ms postprocess per image at shape (1, 3, 160, 256)\n",
            "Distance: -77.6533203125\n",
            "\n",
            "0: 160x256 1 Drones, 4.1ms\n",
            "Speed: 0.5ms preprocess, 4.1ms inference, 0.5ms postprocess per image at shape (1, 3, 160, 256)\n",
            "Distance: -76.0081787109375\n",
            "\n",
            "0: 160x256 1 Drones, 4.0ms\n",
            "Speed: 0.5ms preprocess, 4.0ms inference, 0.5ms postprocess per image at shape (1, 3, 160, 256)\n",
            "Distance: -76.96240234375\n",
            "\n",
            "0: 160x256 1 Drones, 4.3ms\n",
            "Speed: 0.6ms preprocess, 4.3ms inference, 0.5ms postprocess per image at shape (1, 3, 160, 256)\n",
            "Distance: -82.4495849609375\n",
            "\n",
            "0: 160x256 1 Drones, 4.0ms\n",
            "Speed: 0.4ms preprocess, 4.0ms inference, 0.5ms postprocess per image at shape (1, 3, 160, 256)\n",
            "Distance: -88.0963134765625\n",
            "\n",
            "0: 160x256 1 Drones, 4.0ms\n",
            "Speed: 0.4ms preprocess, 4.0ms inference, 0.5ms postprocess per image at shape (1, 3, 160, 256)\n",
            "Distance: -91.9664306640625\n",
            "\n",
            "0: 160x256 1 Drones, 4.0ms\n",
            "Speed: 0.4ms preprocess, 4.0ms inference, 0.5ms postprocess per image at shape (1, 3, 160, 256)\n",
            "Distance: -98.81640625\n",
            "\n",
            "0: 160x256 1 Drones, 4.1ms\n",
            "Speed: 0.5ms preprocess, 4.1ms inference, 0.5ms postprocess per image at shape (1, 3, 160, 256)\n",
            "Distance: -98.9449462890625\n",
            "\n",
            "0: 160x256 1 Drones, 4.6ms\n",
            "Speed: 0.5ms preprocess, 4.6ms inference, 1.0ms postprocess per image at shape (1, 3, 160, 256)\n",
            "Distance: -97.811767578125\n",
            "\n",
            "0: 160x256 1 Drones, 4.5ms\n",
            "Speed: 0.5ms preprocess, 4.5ms inference, 0.5ms postprocess per image at shape (1, 3, 160, 256)\n",
            "Distance: -102.67138671875\n",
            "\n",
            "0: 160x256 1 Drones, 4.0ms\n",
            "Speed: 0.6ms preprocess, 4.0ms inference, 0.5ms postprocess per image at shape (1, 3, 160, 256)\n",
            "Distance: -112.2244873046875\n",
            "\n",
            "0: 160x256 1 Drones, 4.2ms\n",
            "Speed: 0.4ms preprocess, 4.2ms inference, 0.5ms postprocess per image at shape (1, 3, 160, 256)\n",
            "Distance: -122.688232421875\n",
            "\n",
            "0: 160x256 1 Drones, 4.2ms\n",
            "Speed: 0.4ms preprocess, 4.2ms inference, 0.6ms postprocess per image at shape (1, 3, 160, 256)\n",
            "Distance: -120.8155517578125\n",
            "\n",
            "0: 160x256 1 Drones, 6.3ms\n",
            "Speed: 0.6ms preprocess, 6.3ms inference, 0.7ms postprocess per image at shape (1, 3, 160, 256)\n",
            "Distance: -118.8729248046875\n",
            "\n",
            "0: 160x256 1 Drones, 4.1ms\n",
            "Speed: 0.4ms preprocess, 4.1ms inference, 0.9ms postprocess per image at shape (1, 3, 160, 256)\n",
            "Distance: -126.565185546875\n",
            "\n",
            "0: 160x256 1 Drones, 4.1ms\n",
            "Speed: 0.4ms preprocess, 4.1ms inference, 0.9ms postprocess per image at shape (1, 3, 160, 256)\n",
            "Distance: -131.1993408203125\n",
            "\n",
            "0: 160x256 1 Drones, 4.0ms\n",
            "Speed: 0.4ms preprocess, 4.0ms inference, 0.5ms postprocess per image at shape (1, 3, 160, 256)\n",
            "Distance: -136.7149658203125\n",
            "\n",
            "0: 160x256 1 Drones, 4.0ms\n",
            "Speed: 0.4ms preprocess, 4.0ms inference, 1.0ms postprocess per image at shape (1, 3, 160, 256)\n",
            "Distance: -140.44384765625\n",
            "\n",
            "0: 160x256 1 Drones, 4.0ms\n",
            "Speed: 0.4ms preprocess, 4.0ms inference, 0.5ms postprocess per image at shape (1, 3, 160, 256)\n",
            "Distance: -139.509521484375\n",
            "\n",
            "0: 160x256 1 Drones, 4.6ms\n",
            "Speed: 0.6ms preprocess, 4.6ms inference, 0.5ms postprocess per image at shape (1, 3, 160, 256)\n",
            "Distance: -145.490966796875\n",
            "\n",
            "0: 160x256 1 Drones, 4.3ms\n",
            "Speed: 0.4ms preprocess, 4.3ms inference, 0.7ms postprocess per image at shape (1, 3, 160, 256)\n",
            "Distance: -152.0947265625\n",
            "\n",
            "0: 160x256 1 Drones, 5.0ms\n",
            "Speed: 0.5ms preprocess, 5.0ms inference, 0.7ms postprocess per image at shape (1, 3, 160, 256)\n",
            "Distance: -161.0758056640625\n",
            "\n",
            "0: 160x256 1 Drones, 4.8ms\n",
            "Speed: 0.4ms preprocess, 4.8ms inference, 1.4ms postprocess per image at shape (1, 3, 160, 256)\n",
            "Distance: -161.3553466796875\n",
            "\n",
            "0: 160x256 1 Drones, 5.1ms\n",
            "Speed: 0.4ms preprocess, 5.1ms inference, 0.8ms postprocess per image at shape (1, 3, 160, 256)\n",
            "Distance: -160.97705078125\n",
            "\n",
            "0: 160x256 1 Drones, 5.1ms\n",
            "Speed: 0.6ms preprocess, 5.1ms inference, 1.2ms postprocess per image at shape (1, 3, 160, 256)\n",
            "Distance: -161.04638671875\n",
            "\n",
            "0: 160x256 1 Drones, 6.3ms\n",
            "Speed: 0.5ms preprocess, 6.3ms inference, 0.7ms postprocess per image at shape (1, 3, 160, 256)\n",
            "Distance: -162.12451171875\n",
            "\n",
            "0: 160x256 1 Drones, 4.3ms\n",
            "Speed: 0.4ms preprocess, 4.3ms inference, 0.8ms postprocess per image at shape (1, 3, 160, 256)\n",
            "Distance: -168.64990234375\n",
            "\n",
            "0: 160x256 1 Drones, 4.1ms\n",
            "Speed: 0.5ms preprocess, 4.1ms inference, 1.0ms postprocess per image at shape (1, 3, 160, 256)\n",
            "Distance: -181.7607421875\n",
            "\n",
            "0: 160x256 1 Drones, 4.0ms\n",
            "Speed: 0.4ms preprocess, 4.0ms inference, 0.5ms postprocess per image at shape (1, 3, 160, 256)\n",
            "Distance: -181.57080078125\n",
            "\n",
            "0: 160x256 1 Drones, 4.4ms\n",
            "Speed: 0.5ms preprocess, 4.4ms inference, 0.9ms postprocess per image at shape (1, 3, 160, 256)\n",
            "Distance: -175.78759765625\n",
            "\n",
            "0: 160x256 1 Drones, 4.0ms\n",
            "Speed: 0.4ms preprocess, 4.0ms inference, 0.5ms postprocess per image at shape (1, 3, 160, 256)\n",
            "Distance: -173.7138671875\n",
            "\n",
            "0: 160x256 1 Drones, 4.0ms\n",
            "Speed: 0.4ms preprocess, 4.0ms inference, 0.5ms postprocess per image at shape (1, 3, 160, 256)\n",
            "Distance: -179.681884765625\n",
            "\n",
            "0: 160x256 1 Drones, 4.1ms\n",
            "Speed: 0.4ms preprocess, 4.1ms inference, 0.6ms postprocess per image at shape (1, 3, 160, 256)\n",
            "Distance: -176.47802734375\n",
            "\n",
            "0: 160x256 1 Drones, 6.4ms\n",
            "Speed: 1.0ms preprocess, 6.4ms inference, 0.7ms postprocess per image at shape (1, 3, 160, 256)\n",
            "Distance: -182.9091796875\n",
            "\n",
            "0: 160x256 1 Drones, 4.1ms\n",
            "Speed: 0.4ms preprocess, 4.1ms inference, 0.5ms postprocess per image at shape (1, 3, 160, 256)\n",
            "Distance: -190.39501953125\n",
            "\n",
            "0: 160x256 1 Drones, 5.7ms\n",
            "Speed: 0.6ms preprocess, 5.7ms inference, 0.7ms postprocess per image at shape (1, 3, 160, 256)\n",
            "Distance: -190.427734375\n",
            "\n",
            "0: 160x256 1 Drones, 4.0ms\n",
            "Speed: 0.4ms preprocess, 4.0ms inference, 0.6ms postprocess per image at shape (1, 3, 160, 256)\n",
            "Distance: -193.708251953125\n",
            "\n",
            "0: 160x256 1 Drones, 4.0ms\n",
            "Speed: 0.4ms preprocess, 4.0ms inference, 0.5ms postprocess per image at shape (1, 3, 160, 256)\n",
            "Distance: -200.8087158203125\n",
            "\n",
            "0: 160x256 1 Drones, 4.0ms\n",
            "Speed: 0.4ms preprocess, 4.0ms inference, 0.5ms postprocess per image at shape (1, 3, 160, 256)\n",
            "Distance: -198.48388671875\n",
            "\n",
            "0: 160x256 1 Drones, 4.3ms\n",
            "Speed: 0.4ms preprocess, 4.3ms inference, 0.9ms postprocess per image at shape (1, 3, 160, 256)\n",
            "Distance: -209.8546142578125\n",
            "\n",
            "0: 160x256 1 Drones, 5.1ms\n",
            "Speed: 0.6ms preprocess, 5.1ms inference, 0.5ms postprocess per image at shape (1, 3, 160, 256)\n",
            "Distance: -212.6978759765625\n",
            "\n",
            "0: 160x256 1 Drones, 4.6ms\n",
            "Speed: 0.6ms preprocess, 4.6ms inference, 0.5ms postprocess per image at shape (1, 3, 160, 256)\n",
            "Distance: -218.49072265625\n",
            "\n",
            "0: 160x256 1 Drones, 5.1ms\n",
            "Speed: 0.4ms preprocess, 5.1ms inference, 0.5ms postprocess per image at shape (1, 3, 160, 256)\n",
            "Distance: -222.09130859375\n",
            "\n",
            "0: 160x256 1 Drones, 4.0ms\n",
            "Speed: 0.4ms preprocess, 4.0ms inference, 0.5ms postprocess per image at shape (1, 3, 160, 256)\n",
            "Distance: -221.203125\n",
            "\n",
            "0: 160x256 1 Drones, 4.0ms\n",
            "Speed: 0.4ms preprocess, 4.0ms inference, 0.5ms postprocess per image at shape (1, 3, 160, 256)\n",
            "Distance: -224.657470703125\n",
            "\n",
            "0: 160x256 1 Drones, 4.5ms\n",
            "Speed: 0.8ms preprocess, 4.5ms inference, 0.6ms postprocess per image at shape (1, 3, 160, 256)\n",
            "Distance: -224.108642578125\n",
            "\n",
            "0: 160x256 1 Drones, 10.1ms\n",
            "Speed: 0.7ms preprocess, 10.1ms inference, 0.5ms postprocess per image at shape (1, 3, 160, 256)\n",
            "Distance: -225.343994140625\n",
            "\n",
            "0: 160x256 1 Drones, 4.7ms\n",
            "Speed: 0.7ms preprocess, 4.7ms inference, 0.5ms postprocess per image at shape (1, 3, 160, 256)\n",
            "Distance: -225.609130859375\n",
            "\n",
            "0: 160x256 1 Drones, 4.1ms\n",
            "Speed: 0.4ms preprocess, 4.1ms inference, 0.5ms postprocess per image at shape (1, 3, 160, 256)\n",
            "Distance: -226.4013671875\n",
            "\n",
            "0: 160x256 1 Drones, 4.1ms\n",
            "Speed: 0.5ms preprocess, 4.1ms inference, 0.5ms postprocess per image at shape (1, 3, 160, 256)\n",
            "Distance: -230.188720703125\n",
            "\n",
            "0: 160x256 1 Drones, 4.0ms\n",
            "Speed: 0.4ms preprocess, 4.0ms inference, 0.5ms postprocess per image at shape (1, 3, 160, 256)\n",
            "Distance: -234.41357421875\n",
            "\n",
            "0: 160x256 1 Drones, 4.1ms\n",
            "Speed: 0.6ms preprocess, 4.1ms inference, 0.5ms postprocess per image at shape (1, 3, 160, 256)\n",
            "Distance: -239.029296875\n",
            "\n",
            "0: 160x256 1 Drones, 4.1ms\n",
            "Speed: 0.8ms preprocess, 4.1ms inference, 0.5ms postprocess per image at shape (1, 3, 160, 256)\n",
            "Distance: -239.024658203125\n",
            "\n",
            "0: 160x256 1 Drones, 4.6ms\n",
            "Speed: 0.6ms preprocess, 4.6ms inference, 0.5ms postprocess per image at shape (1, 3, 160, 256)\n",
            "Distance: -241.74658203125\n",
            "\n",
            "0: 160x256 1 Drones, 4.3ms\n",
            "Speed: 0.5ms preprocess, 4.3ms inference, 0.7ms postprocess per image at shape (1, 3, 160, 256)\n",
            "Distance: -244.1497802734375\n",
            "\n",
            "0: 160x256 1 Drones, 4.5ms\n",
            "Speed: 0.4ms preprocess, 4.5ms inference, 0.5ms postprocess per image at shape (1, 3, 160, 256)\n",
            "Distance: -244.859375\n",
            "\n",
            "0: 160x256 1 Drones, 6.3ms\n",
            "Speed: 0.5ms preprocess, 6.3ms inference, 0.8ms postprocess per image at shape (1, 3, 160, 256)\n",
            "Distance: -251.68994140625\n",
            "\n",
            "0: 160x256 1 Drones, 4.6ms\n",
            "Speed: 0.6ms preprocess, 4.6ms inference, 0.5ms postprocess per image at shape (1, 3, 160, 256)\n",
            "Distance: -256.138427734375\n",
            "\n",
            "0: 160x256 1 Drones, 4.1ms\n",
            "Speed: 0.4ms preprocess, 4.1ms inference, 0.5ms postprocess per image at shape (1, 3, 160, 256)\n",
            "Distance: -258.7943115234375\n",
            "\n",
            "0: 160x256 1 Drones, 4.3ms\n",
            "Speed: 0.4ms preprocess, 4.3ms inference, 0.5ms postprocess per image at shape (1, 3, 160, 256)\n",
            "Distance: -260.929931640625\n",
            "\n",
            "0: 160x256 1 Drones, 4.1ms\n",
            "Speed: 0.4ms preprocess, 4.1ms inference, 0.7ms postprocess per image at shape (1, 3, 160, 256)\n",
            "Distance: -265.273193359375\n",
            "\n",
            "0: 160x256 1 Drones, 4.1ms\n",
            "Speed: 0.4ms preprocess, 4.1ms inference, 0.5ms postprocess per image at shape (1, 3, 160, 256)\n",
            "Distance: -267.37158203125\n",
            "\n",
            "0: 160x256 1 Drones, 4.6ms\n",
            "Speed: 0.7ms preprocess, 4.6ms inference, 0.5ms postprocess per image at shape (1, 3, 160, 256)\n",
            "Distance: -275.9720458984375\n",
            "\n",
            "0: 160x256 1 Drones, 5.0ms\n",
            "Speed: 0.4ms preprocess, 5.0ms inference, 0.7ms postprocess per image at shape (1, 3, 160, 256)\n",
            "Distance: -275.8526611328125\n",
            "\n",
            "0: 160x256 1 Drones, 4.0ms\n",
            "Speed: 0.4ms preprocess, 4.0ms inference, 0.5ms postprocess per image at shape (1, 3, 160, 256)\n",
            "Distance: -279.135986328125\n",
            "\n",
            "0: 160x256 1 Drones, 4.1ms\n",
            "Speed: 0.6ms preprocess, 4.1ms inference, 0.5ms postprocess per image at shape (1, 3, 160, 256)\n",
            "Distance: -282.760986328125\n",
            "\n",
            "0: 160x256 1 Drones, 4.0ms\n",
            "Speed: 0.4ms preprocess, 4.0ms inference, 0.5ms postprocess per image at shape (1, 3, 160, 256)\n",
            "Distance: -284.3817138671875\n",
            "\n",
            "0: 160x256 1 Drones, 4.0ms\n",
            "Speed: 0.5ms preprocess, 4.0ms inference, 0.5ms postprocess per image at shape (1, 3, 160, 256)\n",
            "Distance: -283.4661865234375\n",
            "\n",
            "0: 160x256 1 Drones, 4.0ms\n",
            "Speed: 0.4ms preprocess, 4.0ms inference, 0.7ms postprocess per image at shape (1, 3, 160, 256)\n",
            "Distance: -284.4881591796875\n",
            "\n",
            "0: 160x256 1 Drones, 4.3ms\n",
            "Speed: 0.6ms preprocess, 4.3ms inference, 0.6ms postprocess per image at shape (1, 3, 160, 256)\n",
            "Distance: -285.25537109375\n",
            "\n",
            "0: 160x256 1 Drones, 4.0ms\n",
            "Speed: 0.5ms preprocess, 4.0ms inference, 0.5ms postprocess per image at shape (1, 3, 160, 256)\n",
            "Distance: -285.5006103515625\n",
            "\n",
            "0: 160x256 1 Drones, 4.1ms\n",
            "Speed: 0.4ms preprocess, 4.1ms inference, 0.5ms postprocess per image at shape (1, 3, 160, 256)\n",
            "Distance: -285.4541015625\n",
            "\n",
            "0: 160x256 1 Drones, 4.1ms\n",
            "Speed: 0.4ms preprocess, 4.1ms inference, 0.5ms postprocess per image at shape (1, 3, 160, 256)\n",
            "Distance: -286.464111328125\n",
            "\n",
            "0: 160x256 1 Drones, 4.1ms\n",
            "Speed: 0.4ms preprocess, 4.1ms inference, 0.6ms postprocess per image at shape (1, 3, 160, 256)\n",
            "Distance: -293.5775146484375\n",
            "\n",
            "0: 160x256 1 Drones, 4.2ms\n",
            "Speed: 0.4ms preprocess, 4.2ms inference, 0.7ms postprocess per image at shape (1, 3, 160, 256)\n",
            "Distance: -296.541748046875\n",
            "\n",
            "0: 160x256 1 Drones, 4.1ms\n",
            "Speed: 0.5ms preprocess, 4.1ms inference, 0.7ms postprocess per image at shape (1, 3, 160, 256)\n",
            "Distance: -294.19921875\n",
            "\n",
            "0: 160x256 1 Drones, 4.1ms\n",
            "Speed: 0.4ms preprocess, 4.1ms inference, 1.3ms postprocess per image at shape (1, 3, 160, 256)\n",
            "Distance: -299.72412109375\n",
            "\n",
            "0: 160x256 1 Drones, 4.0ms\n",
            "Speed: 0.5ms preprocess, 4.0ms inference, 0.7ms postprocess per image at shape (1, 3, 160, 256)\n",
            "Distance: -301.848876953125\n",
            "\n",
            "0: 160x256 1 Drones, 11.4ms\n",
            "Speed: 0.4ms preprocess, 11.4ms inference, 1.2ms postprocess per image at shape (1, 3, 160, 256)\n",
            "Distance: -297.943359375\n",
            "\n",
            "0: 160x256 1 Drones, 10.9ms\n",
            "Speed: 0.7ms preprocess, 10.9ms inference, 1.2ms postprocess per image at shape (1, 3, 160, 256)\n",
            "Distance: -297.672119140625\n",
            "\n",
            "0: 160x256 1 Drones, 11.4ms\n",
            "Speed: 0.7ms preprocess, 11.4ms inference, 1.0ms postprocess per image at shape (1, 3, 160, 256)\n",
            "Distance: -296.6328125\n",
            "\n",
            "0: 160x256 1 Drones, 11.7ms\n",
            "Speed: 0.8ms preprocess, 11.7ms inference, 1.2ms postprocess per image at shape (1, 3, 160, 256)\n",
            "Distance: -300.9951171875\n",
            "\n",
            "0: 160x256 1 Drones, 11.0ms\n",
            "Speed: 0.7ms preprocess, 11.0ms inference, 1.1ms postprocess per image at shape (1, 3, 160, 256)\n",
            "Distance: -309.1431884765625\n",
            "\n",
            "0: 160x256 1 Drones, 11.0ms\n",
            "Speed: 0.6ms preprocess, 11.0ms inference, 1.0ms postprocess per image at shape (1, 3, 160, 256)\n",
            "Distance: -311.6466064453125\n",
            "\n",
            "0: 160x256 1 Drones, 11.0ms\n",
            "Speed: 0.5ms preprocess, 11.0ms inference, 1.0ms postprocess per image at shape (1, 3, 160, 256)\n",
            "Distance: -310.3753662109375\n",
            "\n",
            "0: 160x256 1 Drones, 10.9ms\n",
            "Speed: 0.7ms preprocess, 10.9ms inference, 1.2ms postprocess per image at shape (1, 3, 160, 256)\n",
            "Distance: -313.403564453125\n",
            "\n",
            "0: 160x256 1 Drones, 11.1ms\n",
            "Speed: 0.7ms preprocess, 11.1ms inference, 1.0ms postprocess per image at shape (1, 3, 160, 256)\n",
            "Distance: -318.42333984375\n",
            "\n",
            "0: 160x256 1 Drones, 11.2ms\n",
            "Speed: 0.7ms preprocess, 11.2ms inference, 1.1ms postprocess per image at shape (1, 3, 160, 256)\n",
            "Distance: -320.364013671875\n",
            "\n",
            "0: 160x256 1 Drones, 10.8ms\n",
            "Speed: 0.5ms preprocess, 10.8ms inference, 1.1ms postprocess per image at shape (1, 3, 160, 256)\n",
            "Distance: -324.421630859375\n",
            "\n",
            "0: 160x256 1 Drones, 10.9ms\n",
            "Speed: 0.9ms preprocess, 10.9ms inference, 1.0ms postprocess per image at shape (1, 3, 160, 256)\n",
            "Distance: -326.855224609375\n",
            "\n",
            "0: 160x256 1 Drones, 11.0ms\n",
            "Speed: 0.6ms preprocess, 11.0ms inference, 1.0ms postprocess per image at shape (1, 3, 160, 256)\n",
            "Distance: -329.236328125\n",
            "\n",
            "0: 160x256 1 Drones, 10.8ms\n",
            "Speed: 0.5ms preprocess, 10.8ms inference, 1.0ms postprocess per image at shape (1, 3, 160, 256)\n",
            "Distance: -332.5009765625\n",
            "\n",
            "0: 160x256 1 Drones, 10.9ms\n",
            "Speed: 0.7ms preprocess, 10.9ms inference, 1.0ms postprocess per image at shape (1, 3, 160, 256)\n",
            "Distance: -336.149658203125\n",
            "\n",
            "0: 160x256 1 Drones, 10.8ms\n",
            "Speed: 0.5ms preprocess, 10.8ms inference, 1.0ms postprocess per image at shape (1, 3, 160, 256)\n",
            "Distance: -336.7548828125\n",
            "\n",
            "0: 160x256 1 Drones, 11.2ms\n",
            "Speed: 0.7ms preprocess, 11.2ms inference, 1.2ms postprocess per image at shape (1, 3, 160, 256)\n",
            "Distance: -339.7183837890625\n",
            "\n",
            "0: 160x256 1 Drones, 11.0ms\n",
            "Speed: 0.5ms preprocess, 11.0ms inference, 1.0ms postprocess per image at shape (1, 3, 160, 256)\n",
            "Distance: -341.2958984375\n",
            "\n",
            "0: 160x256 1 Drones, 10.8ms\n",
            "Speed: 0.6ms preprocess, 10.8ms inference, 1.0ms postprocess per image at shape (1, 3, 160, 256)\n",
            "Distance: -344.135986328125\n",
            "\n",
            "0: 160x256 1 Drones, 10.9ms\n",
            "Speed: 0.7ms preprocess, 10.9ms inference, 1.0ms postprocess per image at shape (1, 3, 160, 256)\n",
            "Distance: -347.4229736328125\n",
            "\n",
            "0: 160x256 1 Drones, 10.8ms\n",
            "Speed: 0.5ms preprocess, 10.8ms inference, 1.1ms postprocess per image at shape (1, 3, 160, 256)\n",
            "Distance: -349.076904296875\n",
            "\n",
            "0: 160x256 1 Drones, 11.6ms\n",
            "Speed: 0.6ms preprocess, 11.6ms inference, 1.3ms postprocess per image at shape (1, 3, 160, 256)\n",
            "Distance: -351.298095703125\n",
            "\n",
            "0: 160x256 1 Drones, 10.9ms\n",
            "Speed: 0.7ms preprocess, 10.9ms inference, 1.1ms postprocess per image at shape (1, 3, 160, 256)\n",
            "Distance: -353.5008544921875\n",
            "\n",
            "0: 160x256 1 Drones, 11.0ms\n",
            "Speed: 0.5ms preprocess, 11.0ms inference, 1.0ms postprocess per image at shape (1, 3, 160, 256)\n",
            "Distance: -354.121826171875\n",
            "\n",
            "0: 160x256 1 Drones, 10.9ms\n",
            "Speed: 0.7ms preprocess, 10.9ms inference, 1.3ms postprocess per image at shape (1, 3, 160, 256)\n",
            "Distance: -357.168212890625\n",
            "\n",
            "0: 160x256 1 Drones, 11.9ms\n",
            "Speed: 0.7ms preprocess, 11.9ms inference, 1.1ms postprocess per image at shape (1, 3, 160, 256)\n",
            "Distance: -358.375244140625\n",
            "\n",
            "0: 160x256 1 Drones, 10.9ms\n",
            "Speed: 0.5ms preprocess, 10.9ms inference, 1.1ms postprocess per image at shape (1, 3, 160, 256)\n",
            "Distance: -358.561767578125\n",
            "\n",
            "0: 160x256 1 Drones, 10.8ms\n",
            "Speed: 0.6ms preprocess, 10.8ms inference, 1.0ms postprocess per image at shape (1, 3, 160, 256)\n",
            "Distance: -361.725830078125\n",
            "\n",
            "0: 160x256 1 Drones, 11.1ms\n",
            "Speed: 0.5ms preprocess, 11.1ms inference, 1.5ms postprocess per image at shape (1, 3, 160, 256)\n",
            "Distance: -363.4813232421875\n",
            "\n",
            "0: 160x256 1 Drones, 10.9ms\n",
            "Speed: 0.5ms preprocess, 10.9ms inference, 1.1ms postprocess per image at shape (1, 3, 160, 256)\n",
            "Distance: -365.1805419921875\n",
            "\n",
            "0: 160x256 1 Drones, 10.8ms\n",
            "Speed: 0.6ms preprocess, 10.8ms inference, 1.0ms postprocess per image at shape (1, 3, 160, 256)\n",
            "Distance: -364.80419921875\n",
            "\n",
            "0: 160x256 1 Drones, 11.3ms\n",
            "Speed: 0.6ms preprocess, 11.3ms inference, 1.1ms postprocess per image at shape (1, 3, 160, 256)\n",
            "Distance: -364.117919921875\n",
            "\n",
            "0: 160x256 1 Drones, 11.0ms\n",
            "Speed: 0.7ms preprocess, 11.0ms inference, 1.1ms postprocess per image at shape (1, 3, 160, 256)\n",
            "Distance: -367.787109375\n",
            "\n",
            "0: 160x256 1 Drones, 10.9ms\n",
            "Speed: 0.8ms preprocess, 10.9ms inference, 1.0ms postprocess per image at shape (1, 3, 160, 256)\n",
            "Distance: -371.4195556640625\n",
            "\n",
            "0: 160x256 1 Drones, 11.0ms\n",
            "Speed: 0.7ms preprocess, 11.0ms inference, 1.0ms postprocess per image at shape (1, 3, 160, 256)\n",
            "Distance: -372.8388671875\n",
            "\n",
            "0: 160x256 1 Drones, 10.9ms\n",
            "Speed: 0.6ms preprocess, 10.9ms inference, 1.1ms postprocess per image at shape (1, 3, 160, 256)\n",
            "Distance: -373.459228515625\n",
            "\n",
            "0: 160x256 1 Drones, 11.1ms\n",
            "Speed: 0.5ms preprocess, 11.1ms inference, 1.1ms postprocess per image at shape (1, 3, 160, 256)\n",
            "Distance: -376.30712890625\n",
            "\n",
            "0: 160x256 1 Drones, 11.0ms\n",
            "Speed: 0.5ms preprocess, 11.0ms inference, 1.1ms postprocess per image at shape (1, 3, 160, 256)\n",
            "Distance: -379.084716796875\n",
            "\n",
            "0: 160x256 1 Drones, 11.2ms\n",
            "Speed: 0.6ms preprocess, 11.2ms inference, 1.1ms postprocess per image at shape (1, 3, 160, 256)\n",
            "Distance: -380.6727294921875\n",
            "\n",
            "0: 160x256 1 Drones, 11.2ms\n",
            "Speed: 0.5ms preprocess, 11.2ms inference, 1.4ms postprocess per image at shape (1, 3, 160, 256)\n",
            "Distance: -384.0965576171875\n",
            "\n",
            "0: 160x256 1 Drones, 12.3ms\n",
            "Speed: 0.6ms preprocess, 12.3ms inference, 1.1ms postprocess per image at shape (1, 3, 160, 256)\n",
            "Distance: -388.2882080078125\n",
            "\n",
            "0: 160x256 1 Drones, 10.8ms\n",
            "Speed: 0.6ms preprocess, 10.8ms inference, 1.1ms postprocess per image at shape (1, 3, 160, 256)\n",
            "Distance: -390.135498046875\n",
            "\n",
            "0: 160x256 1 Drones, 11.0ms\n",
            "Speed: 0.7ms preprocess, 11.0ms inference, 1.0ms postprocess per image at shape (1, 3, 160, 256)\n",
            "Distance: -390.61865234375\n",
            "\n",
            "0: 160x256 1 Drones, 11.0ms\n",
            "Speed: 0.5ms preprocess, 11.0ms inference, 1.1ms postprocess per image at shape (1, 3, 160, 256)\n",
            "Distance: -392.494873046875\n",
            "\n",
            "0: 160x256 1 Drones, 10.9ms\n",
            "Speed: 0.6ms preprocess, 10.9ms inference, 1.0ms postprocess per image at shape (1, 3, 160, 256)\n",
            "Distance: -400.2178955078125\n",
            "\n",
            "0: 160x256 1 Drones, 11.0ms\n",
            "Speed: 0.5ms preprocess, 11.0ms inference, 1.2ms postprocess per image at shape (1, 3, 160, 256)\n",
            "Distance: -403.98193359375\n",
            "\n",
            "0: 160x256 1 Drones, 11.0ms\n",
            "Speed: 0.8ms preprocess, 11.0ms inference, 1.3ms postprocess per image at shape (1, 3, 160, 256)\n",
            "Distance: -405.246337890625\n",
            "\n",
            "0: 160x256 1 Drones, 11.7ms\n",
            "Speed: 0.7ms preprocess, 11.7ms inference, 1.4ms postprocess per image at shape (1, 3, 160, 256)\n",
            "Distance: -401.6630859375\n",
            "\n",
            "0: 160x256 1 Drones, 4.1ms\n",
            "Speed: 0.4ms preprocess, 4.1ms inference, 0.7ms postprocess per image at shape (1, 3, 160, 256)\n",
            "Distance: -402.998046875\n",
            "\n",
            "0: 160x256 1 Drones, 11.1ms\n",
            "Speed: 0.7ms preprocess, 11.1ms inference, 1.1ms postprocess per image at shape (1, 3, 160, 256)\n",
            "Distance: -410.52734375\n",
            "\n",
            "0: 160x256 1 Drones, 11.0ms\n",
            "Speed: 0.5ms preprocess, 11.0ms inference, 1.1ms postprocess per image at shape (1, 3, 160, 256)\n",
            "Distance: -403.5948486328125\n",
            "\n",
            "0: 160x256 1 Drones, 11.1ms\n",
            "Speed: 0.6ms preprocess, 11.1ms inference, 1.0ms postprocess per image at shape (1, 3, 160, 256)\n",
            "Distance: -405.089111328125\n",
            "\n",
            "0: 160x256 1 Drones, 11.0ms\n",
            "Speed: 0.5ms preprocess, 11.0ms inference, 1.1ms postprocess per image at shape (1, 3, 160, 256)\n",
            "Distance: -409.100830078125\n",
            "\n",
            "0: 160x256 1 Drones, 11.3ms\n",
            "Speed: 0.7ms preprocess, 11.3ms inference, 1.2ms postprocess per image at shape (1, 3, 160, 256)\n",
            "Distance: -412.7935791015625\n",
            "\n",
            "0: 160x256 1 Drones, 11.1ms\n",
            "Speed: 0.6ms preprocess, 11.1ms inference, 1.1ms postprocess per image at shape (1, 3, 160, 256)\n",
            "Distance: -414.54052734375\n",
            "\n",
            "0: 160x256 1 Drones, 11.0ms\n",
            "Speed: 0.6ms preprocess, 11.0ms inference, 1.4ms postprocess per image at shape (1, 3, 160, 256)\n",
            "Distance: -415.00439453125\n",
            "\n",
            "0: 160x256 1 Drones, 11.1ms\n",
            "Speed: 0.6ms preprocess, 11.1ms inference, 1.0ms postprocess per image at shape (1, 3, 160, 256)\n",
            "Distance: -417.186279296875\n",
            "\n",
            "0: 160x256 1 Drones, 11.0ms\n",
            "Speed: 0.5ms preprocess, 11.0ms inference, 1.0ms postprocess per image at shape (1, 3, 160, 256)\n",
            "Distance: -418.520263671875\n",
            "\n",
            "0: 160x256 1 Drones, 11.1ms\n",
            "Speed: 0.6ms preprocess, 11.1ms inference, 1.1ms postprocess per image at shape (1, 3, 160, 256)\n",
            "Distance: -419.76513671875\n",
            "\n",
            "0: 160x256 1 Drones, 11.0ms\n",
            "Speed: 0.6ms preprocess, 11.0ms inference, 1.0ms postprocess per image at shape (1, 3, 160, 256)\n",
            "Distance: -423.402099609375\n",
            "\n",
            "0: 160x256 1 Drones, 11.1ms\n",
            "Speed: 0.6ms preprocess, 11.1ms inference, 1.1ms postprocess per image at shape (1, 3, 160, 256)\n",
            "Distance: -426.2392578125\n",
            "\n",
            "0: 160x256 1 Drones, 10.9ms\n",
            "Speed: 0.7ms preprocess, 10.9ms inference, 1.2ms postprocess per image at shape (1, 3, 160, 256)\n",
            "Distance: -430.740234375\n",
            "\n",
            "0: 160x256 1 Drones, 11.0ms\n",
            "Speed: 0.6ms preprocess, 11.0ms inference, 1.0ms postprocess per image at shape (1, 3, 160, 256)\n",
            "Distance: -432.623779296875\n",
            "\n",
            "0: 160x256 1 Drones, 10.9ms\n",
            "Speed: 0.5ms preprocess, 10.9ms inference, 1.3ms postprocess per image at shape (1, 3, 160, 256)\n",
            "Distance: -434.644287109375\n",
            "\n",
            "0: 160x256 1 Drones, 10.9ms\n",
            "Speed: 0.6ms preprocess, 10.9ms inference, 1.0ms postprocess per image at shape (1, 3, 160, 256)\n",
            "Distance: -436.7137451171875\n",
            "\n",
            "0: 160x256 1 Drones, 11.0ms\n",
            "Speed: 0.5ms preprocess, 11.0ms inference, 1.1ms postprocess per image at shape (1, 3, 160, 256)\n",
            "Distance: -437.56298828125\n",
            "\n",
            "0: 160x256 1 Drones, 11.2ms\n",
            "Speed: 0.6ms preprocess, 11.2ms inference, 1.1ms postprocess per image at shape (1, 3, 160, 256)\n",
            "Distance: -438.470947265625\n",
            "\n",
            "0: 160x256 1 Drones, 11.0ms\n",
            "Speed: 0.5ms preprocess, 11.0ms inference, 1.1ms postprocess per image at shape (1, 3, 160, 256)\n",
            "Distance: -437.951416015625\n",
            "\n",
            "0: 160x256 1 Drones, 11.6ms\n",
            "Speed: 0.9ms preprocess, 11.6ms inference, 1.2ms postprocess per image at shape (1, 3, 160, 256)\n",
            "Distance: -439.654296875\n",
            "\n",
            "0: 160x256 1 Drones, 10.9ms\n",
            "Speed: 0.8ms preprocess, 10.9ms inference, 1.4ms postprocess per image at shape (1, 3, 160, 256)\n",
            "Distance: -443.974853515625\n",
            "\n",
            "0: 160x256 1 Drones, 11.0ms\n",
            "Speed: 0.5ms preprocess, 11.0ms inference, 1.2ms postprocess per image at shape (1, 3, 160, 256)\n",
            "Distance: -445.53369140625\n",
            "\n",
            "0: 160x256 1 Drones, 4.1ms\n",
            "Speed: 0.5ms preprocess, 4.1ms inference, 0.5ms postprocess per image at shape (1, 3, 160, 256)\n",
            "Distance: -445.554443359375\n",
            "\n",
            "0: 160x256 1 Drones, 4.0ms\n",
            "Speed: 0.4ms preprocess, 4.0ms inference, 0.5ms postprocess per image at shape (1, 3, 160, 256)\n",
            "Distance: -446.600341796875\n",
            "\n",
            "0: 160x256 1 Drones, 4.4ms\n",
            "Speed: 0.6ms preprocess, 4.4ms inference, 0.6ms postprocess per image at shape (1, 3, 160, 256)\n",
            "Distance: -448.40185546875\n",
            "\n",
            "0: 160x256 1 Drones, 4.3ms\n",
            "Speed: 0.6ms preprocess, 4.3ms inference, 0.5ms postprocess per image at shape (1, 3, 160, 256)\n",
            "Distance: -452.261962890625\n",
            "\n",
            "0: 160x256 1 Drones, 4.1ms\n",
            "Speed: 0.4ms preprocess, 4.1ms inference, 0.6ms postprocess per image at shape (1, 3, 160, 256)\n",
            "Distance: -453.67529296875\n",
            "\n",
            "0: 160x256 1 Drones, 4.0ms\n",
            "Speed: 0.4ms preprocess, 4.0ms inference, 0.5ms postprocess per image at shape (1, 3, 160, 256)\n",
            "Distance: -453.90478515625\n",
            "\n",
            "0: 160x256 1 Drones, 4.0ms\n",
            "Speed: 0.4ms preprocess, 4.0ms inference, 0.9ms postprocess per image at shape (1, 3, 160, 256)\n",
            "Distance: -455.14794921875\n",
            "\n",
            "0: 160x256 1 Drones, 4.1ms\n",
            "Speed: 0.4ms preprocess, 4.1ms inference, 0.5ms postprocess per image at shape (1, 3, 160, 256)\n",
            "Distance: -456.088134765625\n",
            "\n",
            "0: 160x256 1 Drones, 4.3ms\n",
            "Speed: 0.5ms preprocess, 4.3ms inference, 0.6ms postprocess per image at shape (1, 3, 160, 256)\n",
            "Distance: -457.2728271484375\n",
            "\n",
            "0: 160x256 1 Drones, 4.0ms\n",
            "Speed: 0.4ms preprocess, 4.0ms inference, 0.6ms postprocess per image at shape (1, 3, 160, 256)\n",
            "Distance: -460.0096435546875\n",
            "\n",
            "0: 160x256 1 Drones, 4.3ms\n",
            "Speed: 0.4ms preprocess, 4.3ms inference, 1.0ms postprocess per image at shape (1, 3, 160, 256)\n",
            "Distance: -461.505859375\n",
            "\n",
            "0: 160x256 1 Drones, 4.1ms\n",
            "Speed: 0.4ms preprocess, 4.1ms inference, 0.5ms postprocess per image at shape (1, 3, 160, 256)\n",
            "Distance: -464.50830078125\n",
            "\n",
            "0: 160x256 1 Drones, 4.1ms\n",
            "Speed: 0.4ms preprocess, 4.1ms inference, 0.5ms postprocess per image at shape (1, 3, 160, 256)\n",
            "Distance: -464.987548828125\n",
            "\n",
            "0: 160x256 1 Drones, 4.0ms\n",
            "Speed: 0.4ms preprocess, 4.0ms inference, 0.5ms postprocess per image at shape (1, 3, 160, 256)\n",
            "Distance: -465.165771484375\n",
            "\n",
            "0: 160x256 1 Drones, 4.1ms\n",
            "Speed: 0.6ms preprocess, 4.1ms inference, 0.5ms postprocess per image at shape (1, 3, 160, 256)\n",
            "Distance: -465.426025390625\n",
            "\n",
            "0: 160x256 1 Drones, 4.1ms\n",
            "Speed: 0.5ms preprocess, 4.1ms inference, 0.5ms postprocess per image at shape (1, 3, 160, 256)\n",
            "Distance: -465.4189453125\n",
            "\n",
            "0: 160x256 1 Drones, 4.3ms\n",
            "Speed: 0.5ms preprocess, 4.3ms inference, 0.5ms postprocess per image at shape (1, 3, 160, 256)\n",
            "Distance: -469.7132568359375\n",
            "\n",
            "0: 160x256 1 Drones, 4.3ms\n",
            "Speed: 0.4ms preprocess, 4.3ms inference, 1.2ms postprocess per image at shape (1, 3, 160, 256)\n",
            "Distance: -474.015380859375\n",
            "\n",
            "0: 160x256 1 Drones, 4.2ms\n",
            "Speed: 0.5ms preprocess, 4.2ms inference, 0.5ms postprocess per image at shape (1, 3, 160, 256)\n",
            "Distance: -475.1883544921875\n",
            "\n",
            "0: 160x256 1 Drones, 4.3ms\n",
            "Speed: 0.5ms preprocess, 4.3ms inference, 0.6ms postprocess per image at shape (1, 3, 160, 256)\n",
            "Distance: -474.865234375\n",
            "\n",
            "0: 160x256 1 Drones, 4.2ms\n",
            "Speed: 0.5ms preprocess, 4.2ms inference, 0.6ms postprocess per image at shape (1, 3, 160, 256)\n",
            "Distance: -475.524169921875\n",
            "\n",
            "0: 160x256 1 Drones, 4.4ms\n",
            "Speed: 0.5ms preprocess, 4.4ms inference, 0.5ms postprocess per image at shape (1, 3, 160, 256)\n",
            "Distance: -477.61669921875\n",
            "\n",
            "0: 160x256 1 Drones, 4.0ms\n",
            "Speed: 0.5ms preprocess, 4.0ms inference, 0.8ms postprocess per image at shape (1, 3, 160, 256)\n",
            "Distance: -479.36572265625\n",
            "\n",
            "0: 160x256 1 Drones, 4.1ms\n",
            "Speed: 0.4ms preprocess, 4.1ms inference, 0.5ms postprocess per image at shape (1, 3, 160, 256)\n",
            "Distance: -483.34130859375\n",
            "\n",
            "0: 160x256 1 Drones, 5.8ms\n",
            "Speed: 0.6ms preprocess, 5.8ms inference, 0.8ms postprocess per image at shape (1, 3, 160, 256)\n",
            "Distance: -485.151123046875\n",
            "\n",
            "0: 160x256 1 Drones, 4.1ms\n",
            "Speed: 0.4ms preprocess, 4.1ms inference, 0.6ms postprocess per image at shape (1, 3, 160, 256)\n",
            "Distance: -487.0833740234375\n",
            "\n",
            "0: 160x256 1 Drones, 4.0ms\n",
            "Speed: 0.4ms preprocess, 4.0ms inference, 0.7ms postprocess per image at shape (1, 3, 160, 256)\n",
            "Distance: -488.48046875\n",
            "\n",
            "0: 160x256 1 Drones, 4.0ms\n",
            "Speed: 0.5ms preprocess, 4.0ms inference, 0.5ms postprocess per image at shape (1, 3, 160, 256)\n",
            "Distance: -493.090087890625\n",
            "\n",
            "0: 160x256 1 Drones, 4.0ms\n",
            "Speed: 0.5ms preprocess, 4.0ms inference, 0.5ms postprocess per image at shape (1, 3, 160, 256)\n",
            "Distance: -496.15771484375\n",
            "\n",
            "0: 160x256 1 Drones, 4.3ms\n",
            "Speed: 0.5ms preprocess, 4.3ms inference, 0.5ms postprocess per image at shape (1, 3, 160, 256)\n",
            "Distance: -495.2381591796875\n",
            "\n",
            "0: 160x256 1 Drones, 4.7ms\n",
            "Speed: 0.7ms preprocess, 4.7ms inference, 0.5ms postprocess per image at shape (1, 3, 160, 256)\n",
            "Distance: -495.332275390625\n",
            "\n",
            "0: 160x256 1 Drones, 5.5ms\n",
            "Speed: 0.4ms preprocess, 5.5ms inference, 0.9ms postprocess per image at shape (1, 3, 160, 256)\n",
            "Distance: -496.223388671875\n",
            "\n",
            "0: 160x256 1 Drones, 12.1ms\n",
            "Speed: 0.6ms preprocess, 12.1ms inference, 1.1ms postprocess per image at shape (1, 3, 160, 256)\n",
            "Distance: -497.232177734375\n",
            "\n",
            "0: 160x256 1 Drones, 11.5ms\n",
            "Speed: 0.8ms preprocess, 11.5ms inference, 1.1ms postprocess per image at shape (1, 3, 160, 256)\n",
            "Distance: -499.67529296875\n",
            "\n",
            "0: 160x256 1 Drones, 4.2ms\n",
            "Speed: 0.4ms preprocess, 4.2ms inference, 0.7ms postprocess per image at shape (1, 3, 160, 256)\n",
            "Distance: -501.71044921875\n",
            "\n",
            "0: 160x256 1 Drones, 4.2ms\n",
            "Speed: 0.6ms preprocess, 4.2ms inference, 0.5ms postprocess per image at shape (1, 3, 160, 256)\n",
            "Distance: -504.533935546875\n",
            "\n",
            "0: 160x256 1 Drones, 4.0ms\n",
            "Speed: 0.7ms preprocess, 4.0ms inference, 0.6ms postprocess per image at shape (1, 3, 160, 256)\n",
            "Distance: -506.1260986328125\n",
            "\n",
            "0: 160x256 1 Drones, 4.1ms\n",
            "Speed: 0.4ms preprocess, 4.1ms inference, 0.5ms postprocess per image at shape (1, 3, 160, 256)\n",
            "Distance: -508.9267578125\n",
            "\n",
            "0: 160x256 1 Drones, 4.0ms\n",
            "Speed: 0.4ms preprocess, 4.0ms inference, 0.5ms postprocess per image at shape (1, 3, 160, 256)\n",
            "Distance: -510.793212890625\n",
            "\n",
            "0: 160x256 1 Drones, 4.0ms\n",
            "Speed: 0.4ms preprocess, 4.0ms inference, 0.8ms postprocess per image at shape (1, 3, 160, 256)\n",
            "Distance: -510.8004150390625\n",
            "\n",
            "0: 160x256 1 Drones, 4.4ms\n",
            "Speed: 0.5ms preprocess, 4.4ms inference, 0.9ms postprocess per image at shape (1, 3, 160, 256)\n",
            "Distance: -512.420166015625\n",
            "\n",
            "0: 160x256 1 Drones, 4.5ms\n",
            "Speed: 0.5ms preprocess, 4.5ms inference, 0.8ms postprocess per image at shape (1, 3, 160, 256)\n",
            "Distance: -512.4931640625\n",
            "\n",
            "0: 160x256 1 Drones, 11.3ms\n",
            "Speed: 0.8ms preprocess, 11.3ms inference, 1.1ms postprocess per image at shape (1, 3, 160, 256)\n",
            "Distance: -514.308349609375\n",
            "\n",
            "0: 160x256 1 Drones, 11.6ms\n",
            "Speed: 0.8ms preprocess, 11.6ms inference, 1.0ms postprocess per image at shape (1, 3, 160, 256)\n",
            "Distance: -516.0355224609375\n",
            "\n",
            "0: 160x256 1 Drones, 11.8ms\n",
            "Speed: 1.2ms preprocess, 11.8ms inference, 1.1ms postprocess per image at shape (1, 3, 160, 256)\n",
            "Distance: -518.4195556640625\n",
            "\n",
            "0: 160x256 1 Drones, 11.0ms\n",
            "Speed: 0.8ms preprocess, 11.0ms inference, 1.0ms postprocess per image at shape (1, 3, 160, 256)\n",
            "Distance: -520.0146484375\n",
            "\n",
            "0: 160x256 1 Drones, 11.2ms\n",
            "Speed: 0.6ms preprocess, 11.2ms inference, 1.1ms postprocess per image at shape (1, 3, 160, 256)\n",
            "Distance: -523.545654296875\n",
            "\n",
            "0: 160x256 1 Drones, 10.9ms\n",
            "Speed: 0.6ms preprocess, 10.9ms inference, 1.1ms postprocess per image at shape (1, 3, 160, 256)\n",
            "Distance: -525.443603515625\n",
            "\n",
            "0: 160x256 1 Drones, 10.9ms\n",
            "Speed: 0.6ms preprocess, 10.9ms inference, 1.1ms postprocess per image at shape (1, 3, 160, 256)\n",
            "Distance: -528.6148681640625\n",
            "\n",
            "0: 160x256 1 Drones, 11.0ms\n",
            "Speed: 0.6ms preprocess, 11.0ms inference, 1.0ms postprocess per image at shape (1, 3, 160, 256)\n",
            "Distance: -528.598388671875\n",
            "\n",
            "0: 160x256 1 Drones, 11.6ms\n",
            "Speed: 0.9ms preprocess, 11.6ms inference, 1.1ms postprocess per image at shape (1, 3, 160, 256)\n",
            "Distance: -527.373779296875\n",
            "\n",
            "0: 160x256 1 Drones, 10.9ms\n",
            "Speed: 0.8ms preprocess, 10.9ms inference, 1.0ms postprocess per image at shape (1, 3, 160, 256)\n",
            "Distance: -528.2413330078125\n",
            "\n",
            "0: 160x256 1 Drones, 11.0ms\n",
            "Speed: 0.6ms preprocess, 11.0ms inference, 1.1ms postprocess per image at shape (1, 3, 160, 256)\n",
            "Distance: -527.4832763671875\n",
            "\n",
            "0: 160x256 1 Drones, 10.8ms\n",
            "Speed: 0.5ms preprocess, 10.8ms inference, 1.4ms postprocess per image at shape (1, 3, 160, 256)\n",
            "Distance: -532.458984375\n",
            "\n",
            "0: 160x256 1 Drones, 10.9ms\n",
            "Speed: 0.7ms preprocess, 10.9ms inference, 1.0ms postprocess per image at shape (1, 3, 160, 256)\n",
            "Distance: -533.11279296875\n",
            "\n",
            "0: 160x256 1 Drones, 10.9ms\n",
            "Speed: 0.5ms preprocess, 10.9ms inference, 1.0ms postprocess per image at shape (1, 3, 160, 256)\n",
            "Distance: -534.63427734375\n",
            "\n",
            "0: 160x256 1 Drones, 11.2ms\n",
            "Speed: 0.6ms preprocess, 11.2ms inference, 1.2ms postprocess per image at shape (1, 3, 160, 256)\n",
            "Distance: -536.5684814453125\n",
            "\n",
            "0: 160x256 1 Drones, 12.3ms\n",
            "Speed: 0.6ms preprocess, 12.3ms inference, 1.3ms postprocess per image at shape (1, 3, 160, 256)\n",
            "Distance: -538.043212890625\n",
            "\n",
            "0: 160x256 1 Drones, 11.2ms\n",
            "Speed: 0.5ms preprocess, 11.2ms inference, 1.1ms postprocess per image at shape (1, 3, 160, 256)\n",
            "Distance: -539.9713134765625\n",
            "\n",
            "0: 160x256 1 Drones, 11.4ms\n",
            "Speed: 0.7ms preprocess, 11.4ms inference, 1.1ms postprocess per image at shape (1, 3, 160, 256)\n",
            "Distance: -541.781982421875\n",
            "\n",
            "0: 160x256 1 Drones, 10.9ms\n",
            "Speed: 0.6ms preprocess, 10.9ms inference, 1.3ms postprocess per image at shape (1, 3, 160, 256)\n",
            "Distance: -541.469970703125\n",
            "\n",
            "0: 160x256 1 Drones, 10.9ms\n",
            "Speed: 0.5ms preprocess, 10.9ms inference, 1.1ms postprocess per image at shape (1, 3, 160, 256)\n",
            "Distance: -541.921875\n",
            "\n",
            "0: 160x256 1 Drones, 11.1ms\n",
            "Speed: 0.5ms preprocess, 11.1ms inference, 1.1ms postprocess per image at shape (1, 3, 160, 256)\n",
            "Distance: -541.826904296875\n",
            "\n",
            "0: 160x256 1 Drones, 10.9ms\n",
            "Speed: 0.8ms preprocess, 10.9ms inference, 1.0ms postprocess per image at shape (1, 3, 160, 256)\n",
            "Distance: -541.8355712890625\n",
            "\n",
            "0: 160x256 1 Drones, 10.9ms\n",
            "Speed: 0.6ms preprocess, 10.9ms inference, 1.1ms postprocess per image at shape (1, 3, 160, 256)\n",
            "Distance: -541.3544921875\n",
            "\n",
            "0: 160x256 1 Drones, 11.4ms\n",
            "Speed: 0.7ms preprocess, 11.4ms inference, 1.1ms postprocess per image at shape (1, 3, 160, 256)\n",
            "Distance: -541.66748046875\n",
            "\n",
            "0: 160x256 1 Drones, 11.5ms\n",
            "Speed: 1.0ms preprocess, 11.5ms inference, 1.2ms postprocess per image at shape (1, 3, 160, 256)\n",
            "Distance: -541.7579345703125\n",
            "\n",
            "0: 160x256 1 Drones, 11.4ms\n",
            "Speed: 0.6ms preprocess, 11.4ms inference, 1.1ms postprocess per image at shape (1, 3, 160, 256)\n",
            "Distance: -541.97900390625\n",
            "\n",
            "0: 160x256 1 Drones, 11.4ms\n",
            "Speed: 0.5ms preprocess, 11.4ms inference, 1.0ms postprocess per image at shape (1, 3, 160, 256)\n",
            "Distance: -541.8291015625\n",
            "\n",
            "0: 160x256 1 Drones, 12.0ms\n",
            "Speed: 0.7ms preprocess, 12.0ms inference, 1.1ms postprocess per image at shape (1, 3, 160, 256)\n",
            "Distance: -541.31787109375\n",
            "\n",
            "0: 160x256 1 Drones, 11.4ms\n",
            "Speed: 0.5ms preprocess, 11.4ms inference, 1.1ms postprocess per image at shape (1, 3, 160, 256)\n",
            "Distance: -541.052978515625\n",
            "\n",
            "0: 160x256 1 Drones, 11.3ms\n",
            "Speed: 0.5ms preprocess, 11.3ms inference, 1.1ms postprocess per image at shape (1, 3, 160, 256)\n",
            "Distance: -540.03564453125\n",
            "\n",
            "0: 160x256 1 Drones, 11.2ms\n",
            "Speed: 0.5ms preprocess, 11.2ms inference, 1.3ms postprocess per image at shape (1, 3, 160, 256)\n",
            "Distance: -540.092529296875\n",
            "\n",
            "0: 160x256 1 Drones, 11.3ms\n",
            "Speed: 0.7ms preprocess, 11.3ms inference, 1.0ms postprocess per image at shape (1, 3, 160, 256)\n",
            "Distance: -540.759765625\n",
            "\n",
            "0: 160x256 1 Drones, 11.4ms\n",
            "Speed: 0.5ms preprocess, 11.4ms inference, 1.1ms postprocess per image at shape (1, 3, 160, 256)\n",
            "Distance: -541.5703125\n",
            "\n",
            "0: 160x256 1 Drones, 11.3ms\n",
            "Speed: 0.6ms preprocess, 11.3ms inference, 1.1ms postprocess per image at shape (1, 3, 160, 256)\n",
            "Distance: -542.383544921875\n",
            "\n",
            "0: 160x256 1 Drones, 11.4ms\n",
            "Speed: 0.6ms preprocess, 11.4ms inference, 1.1ms postprocess per image at shape (1, 3, 160, 256)\n",
            "Distance: -542.8458251953125\n",
            "\n",
            "0: 160x256 1 Drones, 11.0ms\n",
            "Speed: 0.5ms preprocess, 11.0ms inference, 1.0ms postprocess per image at shape (1, 3, 160, 256)\n",
            "Distance: -542.961181640625\n",
            "\n",
            "0: 160x256 1 Drones, 11.1ms\n",
            "Speed: 0.6ms preprocess, 11.1ms inference, 1.2ms postprocess per image at shape (1, 3, 160, 256)\n",
            "Distance: -543.30517578125\n",
            "\n",
            "0: 160x256 1 Drones, 11.9ms\n",
            "Speed: 0.7ms preprocess, 11.9ms inference, 1.3ms postprocess per image at shape (1, 3, 160, 256)\n",
            "Distance: -543.31396484375\n",
            "\n",
            "0: 160x256 1 Drones, 13.9ms\n",
            "Speed: 0.8ms preprocess, 13.9ms inference, 1.4ms postprocess per image at shape (1, 3, 160, 256)\n",
            "Distance: -543.349853515625\n",
            "\n",
            "0: 160x256 1 Drones, 13.9ms\n",
            "Speed: 0.6ms preprocess, 13.9ms inference, 1.3ms postprocess per image at shape (1, 3, 160, 256)\n",
            "Distance: -543.9830322265625\n",
            "\n",
            "0: 160x256 1 Drones, 13.8ms\n",
            "Speed: 0.6ms preprocess, 13.8ms inference, 1.2ms postprocess per image at shape (1, 3, 160, 256)\n",
            "Distance: -544.0517578125\n",
            "\n",
            "0: 160x256 1 Drones, 11.3ms\n",
            "Speed: 0.7ms preprocess, 11.3ms inference, 1.0ms postprocess per image at shape (1, 3, 160, 256)\n",
            "Distance: -544.3349609375\n",
            "\n",
            "0: 160x256 1 Drones, 11.3ms\n",
            "Speed: 0.7ms preprocess, 11.3ms inference, 1.4ms postprocess per image at shape (1, 3, 160, 256)\n",
            "Distance: -544.837158203125\n",
            "\n",
            "0: 160x256 1 Drones, 12.1ms\n",
            "Speed: 0.6ms preprocess, 12.1ms inference, 1.1ms postprocess per image at shape (1, 3, 160, 256)\n",
            "Distance: -545.26416015625\n",
            "\n",
            "0: 160x256 1 Drones, 13.8ms\n",
            "Speed: 0.8ms preprocess, 13.8ms inference, 1.3ms postprocess per image at shape (1, 3, 160, 256)\n",
            "Distance: -545.7203369140625\n",
            "\n",
            "0: 160x256 1 Drones, 11.9ms\n",
            "Speed: 0.6ms preprocess, 11.9ms inference, 1.2ms postprocess per image at shape (1, 3, 160, 256)\n",
            "Distance: -546.319580078125\n",
            "\n",
            "0: 160x256 1 Drones, 11.6ms\n",
            "Speed: 0.5ms preprocess, 11.6ms inference, 1.3ms postprocess per image at shape (1, 3, 160, 256)\n",
            "Distance: -547.052734375\n",
            "\n",
            "0: 160x256 1 Drones, 4.2ms\n",
            "Speed: 0.5ms preprocess, 4.2ms inference, 0.5ms postprocess per image at shape (1, 3, 160, 256)\n",
            "Distance: -547.225341796875\n",
            "\n",
            "0: 160x256 1 Drones, 4.1ms\n",
            "Speed: 0.6ms preprocess, 4.1ms inference, 0.8ms postprocess per image at shape (1, 3, 160, 256)\n",
            "Distance: -548.7781982421875\n",
            "\n",
            "0: 160x256 1 Drones, 4.1ms\n",
            "Speed: 0.5ms preprocess, 4.1ms inference, 0.6ms postprocess per image at shape (1, 3, 160, 256)\n",
            "Distance: -548.9345703125\n",
            "\n",
            "0: 160x256 1 Drones, 4.1ms\n",
            "Speed: 0.4ms preprocess, 4.1ms inference, 0.8ms postprocess per image at shape (1, 3, 160, 256)\n",
            "Distance: -549.208251953125\n",
            "\n",
            "0: 160x256 1 Drones, 4.3ms\n",
            "Speed: 0.5ms preprocess, 4.3ms inference, 0.6ms postprocess per image at shape (1, 3, 160, 256)\n",
            "Distance: -549.6220703125\n",
            "\n",
            "0: 160x256 1 Drones, 4.0ms\n",
            "Speed: 0.4ms preprocess, 4.0ms inference, 0.7ms postprocess per image at shape (1, 3, 160, 256)\n",
            "Distance: -549.500244140625\n",
            "\n",
            "0: 160x256 1 Drones, 4.1ms\n",
            "Speed: 0.4ms preprocess, 4.1ms inference, 0.6ms postprocess per image at shape (1, 3, 160, 256)\n",
            "Distance: -549.77587890625\n",
            "\n",
            "0: 160x256 1 Drones, 5.1ms\n",
            "Speed: 0.6ms preprocess, 5.1ms inference, 0.5ms postprocess per image at shape (1, 3, 160, 256)\n",
            "Distance: -550.2874755859375\n",
            "\n",
            "0: 160x256 1 Drones, 4.3ms\n",
            "Speed: 0.5ms preprocess, 4.3ms inference, 0.5ms postprocess per image at shape (1, 3, 160, 256)\n",
            "Distance: -550.769287109375\n",
            "\n",
            "0: 160x256 1 Drones, 4.3ms\n",
            "Speed: 0.4ms preprocess, 4.3ms inference, 0.5ms postprocess per image at shape (1, 3, 160, 256)\n",
            "Distance: -551.110107421875\n",
            "\n",
            "0: 160x256 1 Drones, 4.0ms\n",
            "Speed: 0.4ms preprocess, 4.0ms inference, 0.5ms postprocess per image at shape (1, 3, 160, 256)\n",
            "Distance: -551.626220703125\n",
            "\n",
            "0: 160x256 1 Drones, 4.1ms\n",
            "Speed: 0.4ms preprocess, 4.1ms inference, 0.5ms postprocess per image at shape (1, 3, 160, 256)\n",
            "Distance: -551.666015625\n",
            "\n",
            "0: 160x256 1 Drones, 4.1ms\n",
            "Speed: 0.4ms preprocess, 4.1ms inference, 0.6ms postprocess per image at shape (1, 3, 160, 256)\n",
            "Distance: -551.775146484375\n",
            "\n",
            "0: 160x256 1 Drones, 4.0ms\n",
            "Speed: 0.6ms preprocess, 4.0ms inference, 0.5ms postprocess per image at shape (1, 3, 160, 256)\n",
            "Distance: -551.54736328125\n",
            "\n",
            "0: 160x256 1 Drones, 4.0ms\n",
            "Speed: 0.9ms preprocess, 4.0ms inference, 0.5ms postprocess per image at shape (1, 3, 160, 256)\n",
            "Distance: -551.466064453125\n",
            "\n",
            "0: 160x256 1 Drones, 4.1ms\n",
            "Speed: 0.4ms preprocess, 4.1ms inference, 0.5ms postprocess per image at shape (1, 3, 160, 256)\n",
            "Distance: -551.56591796875\n",
            "\n",
            "0: 160x256 1 Drones, 4.4ms\n",
            "Speed: 0.4ms preprocess, 4.4ms inference, 1.2ms postprocess per image at shape (1, 3, 160, 256)\n",
            "Distance: -551.5472412109375\n",
            "\n",
            "0: 160x256 1 Drones, 4.4ms\n",
            "Speed: 0.5ms preprocess, 4.4ms inference, 1.0ms postprocess per image at shape (1, 3, 160, 256)\n",
            "Distance: -551.544677734375\n",
            "\n",
            "0: 160x256 1 Drones, 14.7ms\n",
            "Speed: 1.1ms preprocess, 14.7ms inference, 1.2ms postprocess per image at shape (1, 3, 160, 256)\n",
            "Distance: -550.9140625\n",
            "\n",
            "0: 160x256 1 Drones, 14.0ms\n",
            "Speed: 0.6ms preprocess, 14.0ms inference, 1.2ms postprocess per image at shape (1, 3, 160, 256)\n",
            "Distance: -551.105224609375\n",
            "\n",
            "0: 160x256 1 Drones, 14.3ms\n",
            "Speed: 0.6ms preprocess, 14.3ms inference, 1.3ms postprocess per image at shape (1, 3, 160, 256)\n",
            "Distance: -552.0416259765625\n",
            "\n",
            "0: 160x256 1 Drones, 11.6ms\n",
            "Speed: 0.5ms preprocess, 11.6ms inference, 1.1ms postprocess per image at shape (1, 3, 160, 256)\n",
            "Distance: -552.784423828125\n",
            "\n",
            "0: 160x256 1 Drones, 11.1ms\n",
            "Speed: 1.0ms preprocess, 11.1ms inference, 1.1ms postprocess per image at shape (1, 3, 160, 256)\n",
            "Distance: -553.242919921875\n",
            "\n",
            "0: 160x256 1 Drones, 12.2ms\n",
            "Speed: 0.8ms preprocess, 12.2ms inference, 1.1ms postprocess per image at shape (1, 3, 160, 256)\n",
            "Distance: -553.9676513671875\n",
            "\n",
            "0: 160x256 1 Drones, 11.8ms\n",
            "Speed: 0.5ms preprocess, 11.8ms inference, 2.1ms postprocess per image at shape (1, 3, 160, 256)\n",
            "Distance: -554.7685546875\n",
            "\n",
            "0: 160x256 1 Drones, 11.3ms\n",
            "Speed: 0.7ms preprocess, 11.3ms inference, 1.2ms postprocess per image at shape (1, 3, 160, 256)\n",
            "Distance: -555.5699462890625\n",
            "\n",
            "0: 160x256 1 Drones, 11.0ms\n",
            "Speed: 0.6ms preprocess, 11.0ms inference, 1.3ms postprocess per image at shape (1, 3, 160, 256)\n",
            "Distance: -555.845703125\n",
            "\n",
            "0: 160x256 1 Drones, 11.2ms\n",
            "Speed: 0.5ms preprocess, 11.2ms inference, 1.1ms postprocess per image at shape (1, 3, 160, 256)\n",
            "Distance: -556.2984619140625\n",
            "\n",
            "0: 160x256 1 Drones, 11.1ms\n",
            "Speed: 0.6ms preprocess, 11.1ms inference, 1.0ms postprocess per image at shape (1, 3, 160, 256)\n",
            "Distance: -556.4395751953125\n",
            "\n",
            "0: 160x256 1 Drones, 11.1ms\n",
            "Speed: 0.5ms preprocess, 11.1ms inference, 1.1ms postprocess per image at shape (1, 3, 160, 256)\n",
            "Distance: -556.334228515625\n",
            "\n",
            "0: 160x256 1 Drones, 11.1ms\n",
            "Speed: 0.5ms preprocess, 11.1ms inference, 1.4ms postprocess per image at shape (1, 3, 160, 256)\n",
            "Distance: -556.298095703125\n",
            "\n",
            "0: 160x256 1 Drones, 11.1ms\n",
            "Speed: 0.5ms preprocess, 11.1ms inference, 1.1ms postprocess per image at shape (1, 3, 160, 256)\n",
            "Distance: -556.1162109375\n",
            "\n",
            "0: 160x256 1 Drones, 11.0ms\n",
            "Speed: 0.7ms preprocess, 11.0ms inference, 1.1ms postprocess per image at shape (1, 3, 160, 256)\n",
            "Distance: -556.119140625\n",
            "\n",
            "0: 160x256 1 Drones, 11.2ms\n",
            "Speed: 0.8ms preprocess, 11.2ms inference, 1.0ms postprocess per image at shape (1, 3, 160, 256)\n",
            "Distance: -555.8734130859375\n",
            "\n",
            "0: 160x256 1 Drones, 11.9ms\n",
            "Speed: 0.7ms preprocess, 11.9ms inference, 1.5ms postprocess per image at shape (1, 3, 160, 256)\n",
            "Distance: -555.280517578125\n",
            "\n",
            "0: 160x256 1 Drones, 11.9ms\n",
            "Speed: 0.7ms preprocess, 11.9ms inference, 1.3ms postprocess per image at shape (1, 3, 160, 256)\n",
            "Distance: -554.534423828125\n",
            "\n",
            "0: 160x256 1 Drones, 11.3ms\n",
            "Speed: 0.5ms preprocess, 11.3ms inference, 1.2ms postprocess per image at shape (1, 3, 160, 256)\n",
            "Distance: -554.504638671875\n",
            "\n",
            "0: 160x256 1 Drones, 11.3ms\n",
            "Speed: 0.5ms preprocess, 11.3ms inference, 1.3ms postprocess per image at shape (1, 3, 160, 256)\n",
            "Distance: -553.8369140625\n",
            "\n",
            "0: 160x256 1 Drones, 11.2ms\n",
            "Speed: 0.5ms preprocess, 11.2ms inference, 1.0ms postprocess per image at shape (1, 3, 160, 256)\n",
            "Distance: -553.2958984375\n",
            "\n",
            "0: 160x256 1 Drones, 11.4ms\n",
            "Speed: 0.7ms preprocess, 11.4ms inference, 1.0ms postprocess per image at shape (1, 3, 160, 256)\n",
            "Distance: -553.078857421875\n",
            "\n",
            "0: 160x256 1 Drones, 12.5ms\n",
            "Speed: 1.1ms preprocess, 12.5ms inference, 1.1ms postprocess per image at shape (1, 3, 160, 256)\n",
            "Distance: -553.240478515625\n",
            "\n",
            "0: 160x256 1 Drones, 11.5ms\n",
            "Speed: 0.6ms preprocess, 11.5ms inference, 1.2ms postprocess per image at shape (1, 3, 160, 256)\n",
            "Distance: -553.258544921875\n",
            "\n",
            "0: 160x256 1 Drones, 11.1ms\n",
            "Speed: 0.8ms preprocess, 11.1ms inference, 1.1ms postprocess per image at shape (1, 3, 160, 256)\n",
            "Distance: -553.094970703125\n",
            "\n",
            "0: 160x256 1 Drones, 11.3ms\n",
            "Speed: 0.5ms preprocess, 11.3ms inference, 1.1ms postprocess per image at shape (1, 3, 160, 256)\n",
            "Distance: -552.943115234375\n",
            "\n",
            "0: 160x256 1 Drones, 11.3ms\n",
            "Speed: 0.6ms preprocess, 11.3ms inference, 1.2ms postprocess per image at shape (1, 3, 160, 256)\n",
            "Distance: -552.391357421875\n",
            "\n",
            "0: 160x256 1 Drones, 11.0ms\n",
            "Speed: 0.5ms preprocess, 11.0ms inference, 1.1ms postprocess per image at shape (1, 3, 160, 256)\n",
            "Distance: -552.2830810546875\n",
            "\n",
            "0: 160x256 1 Drones, 11.4ms\n",
            "Speed: 0.6ms preprocess, 11.4ms inference, 1.1ms postprocess per image at shape (1, 3, 160, 256)\n",
            "Distance: -552.87451171875\n",
            "\n",
            "0: 160x256 1 Drones, 4.5ms\n",
            "Speed: 0.5ms preprocess, 4.5ms inference, 0.5ms postprocess per image at shape (1, 3, 160, 256)\n",
            "Distance: -552.865478515625\n",
            "\n",
            "0: 160x256 1 Drones, 4.1ms\n",
            "Speed: 0.4ms preprocess, 4.1ms inference, 0.7ms postprocess per image at shape (1, 3, 160, 256)\n",
            "Distance: -553.77587890625\n",
            "\n",
            "0: 160x256 1 Drones, 4.1ms\n",
            "Speed: 0.5ms preprocess, 4.1ms inference, 0.8ms postprocess per image at shape (1, 3, 160, 256)\n",
            "Distance: -553.80322265625\n",
            "\n",
            "0: 160x256 1 Drones, 4.2ms\n",
            "Speed: 0.5ms preprocess, 4.2ms inference, 0.9ms postprocess per image at shape (1, 3, 160, 256)\n",
            "Distance: -554.502685546875\n",
            "\n",
            "0: 160x256 1 Drones, 4.0ms\n",
            "Speed: 0.4ms preprocess, 4.0ms inference, 0.5ms postprocess per image at shape (1, 3, 160, 256)\n",
            "Distance: -555.38720703125\n",
            "\n",
            "0: 160x256 1 Drones, 3.9ms\n",
            "Speed: 0.5ms preprocess, 3.9ms inference, 0.5ms postprocess per image at shape (1, 3, 160, 256)\n",
            "Distance: -555.788330078125\n",
            "\n",
            "0: 160x256 1 Drones, 4.0ms\n",
            "Speed: 0.4ms preprocess, 4.0ms inference, 0.5ms postprocess per image at shape (1, 3, 160, 256)\n",
            "Distance: -556.5863037109375\n",
            "\n",
            "0: 160x256 1 Drones, 4.0ms\n",
            "Speed: 0.4ms preprocess, 4.0ms inference, 0.5ms postprocess per image at shape (1, 3, 160, 256)\n",
            "Distance: -556.9796142578125\n",
            "\n",
            "0: 160x256 1 Drones, 4.2ms\n",
            "Speed: 0.4ms preprocess, 4.2ms inference, 0.5ms postprocess per image at shape (1, 3, 160, 256)\n",
            "Distance: -557.3516845703125\n",
            "\n",
            "0: 160x256 1 Drones, 4.0ms\n",
            "Speed: 0.6ms preprocess, 4.0ms inference, 0.5ms postprocess per image at shape (1, 3, 160, 256)\n",
            "Distance: -558.2269287109375\n",
            "\n",
            "0: 160x256 1 Drones, 4.0ms\n",
            "Speed: 0.5ms preprocess, 4.0ms inference, 0.5ms postprocess per image at shape (1, 3, 160, 256)\n",
            "Distance: -558.528076171875\n",
            "\n",
            "0: 160x256 1 Drones, 4.1ms\n",
            "Speed: 0.4ms preprocess, 4.1ms inference, 0.6ms postprocess per image at shape (1, 3, 160, 256)\n",
            "Distance: -558.9248046875\n",
            "\n",
            "0: 160x256 1 Drones, 4.1ms\n",
            "Speed: 0.6ms preprocess, 4.1ms inference, 0.8ms postprocess per image at shape (1, 3, 160, 256)\n",
            "Distance: -558.99853515625\n",
            "\n",
            "0: 160x256 1 Drones, 13.7ms\n",
            "Speed: 0.6ms preprocess, 13.7ms inference, 1.3ms postprocess per image at shape (1, 3, 160, 256)\n",
            "Distance: -559.357666015625\n",
            "\n",
            "0: 160x256 1 Drones, 13.7ms\n",
            "Speed: 0.5ms preprocess, 13.7ms inference, 1.3ms postprocess per image at shape (1, 3, 160, 256)\n",
            "Distance: -559.588134765625\n",
            "\n",
            "0: 160x256 1 Drones, 11.9ms\n",
            "Speed: 0.5ms preprocess, 11.9ms inference, 1.1ms postprocess per image at shape (1, 3, 160, 256)\n",
            "Distance: -559.56494140625\n",
            "\n",
            "0: 160x256 1 Drones, 14.2ms\n",
            "Speed: 1.1ms preprocess, 14.2ms inference, 1.3ms postprocess per image at shape (1, 3, 160, 256)\n",
            "Distance: -559.5814208984375\n",
            "\n",
            "0: 160x256 1 Drones, 11.1ms\n",
            "Speed: 0.5ms preprocess, 11.1ms inference, 1.3ms postprocess per image at shape (1, 3, 160, 256)\n",
            "Distance: -559.419921875\n",
            "\n",
            "0: 160x256 1 Drones, 11.0ms\n",
            "Speed: 0.7ms preprocess, 11.0ms inference, 1.2ms postprocess per image at shape (1, 3, 160, 256)\n",
            "Distance: -559.9515380859375\n",
            "\n",
            "0: 160x256 1 Drones, 11.3ms\n",
            "Speed: 0.8ms preprocess, 11.3ms inference, 1.1ms postprocess per image at shape (1, 3, 160, 256)\n",
            "Distance: -558.3033447265625\n",
            "\n",
            "0: 160x256 1 Drones, 13.7ms\n",
            "Speed: 0.5ms preprocess, 13.7ms inference, 1.2ms postprocess per image at shape (1, 3, 160, 256)\n",
            "Distance: -558.28125\n",
            "\n",
            "0: 160x256 1 Drones, 14.7ms\n",
            "Speed: 0.6ms preprocess, 14.7ms inference, 1.3ms postprocess per image at shape (1, 3, 160, 256)\n",
            "Distance: -559.3695068359375\n",
            "\n",
            "0: 160x256 1 Drones, 14.0ms\n",
            "Speed: 0.6ms preprocess, 14.0ms inference, 1.2ms postprocess per image at shape (1, 3, 160, 256)\n",
            "Distance: -559.62646484375\n",
            "\n",
            "0: 160x256 1 Drones, 13.7ms\n",
            "Speed: 0.5ms preprocess, 13.7ms inference, 1.3ms postprocess per image at shape (1, 3, 160, 256)\n",
            "Distance: -559.592041015625\n",
            "\n",
            "0: 160x256 1 Drones, 13.7ms\n",
            "Speed: 0.6ms preprocess, 13.7ms inference, 1.3ms postprocess per image at shape (1, 3, 160, 256)\n",
            "Distance: -559.667236328125\n",
            "\n",
            "0: 160x256 1 Drones, 14.0ms\n",
            "Speed: 0.8ms preprocess, 14.0ms inference, 1.4ms postprocess per image at shape (1, 3, 160, 256)\n",
            "Distance: -559.35546875\n",
            "\n",
            "0: 160x256 1 Drones, 13.9ms\n",
            "Speed: 0.8ms preprocess, 13.9ms inference, 1.2ms postprocess per image at shape (1, 3, 160, 256)\n",
            "Distance: -560.90234375\n",
            "\n",
            "0: 160x256 1 Drones, 13.9ms\n",
            "Speed: 0.8ms preprocess, 13.9ms inference, 1.5ms postprocess per image at shape (1, 3, 160, 256)\n",
            "Distance: -561.0833740234375\n",
            "\n",
            "0: 160x256 1 Drones, 4.2ms\n",
            "Speed: 0.9ms preprocess, 4.2ms inference, 0.6ms postprocess per image at shape (1, 3, 160, 256)\n",
            "Distance: -561.05615234375\n",
            "\n",
            "0: 160x256 1 Drones, 4.2ms\n",
            "Speed: 0.4ms preprocess, 4.2ms inference, 0.5ms postprocess per image at shape (1, 3, 160, 256)\n",
            "Distance: -561.698974609375\n",
            "\n",
            "0: 160x256 1 Drones, 4.3ms\n",
            "Speed: 0.4ms preprocess, 4.3ms inference, 0.5ms postprocess per image at shape (1, 3, 160, 256)\n",
            "Distance: -562.193603515625\n",
            "\n",
            "0: 160x256 1 Drones, 4.0ms\n",
            "Speed: 0.4ms preprocess, 4.0ms inference, 0.5ms postprocess per image at shape (1, 3, 160, 256)\n",
            "Distance: -562.0640869140625\n",
            "\n",
            "0: 160x256 1 Drones, 13.5ms\n",
            "Speed: 0.6ms preprocess, 13.5ms inference, 1.2ms postprocess per image at shape (1, 3, 160, 256)\n",
            "Distance: -563.326904296875\n",
            "\n",
            "0: 160x256 1 Drones, 14.2ms\n",
            "Speed: 0.5ms preprocess, 14.2ms inference, 1.5ms postprocess per image at shape (1, 3, 160, 256)\n",
            "Distance: -563.7685546875\n",
            "\n",
            "0: 160x256 1 Drones, 13.7ms\n",
            "Speed: 0.8ms preprocess, 13.7ms inference, 1.2ms postprocess per image at shape (1, 3, 160, 256)\n",
            "Distance: -564.446533203125\n",
            "\n",
            "0: 160x256 1 Drones, 13.7ms\n",
            "Speed: 0.5ms preprocess, 13.7ms inference, 1.2ms postprocess per image at shape (1, 3, 160, 256)\n",
            "Distance: -564.951416015625\n",
            "\n",
            "0: 160x256 1 Drones, 13.6ms\n",
            "Speed: 0.5ms preprocess, 13.6ms inference, 1.2ms postprocess per image at shape (1, 3, 160, 256)\n",
            "Distance: -565.4578857421875\n",
            "\n",
            "0: 160x256 1 Drones, 14.4ms\n",
            "Speed: 0.9ms preprocess, 14.4ms inference, 1.4ms postprocess per image at shape (1, 3, 160, 256)\n",
            "Distance: -565.7958984375\n",
            "\n",
            "0: 160x256 1 Drones, 13.7ms\n",
            "Speed: 0.6ms preprocess, 13.7ms inference, 1.2ms postprocess per image at shape (1, 3, 160, 256)\n",
            "Distance: -566.5059814453125\n",
            "\n",
            "0: 160x256 1 Drones, 14.3ms\n",
            "Speed: 0.5ms preprocess, 14.3ms inference, 1.5ms postprocess per image at shape (1, 3, 160, 256)\n",
            "Distance: -566.639892578125\n",
            "\n",
            "0: 160x256 1 Drones, 4.3ms\n",
            "Speed: 0.6ms preprocess, 4.3ms inference, 0.5ms postprocess per image at shape (1, 3, 160, 256)\n",
            "Distance: -566.51953125\n",
            "\n",
            "0: 160x256 1 Drones, 4.0ms\n",
            "Speed: 0.4ms preprocess, 4.0ms inference, 0.5ms postprocess per image at shape (1, 3, 160, 256)\n",
            "Distance: -567.054931640625\n",
            "\n",
            "0: 160x256 1 Drones, 4.1ms\n",
            "Speed: 0.4ms preprocess, 4.1ms inference, 0.5ms postprocess per image at shape (1, 3, 160, 256)\n",
            "Distance: -567.399658203125\n",
            "\n",
            "0: 160x256 1 Drones, 4.0ms\n",
            "Speed: 0.5ms preprocess, 4.0ms inference, 0.5ms postprocess per image at shape (1, 3, 160, 256)\n",
            "Distance: -567.744140625\n",
            "\n",
            "0: 160x256 1 Drones, 4.4ms\n",
            "Speed: 0.5ms preprocess, 4.4ms inference, 0.9ms postprocess per image at shape (1, 3, 160, 256)\n",
            "Distance: -567.830078125\n",
            "\n",
            "0: 160x256 1 Drones, 4.0ms\n",
            "Speed: 0.4ms preprocess, 4.0ms inference, 0.5ms postprocess per image at shape (1, 3, 160, 256)\n",
            "Distance: -567.893310546875\n",
            "\n",
            "0: 160x256 1 Drones, 4.0ms\n",
            "Speed: 0.5ms preprocess, 4.0ms inference, 0.5ms postprocess per image at shape (1, 3, 160, 256)\n",
            "Distance: -567.8109130859375\n",
            "\n",
            "0: 160x256 1 Drones, 4.0ms\n",
            "Speed: 0.5ms preprocess, 4.0ms inference, 0.5ms postprocess per image at shape (1, 3, 160, 256)\n",
            "Distance: -567.762939453125\n",
            "\n",
            "0: 160x256 1 Drones, 4.3ms\n",
            "Speed: 0.4ms preprocess, 4.3ms inference, 0.5ms postprocess per image at shape (1, 3, 160, 256)\n",
            "Distance: -568.197998046875\n",
            "\n",
            "0: 160x256 1 Drones, 4.7ms\n",
            "Speed: 0.4ms preprocess, 4.7ms inference, 1.9ms postprocess per image at shape (1, 3, 160, 256)\n",
            "Distance: -568.384765625\n",
            "\n",
            "0: 160x256 1 Drones, 4.3ms\n",
            "Speed: 0.4ms preprocess, 4.3ms inference, 0.5ms postprocess per image at shape (1, 3, 160, 256)\n",
            "Distance: -569.211669921875\n",
            "\n",
            "0: 160x256 1 Drones, 4.2ms\n",
            "Speed: 0.4ms preprocess, 4.2ms inference, 0.8ms postprocess per image at shape (1, 3, 160, 256)\n",
            "Distance: -569.446044921875\n",
            "\n",
            "0: 160x256 1 Drones, 4.2ms\n",
            "Speed: 0.4ms preprocess, 4.2ms inference, 0.5ms postprocess per image at shape (1, 3, 160, 256)\n",
            "Distance: -569.150634765625\n",
            "\n",
            "0: 160x256 1 Drones, 4.0ms\n",
            "Speed: 0.4ms preprocess, 4.0ms inference, 0.5ms postprocess per image at shape (1, 3, 160, 256)\n",
            "Distance: -568.802001953125\n",
            "\n",
            "0: 160x256 1 Drones, 4.3ms\n",
            "Speed: 0.5ms preprocess, 4.3ms inference, 0.6ms postprocess per image at shape (1, 3, 160, 256)\n",
            "Distance: -568.7701416015625\n",
            "\n",
            "0: 160x256 2 Droness, 4.1ms\n",
            "Speed: 0.4ms preprocess, 4.1ms inference, 0.5ms postprocess per image at shape (1, 3, 160, 256)\n",
            "\n",
            "0: 160x256 2 Droness, 4.0ms\n",
            "Speed: 0.4ms preprocess, 4.0ms inference, 0.7ms postprocess per image at shape (1, 3, 160, 256)\n",
            "\n",
            "0: 160x256 1 Drones, 4.1ms\n",
            "Speed: 0.5ms preprocess, 4.1ms inference, 0.9ms postprocess per image at shape (1, 3, 160, 256)\n",
            "Distance: -569.553955078125\n",
            "\n",
            "0: 160x256 1 Drones, 4.0ms\n",
            "Speed: 0.4ms preprocess, 4.0ms inference, 0.5ms postprocess per image at shape (1, 3, 160, 256)\n",
            "Distance: -570.18505859375\n",
            "\n",
            "0: 160x256 1 Drones, 4.2ms\n",
            "Speed: 0.5ms preprocess, 4.2ms inference, 0.5ms postprocess per image at shape (1, 3, 160, 256)\n",
            "Distance: -570.58154296875\n",
            "\n",
            "0: 160x256 1 Drones, 11.8ms\n",
            "Speed: 1.4ms preprocess, 11.8ms inference, 1.3ms postprocess per image at shape (1, 3, 160, 256)\n",
            "Distance: -571.575439453125\n",
            "\n",
            "0: 160x256 1 Drones, 11.0ms\n",
            "Speed: 0.6ms preprocess, 11.0ms inference, 1.1ms postprocess per image at shape (1, 3, 160, 256)\n",
            "Distance: -572.172607421875\n",
            "\n",
            "0: 160x256 2 Droness, 10.9ms\n",
            "Speed: 0.7ms preprocess, 10.9ms inference, 1.1ms postprocess per image at shape (1, 3, 160, 256)\n",
            "\n",
            "0: 160x256 2 Droness, 10.9ms\n",
            "Speed: 0.6ms preprocess, 10.9ms inference, 1.0ms postprocess per image at shape (1, 3, 160, 256)\n",
            "\n",
            "0: 160x256 2 Droness, 11.0ms\n",
            "Speed: 0.8ms preprocess, 11.0ms inference, 1.1ms postprocess per image at shape (1, 3, 160, 256)\n",
            "\n",
            "0: 160x256 2 Droness, 11.0ms\n",
            "Speed: 0.6ms preprocess, 11.0ms inference, 1.1ms postprocess per image at shape (1, 3, 160, 256)\n",
            "\n",
            "0: 160x256 2 Droness, 11.0ms\n",
            "Speed: 0.8ms preprocess, 11.0ms inference, 1.1ms postprocess per image at shape (1, 3, 160, 256)\n",
            "\n",
            "0: 160x256 1 Drones, 11.0ms\n",
            "Speed: 0.6ms preprocess, 11.0ms inference, 1.1ms postprocess per image at shape (1, 3, 160, 256)\n",
            "Distance: -572.2928466796875\n",
            "\n",
            "0: 160x256 1 Drones, 11.1ms\n",
            "Speed: 0.7ms preprocess, 11.1ms inference, 1.0ms postprocess per image at shape (1, 3, 160, 256)\n",
            "Distance: -572.5911865234375\n",
            "\n",
            "0: 160x256 1 Drones, 10.9ms\n",
            "Speed: 0.5ms preprocess, 10.9ms inference, 1.1ms postprocess per image at shape (1, 3, 160, 256)\n",
            "Distance: -572.2939453125\n",
            "\n",
            "0: 160x256 1 Drones, 11.3ms\n",
            "Speed: 0.8ms preprocess, 11.3ms inference, 1.0ms postprocess per image at shape (1, 3, 160, 256)\n",
            "Distance: -572.4580078125\n",
            "\n",
            "0: 160x256 1 Drones, 10.9ms\n",
            "Speed: 0.7ms preprocess, 10.9ms inference, 1.1ms postprocess per image at shape (1, 3, 160, 256)\n",
            "Distance: -573.7222900390625\n",
            "\n",
            "0: 160x256 1 Drones, 11.3ms\n",
            "Speed: 0.7ms preprocess, 11.3ms inference, 1.1ms postprocess per image at shape (1, 3, 160, 256)\n",
            "Distance: -572.9813232421875\n",
            "\n",
            "0: 160x256 1 Drones, 11.5ms\n",
            "Speed: 0.6ms preprocess, 11.5ms inference, 1.1ms postprocess per image at shape (1, 3, 160, 256)\n",
            "Distance: -573.3218994140625\n",
            "\n",
            "0: 160x256 1 Drones, 11.1ms\n",
            "Speed: 0.7ms preprocess, 11.1ms inference, 1.1ms postprocess per image at shape (1, 3, 160, 256)\n",
            "Distance: -573.791748046875\n",
            "\n",
            "0: 160x256 1 Drones, 11.2ms\n",
            "Speed: 0.6ms preprocess, 11.2ms inference, 1.0ms postprocess per image at shape (1, 3, 160, 256)\n",
            "Distance: -571.98046875\n",
            "\n",
            "0: 160x256 1 Drones, 11.0ms\n",
            "Speed: 0.5ms preprocess, 11.0ms inference, 1.1ms postprocess per image at shape (1, 3, 160, 256)\n",
            "Distance: -571.857666015625\n",
            "\n",
            "0: 160x256 1 Drones, 11.5ms\n",
            "Speed: 0.7ms preprocess, 11.5ms inference, 1.3ms postprocess per image at shape (1, 3, 160, 256)\n",
            "Distance: -573.2900390625\n",
            "\n",
            "0: 160x256 1 Drones, 4.0ms\n",
            "Speed: 0.5ms preprocess, 4.0ms inference, 0.7ms postprocess per image at shape (1, 3, 160, 256)\n",
            "Distance: -574.272216796875\n",
            "\n",
            "0: 160x256 1 Drones, 4.0ms\n",
            "Speed: 0.4ms preprocess, 4.0ms inference, 0.5ms postprocess per image at shape (1, 3, 160, 256)\n",
            "Distance: -573.541259765625\n",
            "\n",
            "0: 160x256 1 Drones, 6.5ms\n",
            "Speed: 0.7ms preprocess, 6.5ms inference, 0.6ms postprocess per image at shape (1, 3, 160, 256)\n",
            "Distance: -572.044189453125\n",
            "\n",
            "0: 160x256 1 Drones, 4.2ms\n",
            "Speed: 0.5ms preprocess, 4.2ms inference, 0.5ms postprocess per image at shape (1, 3, 160, 256)\n",
            "Distance: -571.20263671875\n",
            "\n",
            "0: 160x256 1 Drones, 4.4ms\n",
            "Speed: 0.4ms preprocess, 4.4ms inference, 0.5ms postprocess per image at shape (1, 3, 160, 256)\n",
            "Distance: -571.87548828125\n",
            "\n",
            "0: 160x256 1 Drones, 4.0ms\n",
            "Speed: 0.4ms preprocess, 4.0ms inference, 0.5ms postprocess per image at shape (1, 3, 160, 256)\n",
            "Distance: -572.266357421875\n",
            "\n",
            "0: 160x256 1 Drones, 3.9ms\n",
            "Speed: 0.4ms preprocess, 3.9ms inference, 0.5ms postprocess per image at shape (1, 3, 160, 256)\n",
            "Distance: -571.81884765625\n",
            "\n",
            "0: 160x256 1 Drones, 4.2ms\n",
            "Speed: 0.4ms preprocess, 4.2ms inference, 0.5ms postprocess per image at shape (1, 3, 160, 256)\n",
            "Distance: -571.240966796875\n",
            "\n",
            "0: 160x256 1 Drones, 4.0ms\n",
            "Speed: 0.4ms preprocess, 4.0ms inference, 0.6ms postprocess per image at shape (1, 3, 160, 256)\n",
            "Distance: -570.577880859375\n",
            "\n",
            "0: 160x256 1 Drones, 4.0ms\n",
            "Speed: 0.4ms preprocess, 4.0ms inference, 0.5ms postprocess per image at shape (1, 3, 160, 256)\n",
            "Distance: -571.28564453125\n",
            "\n",
            "0: 160x256 1 Drones, 4.1ms\n",
            "Speed: 0.4ms preprocess, 4.1ms inference, 0.5ms postprocess per image at shape (1, 3, 160, 256)\n",
            "Distance: -570.061767578125\n",
            "\n",
            "0: 160x256 1 Drones, 4.1ms\n",
            "Speed: 0.5ms preprocess, 4.1ms inference, 0.7ms postprocess per image at shape (1, 3, 160, 256)\n",
            "Distance: -569.58203125\n",
            "\n",
            "0: 160x256 1 Drones, 4.1ms\n",
            "Speed: 0.8ms preprocess, 4.1ms inference, 0.5ms postprocess per image at shape (1, 3, 160, 256)\n",
            "Distance: -568.59130859375\n",
            "\n",
            "0: 160x256 1 Drones, 4.2ms\n",
            "Speed: 0.4ms preprocess, 4.2ms inference, 0.5ms postprocess per image at shape (1, 3, 160, 256)\n",
            "Distance: -568.3856201171875\n",
            "\n",
            "0: 160x256 1 Drones, 4.2ms\n",
            "Speed: 0.4ms preprocess, 4.2ms inference, 0.5ms postprocess per image at shape (1, 3, 160, 256)\n",
            "Distance: -566.5667724609375\n",
            "\n",
            "0: 160x256 1 Drones, 4.0ms\n",
            "Speed: 0.4ms preprocess, 4.0ms inference, 0.5ms postprocess per image at shape (1, 3, 160, 256)\n",
            "Distance: -567.0594482421875\n",
            "\n",
            "0: 160x256 1 Drones, 5.8ms\n",
            "Speed: 0.7ms preprocess, 5.8ms inference, 0.9ms postprocess per image at shape (1, 3, 160, 256)\n",
            "Distance: -565.9957275390625\n",
            "\n",
            "0: 160x256 1 Drones, 4.3ms\n",
            "Speed: 0.4ms preprocess, 4.3ms inference, 1.3ms postprocess per image at shape (1, 3, 160, 256)\n",
            "Distance: -564.370849609375\n",
            "\n",
            "0: 160x256 1 Drones, 4.1ms\n",
            "Speed: 0.4ms preprocess, 4.1ms inference, 0.6ms postprocess per image at shape (1, 3, 160, 256)\n",
            "Distance: -564.9580078125\n",
            "\n",
            "0: 160x256 1 Drones, 4.0ms\n",
            "Speed: 0.4ms preprocess, 4.0ms inference, 0.5ms postprocess per image at shape (1, 3, 160, 256)\n",
            "Distance: -566.885986328125\n",
            "\n",
            "0: 160x256 1 Drones, 4.0ms\n",
            "Speed: 0.4ms preprocess, 4.0ms inference, 0.5ms postprocess per image at shape (1, 3, 160, 256)\n",
            "Distance: -566.3712158203125\n",
            "\n",
            "0: 160x256 1 Drones, 4.0ms\n",
            "Speed: 0.4ms preprocess, 4.0ms inference, 0.5ms postprocess per image at shape (1, 3, 160, 256)\n",
            "Distance: -564.201904296875\n",
            "\n",
            "0: 160x256 1 Drones, 3.9ms\n",
            "Speed: 0.4ms preprocess, 3.9ms inference, 0.6ms postprocess per image at shape (1, 3, 160, 256)\n",
            "Distance: -562.05322265625\n",
            "\n",
            "0: 160x256 1 Drones, 4.0ms\n",
            "Speed: 0.4ms preprocess, 4.0ms inference, 0.5ms postprocess per image at shape (1, 3, 160, 256)\n",
            "Distance: -562.010498046875\n",
            "\n",
            "0: 160x256 1 Drones, 4.2ms\n",
            "Speed: 0.5ms preprocess, 4.2ms inference, 0.5ms postprocess per image at shape (1, 3, 160, 256)\n",
            "Distance: -562.754150390625\n",
            "\n",
            "0: 160x256 1 Drones, 4.2ms\n",
            "Speed: 0.6ms preprocess, 4.2ms inference, 0.5ms postprocess per image at shape (1, 3, 160, 256)\n",
            "Distance: -563.55712890625\n",
            "\n",
            "0: 160x256 1 Drones, 4.0ms\n",
            "Speed: 0.5ms preprocess, 4.0ms inference, 0.5ms postprocess per image at shape (1, 3, 160, 256)\n",
            "Distance: -562.683837890625\n",
            "\n",
            "0: 160x256 1 Drones, 4.1ms\n",
            "Speed: 0.5ms preprocess, 4.1ms inference, 0.5ms postprocess per image at shape (1, 3, 160, 256)\n",
            "Distance: -561.38330078125\n",
            "\n",
            "0: 160x256 1 Drones, 4.1ms\n",
            "Speed: 0.5ms preprocess, 4.1ms inference, 0.5ms postprocess per image at shape (1, 3, 160, 256)\n",
            "Distance: -558.5452880859375\n",
            "\n",
            "0: 160x256 1 Drones, 4.3ms\n",
            "Speed: 0.5ms preprocess, 4.3ms inference, 0.6ms postprocess per image at shape (1, 3, 160, 256)\n",
            "Distance: -557.438720703125\n",
            "\n",
            "0: 160x256 1 Drones, 4.2ms\n",
            "Speed: 0.5ms preprocess, 4.2ms inference, 0.8ms postprocess per image at shape (1, 3, 160, 256)\n",
            "Distance: -555.4482421875\n",
            "\n",
            "0: 160x256 1 Drones, 4.8ms\n",
            "Speed: 0.4ms preprocess, 4.8ms inference, 0.7ms postprocess per image at shape (1, 3, 160, 256)\n",
            "Distance: -555.7108154296875\n",
            "\n",
            "0: 160x256 1 Drones, 4.2ms\n",
            "Speed: 0.4ms preprocess, 4.2ms inference, 0.5ms postprocess per image at shape (1, 3, 160, 256)\n",
            "Distance: -552.73486328125\n",
            "\n",
            "0: 160x256 1 Drones, 11.7ms\n",
            "Speed: 0.8ms preprocess, 11.7ms inference, 1.3ms postprocess per image at shape (1, 3, 160, 256)\n",
            "Distance: -555.2587890625\n",
            "\n",
            "0: 160x256 1 Drones, 11.0ms\n",
            "Speed: 0.6ms preprocess, 11.0ms inference, 1.1ms postprocess per image at shape (1, 3, 160, 256)\n",
            "Distance: -557.8570556640625\n",
            "\n",
            "0: 160x256 1 Drones, 11.4ms\n",
            "Speed: 0.7ms preprocess, 11.4ms inference, 1.1ms postprocess per image at shape (1, 3, 160, 256)\n",
            "Distance: -554.158935546875\n",
            "\n",
            "0: 160x256 1 Drones, 11.0ms\n",
            "Speed: 0.6ms preprocess, 11.0ms inference, 1.1ms postprocess per image at shape (1, 3, 160, 256)\n",
            "Distance: -547.8004150390625\n",
            "\n",
            "0: 160x256 1 Drones, 11.0ms\n",
            "Speed: 0.6ms preprocess, 11.0ms inference, 1.1ms postprocess per image at shape (1, 3, 160, 256)\n",
            "Distance: -547.092041015625\n",
            "\n",
            "0: 160x256 1 Drones, 11.2ms\n",
            "Speed: 0.6ms preprocess, 11.2ms inference, 1.1ms postprocess per image at shape (1, 3, 160, 256)\n",
            "Distance: -548.6319580078125\n",
            "\n",
            "0: 160x256 1 Drones, 11.0ms\n",
            "Speed: 0.7ms preprocess, 11.0ms inference, 1.0ms postprocess per image at shape (1, 3, 160, 256)\n",
            "Distance: -547.601806640625\n",
            "\n",
            "0: 160x256 1 Drones, 10.9ms\n",
            "Speed: 0.5ms preprocess, 10.9ms inference, 1.1ms postprocess per image at shape (1, 3, 160, 256)\n",
            "Distance: -542.406982421875\n",
            "\n",
            "0: 160x256 1 Drones, 11.7ms\n",
            "Speed: 0.7ms preprocess, 11.7ms inference, 1.1ms postprocess per image at shape (1, 3, 160, 256)\n",
            "Distance: -537.973388671875\n",
            "\n",
            "0: 160x256 1 Drones, 11.5ms\n",
            "Speed: 0.7ms preprocess, 11.5ms inference, 1.1ms postprocess per image at shape (1, 3, 160, 256)\n",
            "Distance: -542.4970703125\n",
            "\n",
            "0: 160x256 1 Drones, 10.9ms\n",
            "Speed: 0.5ms preprocess, 10.9ms inference, 1.0ms postprocess per image at shape (1, 3, 160, 256)\n",
            "Distance: -546.8780517578125\n",
            "\n",
            "0: 160x256 1 Drones, 10.8ms\n",
            "Speed: 0.6ms preprocess, 10.8ms inference, 1.1ms postprocess per image at shape (1, 3, 160, 256)\n",
            "Distance: -545.45751953125\n",
            "\n",
            "0: 160x256 1 Drones, 10.8ms\n",
            "Speed: 0.7ms preprocess, 10.8ms inference, 1.0ms postprocess per image at shape (1, 3, 160, 256)\n",
            "Distance: -541.00634765625\n",
            "\n",
            "0: 160x256 1 Drones, 11.1ms\n",
            "Speed: 0.7ms preprocess, 11.1ms inference, 1.1ms postprocess per image at shape (1, 3, 160, 256)\n",
            "Distance: -544.103759765625\n",
            "\n",
            "0: 160x256 1 Drones, 13.8ms\n",
            "Speed: 0.8ms preprocess, 13.8ms inference, 1.6ms postprocess per image at shape (1, 3, 160, 256)\n",
            "Distance: -545.052490234375\n",
            "\n",
            "0: 160x256 1 Drones, 14.0ms\n",
            "Speed: 0.7ms preprocess, 14.0ms inference, 1.3ms postprocess per image at shape (1, 3, 160, 256)\n",
            "Distance: -540.362060546875\n",
            "\n",
            "0: 160x256 1 Drones, 14.5ms\n",
            "Speed: 0.6ms preprocess, 14.5ms inference, 1.5ms postprocess per image at shape (1, 3, 160, 256)\n",
            "Distance: -533.2806396484375\n",
            "\n",
            "0: 160x256 1 Drones, 11.6ms\n",
            "Speed: 0.8ms preprocess, 11.6ms inference, 1.2ms postprocess per image at shape (1, 3, 160, 256)\n",
            "Distance: -538.3336181640625\n",
            "\n",
            "0: 160x256 1 Drones, 11.9ms\n",
            "Speed: 1.1ms preprocess, 11.9ms inference, 2.1ms postprocess per image at shape (1, 3, 160, 256)\n",
            "Distance: -533.2142333984375\n",
            "\n",
            "0: 160x256 1 Drones, 11.1ms\n",
            "Speed: 0.7ms preprocess, 11.1ms inference, 1.1ms postprocess per image at shape (1, 3, 160, 256)\n",
            "Distance: -531.9090576171875\n",
            "\n",
            "0: 160x256 1 Drones, 11.2ms\n",
            "Speed: 0.7ms preprocess, 11.2ms inference, 1.1ms postprocess per image at shape (1, 3, 160, 256)\n",
            "Distance: -536.0177001953125\n",
            "\n",
            "0: 160x256 1 Drones, 11.1ms\n",
            "Speed: 0.6ms preprocess, 11.1ms inference, 1.1ms postprocess per image at shape (1, 3, 160, 256)\n",
            "Distance: -526.287109375\n",
            "\n",
            "0: 160x256 1 Drones, 11.0ms\n",
            "Speed: 0.7ms preprocess, 11.0ms inference, 1.5ms postprocess per image at shape (1, 3, 160, 256)\n",
            "Distance: -519.080322265625\n",
            "\n",
            "0: 160x256 1 Drones, 11.2ms\n",
            "Speed: 0.7ms preprocess, 11.2ms inference, 1.1ms postprocess per image at shape (1, 3, 160, 256)\n",
            "Distance: -519.9447021484375\n",
            "\n",
            "0: 160x256 1 Drones, 11.2ms\n",
            "Speed: 0.6ms preprocess, 11.2ms inference, 1.3ms postprocess per image at shape (1, 3, 160, 256)\n",
            "Distance: -512.0078125\n",
            "\n",
            "0: 160x256 1 Drones, 11.3ms\n",
            "Speed: 0.7ms preprocess, 11.3ms inference, 1.1ms postprocess per image at shape (1, 3, 160, 256)\n",
            "Distance: -512.45947265625\n",
            "\n",
            "0: 160x256 1 Drones, 11.1ms\n",
            "Speed: 0.9ms preprocess, 11.1ms inference, 1.2ms postprocess per image at shape (1, 3, 160, 256)\n",
            "Distance: -495.5562744140625\n",
            "\n",
            "0: 160x256 1 Drones, 12.4ms\n",
            "Speed: 0.6ms preprocess, 12.4ms inference, 1.1ms postprocess per image at shape (1, 3, 160, 256)\n",
            "Distance: -510.05322265625\n",
            "\n",
            "0: 160x256 1 Drones, 11.0ms\n",
            "Speed: 0.5ms preprocess, 11.0ms inference, 1.5ms postprocess per image at shape (1, 3, 160, 256)\n",
            "Distance: -504.803466796875\n",
            "\n",
            "0: 160x256 1 Drones, 11.6ms\n",
            "Speed: 0.5ms preprocess, 11.6ms inference, 1.1ms postprocess per image at shape (1, 3, 160, 256)\n",
            "Distance: -501.6298828125\n",
            "\n",
            "0: 160x256 1 Drones, 4.0ms\n",
            "Speed: 0.5ms preprocess, 4.0ms inference, 0.5ms postprocess per image at shape (1, 3, 160, 256)\n",
            "Distance: -491.968017578125\n",
            "\n",
            "0: 160x256 1 Drones, 4.0ms\n",
            "Speed: 0.4ms preprocess, 4.0ms inference, 0.5ms postprocess per image at shape (1, 3, 160, 256)\n",
            "Distance: -499.1279296875\n",
            "\n",
            "0: 160x256 1 Drones, 4.2ms\n",
            "Speed: 0.6ms preprocess, 4.2ms inference, 0.6ms postprocess per image at shape (1, 3, 160, 256)\n",
            "Distance: -500.1893310546875\n",
            "\n",
            "0: 160x256 1 Drones, 5.5ms\n",
            "Speed: 0.6ms preprocess, 5.5ms inference, 0.5ms postprocess per image at shape (1, 3, 160, 256)\n",
            "Distance: -496.190673828125\n",
            "\n",
            "0: 160x256 1 Drones, 4.0ms\n",
            "Speed: 0.3ms preprocess, 4.0ms inference, 0.5ms postprocess per image at shape (1, 3, 160, 256)\n",
            "Distance: -484.4970703125\n",
            "\n",
            "0: 160x256 1 Drones, 4.0ms\n",
            "Speed: 0.3ms preprocess, 4.0ms inference, 0.5ms postprocess per image at shape (1, 3, 160, 256)\n",
            "Distance: -475.168701171875\n",
            "\n",
            "0: 160x256 1 Drones, 4.3ms\n",
            "Speed: 0.4ms preprocess, 4.3ms inference, 0.5ms postprocess per image at shape (1, 3, 160, 256)\n",
            "Distance: -466.9990234375\n",
            "\n",
            "0: 160x256 1 Drones, 4.1ms\n",
            "Speed: 0.4ms preprocess, 4.1ms inference, 1.0ms postprocess per image at shape (1, 3, 160, 256)\n",
            "Distance: -472.7222900390625\n",
            "\n",
            "0: 160x256 1 Drones, 4.3ms\n",
            "Speed: 0.6ms preprocess, 4.3ms inference, 0.5ms postprocess per image at shape (1, 3, 160, 256)\n",
            "Distance: -471.3985595703125\n",
            "\n",
            "0: 160x256 1 Drones, 4.1ms\n",
            "Speed: 0.6ms preprocess, 4.1ms inference, 0.5ms postprocess per image at shape (1, 3, 160, 256)\n",
            "Distance: -452.01708984375\n",
            "\n",
            "0: 160x256 1 Drones, 4.9ms\n",
            "Speed: 0.8ms preprocess, 4.9ms inference, 0.5ms postprocess per image at shape (1, 3, 160, 256)\n",
            "Distance: -454.420654296875\n",
            "\n",
            "0: 160x256 1 Drones, 4.2ms\n",
            "Speed: 0.5ms preprocess, 4.2ms inference, 0.6ms postprocess per image at shape (1, 3, 160, 256)\n",
            "Distance: -452.195556640625\n",
            "\n",
            "0: 160x256 1 Drones, 4.4ms\n",
            "Speed: 0.8ms preprocess, 4.4ms inference, 0.5ms postprocess per image at shape (1, 3, 160, 256)\n",
            "Distance: -441.6339111328125\n",
            "\n",
            "0: 160x256 1 Drones, 4.4ms\n",
            "Speed: 0.6ms preprocess, 4.4ms inference, 0.5ms postprocess per image at shape (1, 3, 160, 256)\n",
            "Distance: -437.6492919921875\n",
            "\n",
            "0: 160x256 1 Drones, 6.7ms\n",
            "Speed: 0.7ms preprocess, 6.7ms inference, 1.1ms postprocess per image at shape (1, 3, 160, 256)\n",
            "Distance: -423.4578857421875\n",
            "\n",
            "0: 160x256 1 Drones, 4.2ms\n",
            "Speed: 0.5ms preprocess, 4.2ms inference, 0.5ms postprocess per image at shape (1, 3, 160, 256)\n",
            "Distance: -405.3780517578125\n",
            "\n",
            "0: 160x256 1 Drones, 4.6ms\n",
            "Speed: 0.4ms preprocess, 4.6ms inference, 0.6ms postprocess per image at shape (1, 3, 160, 256)\n",
            "Distance: -406.0377197265625\n",
            "\n",
            "0: 160x256 1 Drones, 5.2ms\n",
            "Speed: 0.5ms preprocess, 5.2ms inference, 1.3ms postprocess per image at shape (1, 3, 160, 256)\n",
            "Distance: -382.846923828125\n",
            "\n",
            "0: 160x256 1 Drones, 4.0ms\n",
            "Speed: 0.5ms preprocess, 4.0ms inference, 0.5ms postprocess per image at shape (1, 3, 160, 256)\n",
            "Distance: -368.848876953125\n",
            "\n",
            "0: 160x256 1 Drones, 4.0ms\n",
            "Speed: 0.5ms preprocess, 4.0ms inference, 0.5ms postprocess per image at shape (1, 3, 160, 256)\n",
            "Distance: -364.70947265625\n",
            "\n",
            "0: 160x256 1 Drones, 4.0ms\n",
            "Speed: 0.4ms preprocess, 4.0ms inference, 0.5ms postprocess per image at shape (1, 3, 160, 256)\n",
            "Distance: -368.54541015625\n",
            "\n",
            "0: 160x256 1 Drones, 4.2ms\n",
            "Speed: 1.0ms preprocess, 4.2ms inference, 0.9ms postprocess per image at shape (1, 3, 160, 256)\n",
            "Distance: -352.173828125\n",
            "\n",
            "0: 160x256 1 Drones, 4.1ms\n",
            "Speed: 0.9ms preprocess, 4.1ms inference, 0.5ms postprocess per image at shape (1, 3, 160, 256)\n",
            "Distance: -345.6923828125\n",
            "\n",
            "0: 160x256 1 Drones, 4.1ms\n",
            "Speed: 0.6ms preprocess, 4.1ms inference, 1.3ms postprocess per image at shape (1, 3, 160, 256)\n",
            "Distance: -333.72509765625\n",
            "\n",
            "0: 160x256 1 Drones, 4.1ms\n",
            "Speed: 0.5ms preprocess, 4.1ms inference, 0.6ms postprocess per image at shape (1, 3, 160, 256)\n",
            "Distance: -324.702392578125\n",
            "\n",
            "0: 160x256 1 Drones, 4.2ms\n",
            "Speed: 0.7ms preprocess, 4.2ms inference, 0.5ms postprocess per image at shape (1, 3, 160, 256)\n",
            "Distance: -309.539306640625\n",
            "\n",
            "0: 160x256 1 Drones, 4.1ms\n",
            "Speed: 0.4ms preprocess, 4.1ms inference, 0.5ms postprocess per image at shape (1, 3, 160, 256)\n",
            "Distance: -291.26025390625\n",
            "\n",
            "0: 160x256 1 Drones, 4.1ms\n",
            "Speed: 0.4ms preprocess, 4.1ms inference, 0.5ms postprocess per image at shape (1, 3, 160, 256)\n",
            "Distance: -282.69287109375\n",
            "\n",
            "0: 160x256 1 Drones, 4.2ms\n",
            "Speed: 0.5ms preprocess, 4.2ms inference, 0.5ms postprocess per image at shape (1, 3, 160, 256)\n",
            "Distance: -282.658447265625\n",
            "\n",
            "0: 160x256 1 Drones, 4.1ms\n",
            "Speed: 0.5ms preprocess, 4.1ms inference, 0.5ms postprocess per image at shape (1, 3, 160, 256)\n",
            "Distance: -275.6754150390625\n",
            "\n",
            "0: 160x256 1 Drones, 4.1ms\n",
            "Speed: 0.5ms preprocess, 4.1ms inference, 0.5ms postprocess per image at shape (1, 3, 160, 256)\n",
            "Distance: -275.6068115234375\n",
            "\n",
            "0: 160x256 1 Drones, 4.0ms\n",
            "Speed: 0.4ms preprocess, 4.0ms inference, 0.5ms postprocess per image at shape (1, 3, 160, 256)\n",
            "Distance: -275.728759765625\n",
            "\n",
            "0: 160x256 1 Drones, 4.2ms\n",
            "Speed: 0.6ms preprocess, 4.2ms inference, 0.5ms postprocess per image at shape (1, 3, 160, 256)\n",
            "Distance: -275.9578857421875\n",
            "\n",
            "0: 160x256 1 Drones, 5.0ms\n",
            "Speed: 0.4ms preprocess, 5.0ms inference, 0.9ms postprocess per image at shape (1, 3, 160, 256)\n",
            "Distance: -276.2427978515625\n"
          ]
        }
      ],
      "source": [
        "import cv2\n",
        "import cvzone\n",
        "\n",
        "# Load the video\n",
        "video = cv2.VideoCapture('drone.mp4')\n",
        "\n",
        "# Get the width and height of the frames in the video\n",
        "frame_width = int(video.get(3))\n",
        "frame_height = int(video.get(4))\n",
        "\n",
        "# Define the codec and create a VideoWriter object\n",
        "output_video = cv2.VideoWriter('processed_video4.mp4', cv2.VideoWriter_fourcc(*'mp4v'), 30, (frame_width, frame_height))\n",
        "\n",
        "while True:\n",
        "    # Read the next frame from the video\n",
        "    ret, frame = video.read()\n",
        "    if not ret:\n",
        "        break\n",
        "\n",
        "    # Perform object detection\n",
        "    result = model.predict(frame)\n",
        "\n",
        "    # Process the detection results\n",
        "    for detection in result:\n",
        "        boxes = sorted(detection.boxes, key=lambda b: b.xywh[0][2] * b.xywh[0][3])\n",
        "\n",
        "        if boxes:\n",
        "            box = boxes[-1]\n",
        "            if box.conf[0].item() < 0.7:\n",
        "                continue\n",
        "\n",
        "            x, y, w, h = box.xywh[0]\n",
        "            rect = int(x - w / 2), int(y - h / 2), int(w), int(h)\n",
        "\n",
        "            # Calculate the distance (you may need to adjust this calculation based on your specific use case)\n",
        "            distance = -(x - frame.shape[1] / 2)\n",
        "\n",
        "            # Print the distance (replace this with your desired action)\n",
        "            print(f'Distance: {distance}')\n",
        "\n",
        "            # Draw a rectangle around the detected drone\n",
        "            cvzone.cornerRect(frame, rect, l=5, rt=3)\n",
        "\n",
        "    # Write the frame to the output video\n",
        "    output_video.write(frame)\n",
        "\n",
        "    # Display the frame with the detected drone\n",
        "\n",
        "    # Exit the video display if 'q' is pressed\n",
        "\n",
        "\n",
        "# Release the video capture and writer objects, and close all OpenCV windows\n",
        "video.release()\n",
        "output_video.release()\n"
      ]
    }
  ],
  "metadata": {
    "colab": {
      "provenance": []
    },
    "kernelspec": {
      "display_name": "Python 3",
      "name": "python3"
    },
    "language_info": {
      "codemirror_mode": {
        "name": "ipython",
        "version": 3
      },
      "file_extension": ".py",
      "mimetype": "text/x-python",
      "name": "python",
      "nbconvert_exporter": "python",
      "pygments_lexer": "ipython3",
      "version": "3.10.12"
    }
  },
  "nbformat": 4,
  "nbformat_minor": 0
}
